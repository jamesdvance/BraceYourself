{
  "nbformat": 4,
  "nbformat_minor": 0,
  "metadata": {
    "colab": {
      "provenance": [],
      "machine_shape": "hm",
      "gpuType": "V100",
      "mount_file_id": "1n9PJOG-CHRIVR2NO8tWvN_l_JYanEFVr",
      "authorship_tag": "ABX9TyM3Du7i/Ot7TKoSpoc3hHv5",
      "include_colab_link": true
    },
    "kernelspec": {
      "name": "python3",
      "display_name": "Python 3"
    },
    "language_info": {
      "name": "python"
    },
    "accelerator": "GPU"
  },
  "cells": [
    {
      "cell_type": "markdown",
      "metadata": {
        "id": "view-in-github",
        "colab_type": "text"
      },
      "source": [
        "<a href=\"https://colab.research.google.com/github/jamesdvance/BraceYourself/blob/main/Fine_Tune_Teeth_model_RCNN.ipynb\" target=\"_parent\"><img src=\"https://colab.research.google.com/assets/colab-badge.svg\" alt=\"Open In Colab\"/></a>"
      ]
    },
    {
      "cell_type": "code",
      "execution_count": 1,
      "metadata": {
        "id": "lqDWJl8G3IPe"
      },
      "outputs": [],
      "source": [
        "import pandas as pd\n",
        "import numpy as np"
      ]
    },
    {
      "cell_type": "code",
      "source": [
        "! pip install ultralytics"
      ],
      "metadata": {
        "colab": {
          "base_uri": "https://localhost:8080/"
        },
        "id": "r6cacBscFGOa",
        "outputId": "50e92284-0d68-4bb1-d2f0-504d1513f2ee"
      },
      "execution_count": 2,
      "outputs": [
        {
          "output_type": "stream",
          "name": "stdout",
          "text": [
            "Collecting ultralytics\n",
            "  Downloading ultralytics-8.0.217-py3-none-any.whl (645 kB)\n",
            "\u001b[2K     \u001b[90m━━━━━━━━━━━━━━━━━━━━━━━━━━━━━━━━━━━━━━━━\u001b[0m \u001b[32m645.7/645.7 kB\u001b[0m \u001b[31m11.4 MB/s\u001b[0m eta \u001b[36m0:00:00\u001b[0m\n",
            "\u001b[?25hRequirement already satisfied: matplotlib>=3.3.0 in /usr/local/lib/python3.10/dist-packages (from ultralytics) (3.7.1)\n",
            "Requirement already satisfied: numpy>=1.22.2 in /usr/local/lib/python3.10/dist-packages (from ultralytics) (1.23.5)\n",
            "Requirement already satisfied: opencv-python>=4.6.0 in /usr/local/lib/python3.10/dist-packages (from ultralytics) (4.8.0.76)\n",
            "Requirement already satisfied: pillow>=7.1.2 in /usr/local/lib/python3.10/dist-packages (from ultralytics) (9.4.0)\n",
            "Requirement already satisfied: pyyaml>=5.3.1 in /usr/local/lib/python3.10/dist-packages (from ultralytics) (6.0.1)\n",
            "Requirement already satisfied: requests>=2.23.0 in /usr/local/lib/python3.10/dist-packages (from ultralytics) (2.31.0)\n",
            "Requirement already satisfied: scipy>=1.4.1 in /usr/local/lib/python3.10/dist-packages (from ultralytics) (1.11.3)\n",
            "Requirement already satisfied: torch>=1.8.0 in /usr/local/lib/python3.10/dist-packages (from ultralytics) (2.1.0+cu118)\n",
            "Requirement already satisfied: torchvision>=0.9.0 in /usr/local/lib/python3.10/dist-packages (from ultralytics) (0.16.0+cu118)\n",
            "Requirement already satisfied: tqdm>=4.64.0 in /usr/local/lib/python3.10/dist-packages (from ultralytics) (4.66.1)\n",
            "Requirement already satisfied: pandas>=1.1.4 in /usr/local/lib/python3.10/dist-packages (from ultralytics) (1.5.3)\n",
            "Requirement already satisfied: seaborn>=0.11.0 in /usr/local/lib/python3.10/dist-packages (from ultralytics) (0.12.2)\n",
            "Requirement already satisfied: psutil in /usr/local/lib/python3.10/dist-packages (from ultralytics) (5.9.5)\n",
            "Requirement already satisfied: py-cpuinfo in /usr/local/lib/python3.10/dist-packages (from ultralytics) (9.0.0)\n",
            "Collecting thop>=0.1.1 (from ultralytics)\n",
            "  Downloading thop-0.1.1.post2209072238-py3-none-any.whl (15 kB)\n",
            "Requirement already satisfied: contourpy>=1.0.1 in /usr/local/lib/python3.10/dist-packages (from matplotlib>=3.3.0->ultralytics) (1.2.0)\n",
            "Requirement already satisfied: cycler>=0.10 in /usr/local/lib/python3.10/dist-packages (from matplotlib>=3.3.0->ultralytics) (0.12.1)\n",
            "Requirement already satisfied: fonttools>=4.22.0 in /usr/local/lib/python3.10/dist-packages (from matplotlib>=3.3.0->ultralytics) (4.44.3)\n",
            "Requirement already satisfied: kiwisolver>=1.0.1 in /usr/local/lib/python3.10/dist-packages (from matplotlib>=3.3.0->ultralytics) (1.4.5)\n",
            "Requirement already satisfied: packaging>=20.0 in /usr/local/lib/python3.10/dist-packages (from matplotlib>=3.3.0->ultralytics) (23.2)\n",
            "Requirement already satisfied: pyparsing>=2.3.1 in /usr/local/lib/python3.10/dist-packages (from matplotlib>=3.3.0->ultralytics) (3.1.1)\n",
            "Requirement already satisfied: python-dateutil>=2.7 in /usr/local/lib/python3.10/dist-packages (from matplotlib>=3.3.0->ultralytics) (2.8.2)\n",
            "Requirement already satisfied: pytz>=2020.1 in /usr/local/lib/python3.10/dist-packages (from pandas>=1.1.4->ultralytics) (2023.3.post1)\n",
            "Requirement already satisfied: charset-normalizer<4,>=2 in /usr/local/lib/python3.10/dist-packages (from requests>=2.23.0->ultralytics) (3.3.2)\n",
            "Requirement already satisfied: idna<4,>=2.5 in /usr/local/lib/python3.10/dist-packages (from requests>=2.23.0->ultralytics) (3.4)\n",
            "Requirement already satisfied: urllib3<3,>=1.21.1 in /usr/local/lib/python3.10/dist-packages (from requests>=2.23.0->ultralytics) (2.0.7)\n",
            "Requirement already satisfied: certifi>=2017.4.17 in /usr/local/lib/python3.10/dist-packages (from requests>=2.23.0->ultralytics) (2023.7.22)\n",
            "Requirement already satisfied: filelock in /usr/local/lib/python3.10/dist-packages (from torch>=1.8.0->ultralytics) (3.13.1)\n",
            "Requirement already satisfied: typing-extensions in /usr/local/lib/python3.10/dist-packages (from torch>=1.8.0->ultralytics) (4.5.0)\n",
            "Requirement already satisfied: sympy in /usr/local/lib/python3.10/dist-packages (from torch>=1.8.0->ultralytics) (1.12)\n",
            "Requirement already satisfied: networkx in /usr/local/lib/python3.10/dist-packages (from torch>=1.8.0->ultralytics) (3.2.1)\n",
            "Requirement already satisfied: jinja2 in /usr/local/lib/python3.10/dist-packages (from torch>=1.8.0->ultralytics) (3.1.2)\n",
            "Requirement already satisfied: fsspec in /usr/local/lib/python3.10/dist-packages (from torch>=1.8.0->ultralytics) (2023.6.0)\n",
            "Requirement already satisfied: triton==2.1.0 in /usr/local/lib/python3.10/dist-packages (from torch>=1.8.0->ultralytics) (2.1.0)\n",
            "Requirement already satisfied: six>=1.5 in /usr/local/lib/python3.10/dist-packages (from python-dateutil>=2.7->matplotlib>=3.3.0->ultralytics) (1.16.0)\n",
            "Requirement already satisfied: MarkupSafe>=2.0 in /usr/local/lib/python3.10/dist-packages (from jinja2->torch>=1.8.0->ultralytics) (2.1.3)\n",
            "Requirement already satisfied: mpmath>=0.19 in /usr/local/lib/python3.10/dist-packages (from sympy->torch>=1.8.0->ultralytics) (1.3.0)\n",
            "Installing collected packages: thop, ultralytics\n",
            "Successfully installed thop-0.1.1.post2209072238 ultralytics-8.0.217\n"
          ]
        }
      ]
    },
    {
      "cell_type": "code",
      "source": [
        "from ultralytics import YOLO"
      ],
      "metadata": {
        "id": "CVk_eKL8A3KA"
      },
      "execution_count": 3,
      "outputs": []
    },
    {
      "cell_type": "code",
      "source": [
        "yolo = YOLO(\"yolov8n.pt\")"
      ],
      "metadata": {
        "colab": {
          "base_uri": "https://localhost:8080/"
        },
        "id": "sDo0Be8hFZby",
        "outputId": "83a179a7-403a-431b-f43a-b7310f2c4b76"
      },
      "execution_count": 4,
      "outputs": [
        {
          "output_type": "stream",
          "name": "stdout",
          "text": [
            "Downloading https://github.com/ultralytics/assets/releases/download/v0.0.0/yolov8n.pt to 'yolov8n.pt'...\n"
          ]
        },
        {
          "output_type": "stream",
          "name": "stderr",
          "text": [
            "100%|██████████| 6.23M/6.23M [00:00<00:00, 267MB/s]\n"
          ]
        }
      ]
    },
    {
      "cell_type": "code",
      "source": [
        "! ls ./drive/MyDrive/teeth_yolov8_format/tooth.v1i.yolov8/data.yaml"
      ],
      "metadata": {
        "colab": {
          "base_uri": "https://localhost:8080/"
        },
        "id": "OPQCRbRHHgxI",
        "outputId": "4067ec5e-4b7f-491b-f0db-94baafd30785"
      },
      "execution_count": 5,
      "outputs": [
        {
          "output_type": "stream",
          "name": "stdout",
          "text": [
            "./drive/MyDrive/teeth_yolov8_format/tooth.v1i.yolov8/data.yaml\n"
          ]
        }
      ]
    },
    {
      "cell_type": "code",
      "source": [
        "! ls /content"
      ],
      "metadata": {
        "colab": {
          "base_uri": "https://localhost:8080/"
        },
        "id": "TY5uCsXYHotv",
        "outputId": "4c4b7ae9-8537-44c0-969f-3c3dc1ed9d6b"
      },
      "execution_count": 6,
      "outputs": [
        {
          "output_type": "stream",
          "name": "stdout",
          "text": [
            "drive  sample_data  yolov8n.pt\n"
          ]
        }
      ]
    },
    {
      "cell_type": "code",
      "source": [
        "import os\n",
        "os.path.isfile(\"drive/MyDrive/teeth_yolov8_format/tooth.v1i.yolov8/data.yaml\")"
      ],
      "metadata": {
        "colab": {
          "base_uri": "https://localhost:8080/"
        },
        "id": "t5-4zQTwHSg4",
        "outputId": "0024e848-0f10-4d2e-8b0b-ac5af5d70980"
      },
      "execution_count": 7,
      "outputs": [
        {
          "output_type": "execute_result",
          "data": {
            "text/plain": [
              "True"
            ]
          },
          "metadata": {},
          "execution_count": 7
        }
      ]
    },
    {
      "cell_type": "code",
      "source": [
        "yolo.train(data='drive/MyDrive/teeth_yolov8_format/tooth.v1i.yolov8/data.yaml')"
      ],
      "metadata": {
        "colab": {
          "base_uri": "https://localhost:8080/"
        },
        "id": "fzntMskzFEbj",
        "outputId": "c8c0611c-f394-4d79-93fb-e091f68d4c2f"
      },
      "execution_count": 8,
      "outputs": [
        {
          "output_type": "stream",
          "name": "stdout",
          "text": [
            "Ultralytics YOLOv8.0.217 🚀 Python-3.10.12 torch-2.1.0+cu118 CUDA:0 (NVIDIA A100-SXM4-40GB, 40514MiB)\n",
            "\u001b[34m\u001b[1mengine/trainer: \u001b[0mtask=detect, mode=train, model=yolov8n.pt, data=drive/MyDrive/teeth_yolov8_format/tooth.v1i.yolov8/data.yaml, epochs=100, patience=50, batch=16, imgsz=640, save=True, save_period=-1, cache=False, device=None, workers=8, project=None, name=train, exist_ok=False, pretrained=True, optimizer=auto, verbose=True, seed=0, deterministic=True, single_cls=False, rect=False, cos_lr=False, close_mosaic=10, resume=False, amp=True, fraction=1.0, profile=False, freeze=None, overlap_mask=True, mask_ratio=4, dropout=0.0, val=True, split=val, save_json=False, save_hybrid=False, conf=None, iou=0.7, max_det=300, half=False, dnn=False, plots=True, source=None, show=False, save_txt=False, save_conf=False, save_crop=False, show_labels=True, show_conf=True, vid_stride=1, stream_buffer=False, line_width=None, visualize=False, augment=False, agnostic_nms=False, classes=None, retina_masks=False, boxes=True, format=torchscript, keras=False, optimize=False, int8=False, dynamic=False, simplify=False, opset=None, workspace=4, nms=False, lr0=0.01, lrf=0.01, momentum=0.937, weight_decay=0.0005, warmup_epochs=3.0, warmup_momentum=0.8, warmup_bias_lr=0.1, box=7.5, cls=0.5, dfl=1.5, pose=12.0, kobj=1.0, label_smoothing=0.0, nbs=64, hsv_h=0.015, hsv_s=0.7, hsv_v=0.4, degrees=0.0, translate=0.1, scale=0.5, shear=0.0, perspective=0.0, flipud=0.0, fliplr=0.5, mosaic=1.0, mixup=0.0, copy_paste=0.0, cfg=None, tracker=botsort.yaml, save_dir=runs/detect/train\n",
            "Downloading https://ultralytics.com/assets/Arial.ttf to '/root/.config/Ultralytics/Arial.ttf'...\n"
          ]
        },
        {
          "output_type": "stream",
          "name": "stderr",
          "text": [
            "100%|██████████| 755k/755k [00:00<00:00, 75.0MB/s]\n"
          ]
        },
        {
          "output_type": "stream",
          "name": "stdout",
          "text": [
            "Overriding model.yaml nc=80 with nc=2\n",
            "\n",
            "                   from  n    params  module                                       arguments                     \n",
            "  0                  -1  1       464  ultralytics.nn.modules.conv.Conv             [3, 16, 3, 2]                 \n",
            "  1                  -1  1      4672  ultralytics.nn.modules.conv.Conv             [16, 32, 3, 2]                \n",
            "  2                  -1  1      7360  ultralytics.nn.modules.block.C2f             [32, 32, 1, True]             \n",
            "  3                  -1  1     18560  ultralytics.nn.modules.conv.Conv             [32, 64, 3, 2]                \n",
            "  4                  -1  2     49664  ultralytics.nn.modules.block.C2f             [64, 64, 2, True]             \n",
            "  5                  -1  1     73984  ultralytics.nn.modules.conv.Conv             [64, 128, 3, 2]               \n",
            "  6                  -1  2    197632  ultralytics.nn.modules.block.C2f             [128, 128, 2, True]           \n",
            "  7                  -1  1    295424  ultralytics.nn.modules.conv.Conv             [128, 256, 3, 2]              \n",
            "  8                  -1  1    460288  ultralytics.nn.modules.block.C2f             [256, 256, 1, True]           \n",
            "  9                  -1  1    164608  ultralytics.nn.modules.block.SPPF            [256, 256, 5]                 \n",
            " 10                  -1  1         0  torch.nn.modules.upsampling.Upsample         [None, 2, 'nearest']          \n",
            " 11             [-1, 6]  1         0  ultralytics.nn.modules.conv.Concat           [1]                           \n",
            " 12                  -1  1    148224  ultralytics.nn.modules.block.C2f             [384, 128, 1]                 \n",
            " 13                  -1  1         0  torch.nn.modules.upsampling.Upsample         [None, 2, 'nearest']          \n",
            " 14             [-1, 4]  1         0  ultralytics.nn.modules.conv.Concat           [1]                           \n",
            " 15                  -1  1     37248  ultralytics.nn.modules.block.C2f             [192, 64, 1]                  \n",
            " 16                  -1  1     36992  ultralytics.nn.modules.conv.Conv             [64, 64, 3, 2]                \n",
            " 17            [-1, 12]  1         0  ultralytics.nn.modules.conv.Concat           [1]                           \n",
            " 18                  -1  1    123648  ultralytics.nn.modules.block.C2f             [192, 128, 1]                 \n",
            " 19                  -1  1    147712  ultralytics.nn.modules.conv.Conv             [128, 128, 3, 2]              \n",
            " 20             [-1, 9]  1         0  ultralytics.nn.modules.conv.Concat           [1]                           \n",
            " 21                  -1  1    493056  ultralytics.nn.modules.block.C2f             [384, 256, 1]                 \n",
            " 22        [15, 18, 21]  1    751702  ultralytics.nn.modules.head.Detect           [2, [64, 128, 256]]           \n",
            "Model summary: 225 layers, 3011238 parameters, 3011222 gradients, 8.2 GFLOPs\n",
            "\n",
            "Transferred 319/355 items from pretrained weights\n",
            "\u001b[34m\u001b[1mTensorBoard: \u001b[0mStart with 'tensorboard --logdir runs/detect/train', view at http://localhost:6006/\n",
            "Freezing layer 'model.22.dfl.conv.weight'\n",
            "\u001b[34m\u001b[1mAMP: \u001b[0mrunning Automatic Mixed Precision (AMP) checks with YOLOv8n...\n",
            "\u001b[34m\u001b[1mAMP: \u001b[0mchecks passed ✅\n"
          ]
        },
        {
          "output_type": "stream",
          "name": "stderr",
          "text": [
            "\u001b[34m\u001b[1mtrain: \u001b[0mScanning /content/drive/MyDrive/teeth_yolov8_format/tooth.v1i.yolov8/train/labels.cache... 501 images, 0 backgrounds, 0 corrupt: 100%|██████████| 501/501 [00:00<?, ?it/s]\n"
          ]
        },
        {
          "output_type": "stream",
          "name": "stdout",
          "text": [
            "\u001b[34m\u001b[1malbumentations: \u001b[0mBlur(p=0.01, blur_limit=(3, 7)), MedianBlur(p=0.01, blur_limit=(3, 7)), ToGray(p=0.01), CLAHE(p=0.01, clip_limit=(1, 4.0), tile_grid_size=(8, 8))\n"
          ]
        },
        {
          "output_type": "stream",
          "name": "stderr",
          "text": [
            "\u001b[34m\u001b[1mval: \u001b[0mScanning /content/drive/MyDrive/teeth_yolov8_format/tooth.v1i.yolov8/valid/labels.cache... 65 images, 0 backgrounds, 0 corrupt: 100%|██████████| 65/65 [00:00<?, ?it/s]\n"
          ]
        },
        {
          "output_type": "stream",
          "name": "stdout",
          "text": [
            "Plotting labels to runs/detect/train/labels.jpg... \n",
            "\u001b[34m\u001b[1moptimizer:\u001b[0m 'optimizer=auto' found, ignoring 'lr0=0.01' and 'momentum=0.937' and determining best 'optimizer', 'lr0' and 'momentum' automatically... \n",
            "\u001b[34m\u001b[1moptimizer:\u001b[0m AdamW(lr=0.001667, momentum=0.9) with parameter groups 57 weight(decay=0.0), 64 weight(decay=0.0005), 63 bias(decay=0.0)\n",
            "Image sizes 640 train, 640 val\n",
            "Using 8 dataloader workers\n",
            "Logging results to \u001b[1mruns/detect/train\u001b[0m\n",
            "Starting training for 100 epochs...\n",
            "\n",
            "      Epoch    GPU_mem   box_loss   cls_loss   dfl_loss  Instances       Size\n"
          ]
        },
        {
          "output_type": "stream",
          "name": "stderr",
          "text": [
            "      1/100      2.33G      1.012      2.086      1.177         59        640: 100%|██████████| 32/32 [00:12<00:00,  2.55it/s]\n",
            "                 Class     Images  Instances      Box(P          R      mAP50  mAP50-95): 100%|██████████| 3/3 [00:09<00:00,  3.07s/it]"
          ]
        },
        {
          "output_type": "stream",
          "name": "stdout",
          "text": [
            "                   all         65        715      0.809      0.747      0.838      0.608\n"
          ]
        },
        {
          "output_type": "stream",
          "name": "stderr",
          "text": [
            "\n"
          ]
        },
        {
          "output_type": "stream",
          "name": "stdout",
          "text": [
            "\n",
            "      Epoch    GPU_mem   box_loss   cls_loss   dfl_loss  Instances       Size\n"
          ]
        },
        {
          "output_type": "stream",
          "name": "stderr",
          "text": [
            "      2/100      2.41G     0.8061      0.922      1.041        119        640: 100%|██████████| 32/32 [00:03<00:00,  9.96it/s]\n",
            "                 Class     Images  Instances      Box(P          R      mAP50  mAP50-95): 100%|██████████| 3/3 [00:00<00:00,  6.57it/s]"
          ]
        },
        {
          "output_type": "stream",
          "name": "stdout",
          "text": [
            "                   all         65        715      0.795      0.793      0.868      0.642\n"
          ]
        },
        {
          "output_type": "stream",
          "name": "stderr",
          "text": [
            "\n"
          ]
        },
        {
          "output_type": "stream",
          "name": "stdout",
          "text": [
            "\n",
            "      Epoch    GPU_mem   box_loss   cls_loss   dfl_loss  Instances       Size\n"
          ]
        },
        {
          "output_type": "stream",
          "name": "stderr",
          "text": [
            "      3/100      2.54G      0.797      0.859      1.027         63        640: 100%|██████████| 32/32 [00:03<00:00, 10.21it/s]\n",
            "                 Class     Images  Instances      Box(P          R      mAP50  mAP50-95): 100%|██████████| 3/3 [00:00<00:00,  6.99it/s]"
          ]
        },
        {
          "output_type": "stream",
          "name": "stdout",
          "text": [
            "                   all         65        715      0.834      0.846      0.895      0.694\n"
          ]
        },
        {
          "output_type": "stream",
          "name": "stderr",
          "text": [
            "\n"
          ]
        },
        {
          "output_type": "stream",
          "name": "stdout",
          "text": [
            "\n",
            "      Epoch    GPU_mem   box_loss   cls_loss   dfl_loss  Instances       Size\n"
          ]
        },
        {
          "output_type": "stream",
          "name": "stderr",
          "text": [
            "      4/100       2.5G     0.8062     0.8016      1.022         88        640: 100%|██████████| 32/32 [00:03<00:00, 10.07it/s]\n",
            "                 Class     Images  Instances      Box(P          R      mAP50  mAP50-95): 100%|██████████| 3/3 [00:00<00:00,  6.86it/s]"
          ]
        },
        {
          "output_type": "stream",
          "name": "stdout",
          "text": [
            "                   all         65        715      0.866      0.876      0.922      0.706\n"
          ]
        },
        {
          "output_type": "stream",
          "name": "stderr",
          "text": [
            "\n"
          ]
        },
        {
          "output_type": "stream",
          "name": "stdout",
          "text": [
            "\n",
            "      Epoch    GPU_mem   box_loss   cls_loss   dfl_loss  Instances       Size\n"
          ]
        },
        {
          "output_type": "stream",
          "name": "stderr",
          "text": [
            "      5/100       2.5G     0.7667     0.7594      1.007        108        640: 100%|██████████| 32/32 [00:03<00:00, 10.11it/s]\n",
            "                 Class     Images  Instances      Box(P          R      mAP50  mAP50-95): 100%|██████████| 3/3 [00:00<00:00,  6.74it/s]"
          ]
        },
        {
          "output_type": "stream",
          "name": "stdout",
          "text": [
            "                   all         65        715      0.872      0.877      0.935      0.752\n"
          ]
        },
        {
          "output_type": "stream",
          "name": "stderr",
          "text": [
            "\n"
          ]
        },
        {
          "output_type": "stream",
          "name": "stdout",
          "text": [
            "\n",
            "      Epoch    GPU_mem   box_loss   cls_loss   dfl_loss  Instances       Size\n"
          ]
        },
        {
          "output_type": "stream",
          "name": "stderr",
          "text": [
            "      6/100      2.37G     0.7551     0.7023      1.004         93        640: 100%|██████████| 32/32 [00:03<00:00, 10.19it/s]\n",
            "                 Class     Images  Instances      Box(P          R      mAP50  mAP50-95): 100%|██████████| 3/3 [00:00<00:00,  6.86it/s]"
          ]
        },
        {
          "output_type": "stream",
          "name": "stdout",
          "text": [
            "                   all         65        715       0.87      0.887      0.949      0.773\n"
          ]
        },
        {
          "output_type": "stream",
          "name": "stderr",
          "text": [
            "\n"
          ]
        },
        {
          "output_type": "stream",
          "name": "stdout",
          "text": [
            "\n",
            "      Epoch    GPU_mem   box_loss   cls_loss   dfl_loss  Instances       Size\n"
          ]
        },
        {
          "output_type": "stream",
          "name": "stderr",
          "text": [
            "      7/100      2.51G     0.7409     0.6806      1.002         86        640: 100%|██████████| 32/32 [00:03<00:00, 10.27it/s]\n",
            "                 Class     Images  Instances      Box(P          R      mAP50  mAP50-95): 100%|██████████| 3/3 [00:00<00:00,  7.27it/s]"
          ]
        },
        {
          "output_type": "stream",
          "name": "stdout",
          "text": [
            "                   all         65        715       0.86      0.916      0.945      0.774\n"
          ]
        },
        {
          "output_type": "stream",
          "name": "stderr",
          "text": [
            "\n"
          ]
        },
        {
          "output_type": "stream",
          "name": "stdout",
          "text": [
            "\n",
            "      Epoch    GPU_mem   box_loss   cls_loss   dfl_loss  Instances       Size\n"
          ]
        },
        {
          "output_type": "stream",
          "name": "stderr",
          "text": [
            "      8/100      2.38G     0.7088     0.6605     0.9848         63        640: 100%|██████████| 32/32 [00:03<00:00,  9.99it/s]\n",
            "                 Class     Images  Instances      Box(P          R      mAP50  mAP50-95): 100%|██████████| 3/3 [00:00<00:00,  6.78it/s]"
          ]
        },
        {
          "output_type": "stream",
          "name": "stdout",
          "text": [
            "                   all         65        715      0.819      0.912       0.93      0.759\n"
          ]
        },
        {
          "output_type": "stream",
          "name": "stderr",
          "text": [
            "\n"
          ]
        },
        {
          "output_type": "stream",
          "name": "stdout",
          "text": [
            "\n",
            "      Epoch    GPU_mem   box_loss   cls_loss   dfl_loss  Instances       Size\n"
          ]
        },
        {
          "output_type": "stream",
          "name": "stderr",
          "text": [
            "      9/100      2.52G     0.7083     0.6325     0.9901         53        640: 100%|██████████| 32/32 [00:03<00:00, 10.21it/s]\n",
            "                 Class     Images  Instances      Box(P          R      mAP50  mAP50-95): 100%|██████████| 3/3 [00:00<00:00,  7.15it/s]"
          ]
        },
        {
          "output_type": "stream",
          "name": "stdout",
          "text": [
            "                   all         65        715      0.866      0.874      0.941      0.782\n"
          ]
        },
        {
          "output_type": "stream",
          "name": "stderr",
          "text": [
            "\n"
          ]
        },
        {
          "output_type": "stream",
          "name": "stdout",
          "text": [
            "\n",
            "      Epoch    GPU_mem   box_loss   cls_loss   dfl_loss  Instances       Size\n"
          ]
        },
        {
          "output_type": "stream",
          "name": "stderr",
          "text": [
            "     10/100      2.37G     0.6816     0.6226      0.979        118        640: 100%|██████████| 32/32 [00:03<00:00, 10.55it/s]\n",
            "                 Class     Images  Instances      Box(P          R      mAP50  mAP50-95): 100%|██████████| 3/3 [00:00<00:00,  7.77it/s]"
          ]
        },
        {
          "output_type": "stream",
          "name": "stdout",
          "text": [
            "                   all         65        715      0.868      0.865      0.924      0.759\n"
          ]
        },
        {
          "output_type": "stream",
          "name": "stderr",
          "text": [
            "\n"
          ]
        },
        {
          "output_type": "stream",
          "name": "stdout",
          "text": [
            "\n",
            "      Epoch    GPU_mem   box_loss   cls_loss   dfl_loss  Instances       Size\n"
          ]
        },
        {
          "output_type": "stream",
          "name": "stderr",
          "text": [
            "     11/100       2.3G     0.6998     0.6262     0.9826         84        640: 100%|██████████| 32/32 [00:03<00:00, 10.46it/s]\n",
            "                 Class     Images  Instances      Box(P          R      mAP50  mAP50-95): 100%|██████████| 3/3 [00:00<00:00,  6.92it/s]"
          ]
        },
        {
          "output_type": "stream",
          "name": "stdout",
          "text": [
            "                   all         65        715      0.842      0.894      0.926      0.752\n"
          ]
        },
        {
          "output_type": "stream",
          "name": "stderr",
          "text": [
            "\n"
          ]
        },
        {
          "output_type": "stream",
          "name": "stdout",
          "text": [
            "\n",
            "      Epoch    GPU_mem   box_loss   cls_loss   dfl_loss  Instances       Size\n"
          ]
        },
        {
          "output_type": "stream",
          "name": "stderr",
          "text": [
            "     12/100      2.38G     0.6913     0.6104     0.9827         69        640: 100%|██████████| 32/32 [00:03<00:00,  9.97it/s]\n",
            "                 Class     Images  Instances      Box(P          R      mAP50  mAP50-95): 100%|██████████| 3/3 [00:00<00:00,  7.08it/s]"
          ]
        },
        {
          "output_type": "stream",
          "name": "stdout",
          "text": [
            "                   all         65        715      0.894      0.861      0.947      0.779\n"
          ]
        },
        {
          "output_type": "stream",
          "name": "stderr",
          "text": [
            "\n"
          ]
        },
        {
          "output_type": "stream",
          "name": "stdout",
          "text": [
            "\n",
            "      Epoch    GPU_mem   box_loss   cls_loss   dfl_loss  Instances       Size\n"
          ]
        },
        {
          "output_type": "stream",
          "name": "stderr",
          "text": [
            "     13/100      2.42G      0.695     0.5825     0.9714         69        640: 100%|██████████| 32/32 [00:03<00:00,  9.96it/s]\n",
            "                 Class     Images  Instances      Box(P          R      mAP50  mAP50-95): 100%|██████████| 3/3 [00:00<00:00,  7.67it/s]"
          ]
        },
        {
          "output_type": "stream",
          "name": "stdout",
          "text": [
            "                   all         65        715      0.871      0.906      0.954      0.802\n"
          ]
        },
        {
          "output_type": "stream",
          "name": "stderr",
          "text": [
            "\n"
          ]
        },
        {
          "output_type": "stream",
          "name": "stdout",
          "text": [
            "\n",
            "      Epoch    GPU_mem   box_loss   cls_loss   dfl_loss  Instances       Size\n"
          ]
        },
        {
          "output_type": "stream",
          "name": "stderr",
          "text": [
            "     14/100       2.4G     0.6822     0.5717     0.9758         81        640: 100%|██████████| 32/32 [00:03<00:00, 10.57it/s]\n",
            "                 Class     Images  Instances      Box(P          R      mAP50  mAP50-95): 100%|██████████| 3/3 [00:00<00:00,  7.36it/s]"
          ]
        },
        {
          "output_type": "stream",
          "name": "stdout",
          "text": [
            "                   all         65        715      0.877      0.931      0.957       0.79\n"
          ]
        },
        {
          "output_type": "stream",
          "name": "stderr",
          "text": [
            "\n"
          ]
        },
        {
          "output_type": "stream",
          "name": "stdout",
          "text": [
            "\n",
            "      Epoch    GPU_mem   box_loss   cls_loss   dfl_loss  Instances       Size\n"
          ]
        },
        {
          "output_type": "stream",
          "name": "stderr",
          "text": [
            "     15/100      2.52G     0.6685     0.5608     0.9671        129        640: 100%|██████████| 32/32 [00:03<00:00, 10.18it/s]\n",
            "                 Class     Images  Instances      Box(P          R      mAP50  mAP50-95): 100%|██████████| 3/3 [00:00<00:00,  7.31it/s]"
          ]
        },
        {
          "output_type": "stream",
          "name": "stdout",
          "text": [
            "                   all         65        715      0.897      0.898      0.955      0.786\n"
          ]
        },
        {
          "output_type": "stream",
          "name": "stderr",
          "text": [
            "\n"
          ]
        },
        {
          "output_type": "stream",
          "name": "stdout",
          "text": [
            "\n",
            "      Epoch    GPU_mem   box_loss   cls_loss   dfl_loss  Instances       Size\n"
          ]
        },
        {
          "output_type": "stream",
          "name": "stderr",
          "text": [
            "     16/100      2.37G     0.6579     0.5536     0.9756         69        640: 100%|██████████| 32/32 [00:03<00:00, 10.08it/s]\n",
            "                 Class     Images  Instances      Box(P          R      mAP50  mAP50-95): 100%|██████████| 3/3 [00:00<00:00,  6.89it/s]"
          ]
        },
        {
          "output_type": "stream",
          "name": "stdout",
          "text": [
            "                   all         65        715      0.901      0.892      0.956      0.788\n"
          ]
        },
        {
          "output_type": "stream",
          "name": "stderr",
          "text": [
            "\n"
          ]
        },
        {
          "output_type": "stream",
          "name": "stdout",
          "text": [
            "\n",
            "      Epoch    GPU_mem   box_loss   cls_loss   dfl_loss  Instances       Size\n"
          ]
        },
        {
          "output_type": "stream",
          "name": "stderr",
          "text": [
            "     17/100      2.36G     0.6692     0.5563     0.9695         79        640: 100%|██████████| 32/32 [00:03<00:00, 10.00it/s]\n",
            "                 Class     Images  Instances      Box(P          R      mAP50  mAP50-95): 100%|██████████| 3/3 [00:00<00:00,  7.28it/s]"
          ]
        },
        {
          "output_type": "stream",
          "name": "stdout",
          "text": [
            "                   all         65        715      0.846      0.914      0.945      0.795\n"
          ]
        },
        {
          "output_type": "stream",
          "name": "stderr",
          "text": [
            "\n"
          ]
        },
        {
          "output_type": "stream",
          "name": "stdout",
          "text": [
            "\n",
            "      Epoch    GPU_mem   box_loss   cls_loss   dfl_loss  Instances       Size\n"
          ]
        },
        {
          "output_type": "stream",
          "name": "stderr",
          "text": [
            "     18/100      2.39G     0.6602     0.5493     0.9695        126        640: 100%|██████████| 32/32 [00:03<00:00, 10.27it/s]\n",
            "                 Class     Images  Instances      Box(P          R      mAP50  mAP50-95): 100%|██████████| 3/3 [00:00<00:00,  7.75it/s]"
          ]
        },
        {
          "output_type": "stream",
          "name": "stdout",
          "text": [
            "                   all         65        715      0.876      0.908      0.948      0.793\n"
          ]
        },
        {
          "output_type": "stream",
          "name": "stderr",
          "text": [
            "\n"
          ]
        },
        {
          "output_type": "stream",
          "name": "stdout",
          "text": [
            "\n",
            "      Epoch    GPU_mem   box_loss   cls_loss   dfl_loss  Instances       Size\n"
          ]
        },
        {
          "output_type": "stream",
          "name": "stderr",
          "text": [
            "     19/100       2.5G     0.6549     0.5369     0.9643         81        640: 100%|██████████| 32/32 [00:03<00:00, 10.47it/s]\n",
            "                 Class     Images  Instances      Box(P          R      mAP50  mAP50-95): 100%|██████████| 3/3 [00:00<00:00,  7.22it/s]"
          ]
        },
        {
          "output_type": "stream",
          "name": "stdout",
          "text": [
            "                   all         65        715      0.869      0.916      0.956      0.795\n"
          ]
        },
        {
          "output_type": "stream",
          "name": "stderr",
          "text": [
            "\n"
          ]
        },
        {
          "output_type": "stream",
          "name": "stdout",
          "text": [
            "\n",
            "      Epoch    GPU_mem   box_loss   cls_loss   dfl_loss  Instances       Size\n"
          ]
        },
        {
          "output_type": "stream",
          "name": "stderr",
          "text": [
            "     20/100      2.35G     0.6551     0.5264     0.9664         72        640: 100%|██████████| 32/32 [00:03<00:00, 10.14it/s]\n",
            "                 Class     Images  Instances      Box(P          R      mAP50  mAP50-95): 100%|██████████| 3/3 [00:00<00:00,  7.31it/s]"
          ]
        },
        {
          "output_type": "stream",
          "name": "stdout",
          "text": [
            "                   all         65        715      0.834      0.897      0.943      0.799\n"
          ]
        },
        {
          "output_type": "stream",
          "name": "stderr",
          "text": [
            "\n"
          ]
        },
        {
          "output_type": "stream",
          "name": "stdout",
          "text": [
            "\n",
            "      Epoch    GPU_mem   box_loss   cls_loss   dfl_loss  Instances       Size\n"
          ]
        },
        {
          "output_type": "stream",
          "name": "stderr",
          "text": [
            "     21/100      2.37G     0.6472     0.5137     0.9662         97        640: 100%|██████████| 32/32 [00:03<00:00, 10.08it/s]\n",
            "                 Class     Images  Instances      Box(P          R      mAP50  mAP50-95): 100%|██████████| 3/3 [00:00<00:00,  8.07it/s]\n"
          ]
        },
        {
          "output_type": "stream",
          "name": "stdout",
          "text": [
            "                   all         65        715       0.89      0.904      0.957      0.789\n",
            "\n",
            "      Epoch    GPU_mem   box_loss   cls_loss   dfl_loss  Instances       Size\n"
          ]
        },
        {
          "output_type": "stream",
          "name": "stderr",
          "text": [
            "     22/100      2.43G     0.6531     0.5272     0.9671         73        640: 100%|██████████| 32/32 [00:03<00:00, 10.51it/s]\n",
            "                 Class     Images  Instances      Box(P          R      mAP50  mAP50-95): 100%|██████████| 3/3 [00:00<00:00,  7.67it/s]"
          ]
        },
        {
          "output_type": "stream",
          "name": "stdout",
          "text": [
            "                   all         65        715      0.875       0.92      0.962      0.809\n"
          ]
        },
        {
          "output_type": "stream",
          "name": "stderr",
          "text": [
            "\n"
          ]
        },
        {
          "output_type": "stream",
          "name": "stdout",
          "text": [
            "\n",
            "      Epoch    GPU_mem   box_loss   cls_loss   dfl_loss  Instances       Size\n"
          ]
        },
        {
          "output_type": "stream",
          "name": "stderr",
          "text": [
            "     23/100      2.37G       0.66     0.5266     0.9696         52        640: 100%|██████████| 32/32 [00:03<00:00, 10.62it/s]\n",
            "                 Class     Images  Instances      Box(P          R      mAP50  mAP50-95): 100%|██████████| 3/3 [00:00<00:00,  7.79it/s]"
          ]
        },
        {
          "output_type": "stream",
          "name": "stdout",
          "text": [
            "                   all         65        715      0.855      0.927      0.951      0.803\n"
          ]
        },
        {
          "output_type": "stream",
          "name": "stderr",
          "text": [
            "\n"
          ]
        },
        {
          "output_type": "stream",
          "name": "stdout",
          "text": [
            "\n",
            "      Epoch    GPU_mem   box_loss   cls_loss   dfl_loss  Instances       Size\n"
          ]
        },
        {
          "output_type": "stream",
          "name": "stderr",
          "text": [
            "     24/100      2.41G     0.6337     0.5009     0.9517         50        640: 100%|██████████| 32/32 [00:03<00:00, 10.19it/s]\n",
            "                 Class     Images  Instances      Box(P          R      mAP50  mAP50-95): 100%|██████████| 3/3 [00:00<00:00,  6.96it/s]"
          ]
        },
        {
          "output_type": "stream",
          "name": "stdout",
          "text": [
            "                   all         65        715      0.903      0.842      0.937      0.771\n"
          ]
        },
        {
          "output_type": "stream",
          "name": "stderr",
          "text": [
            "\n"
          ]
        },
        {
          "output_type": "stream",
          "name": "stdout",
          "text": [
            "\n",
            "      Epoch    GPU_mem   box_loss   cls_loss   dfl_loss  Instances       Size\n"
          ]
        },
        {
          "output_type": "stream",
          "name": "stderr",
          "text": [
            "     25/100      2.37G     0.6402      0.502     0.9563         53        640: 100%|██████████| 32/32 [00:03<00:00, 10.11it/s]\n",
            "                 Class     Images  Instances      Box(P          R      mAP50  mAP50-95): 100%|██████████| 3/3 [00:00<00:00,  7.40it/s]"
          ]
        },
        {
          "output_type": "stream",
          "name": "stdout",
          "text": [
            "                   all         65        715      0.889      0.928       0.96      0.796\n"
          ]
        },
        {
          "output_type": "stream",
          "name": "stderr",
          "text": [
            "\n"
          ]
        },
        {
          "output_type": "stream",
          "name": "stdout",
          "text": [
            "\n",
            "      Epoch    GPU_mem   box_loss   cls_loss   dfl_loss  Instances       Size\n"
          ]
        },
        {
          "output_type": "stream",
          "name": "stderr",
          "text": [
            "     26/100      2.49G     0.6389     0.5033     0.9548         76        640: 100%|██████████| 32/32 [00:03<00:00,  9.91it/s]\n",
            "                 Class     Images  Instances      Box(P          R      mAP50  mAP50-95): 100%|██████████| 3/3 [00:00<00:00,  7.57it/s]"
          ]
        },
        {
          "output_type": "stream",
          "name": "stdout",
          "text": [
            "                   all         65        715      0.899      0.909      0.957      0.807\n"
          ]
        },
        {
          "output_type": "stream",
          "name": "stderr",
          "text": [
            "\n"
          ]
        },
        {
          "output_type": "stream",
          "name": "stdout",
          "text": [
            "\n",
            "      Epoch    GPU_mem   box_loss   cls_loss   dfl_loss  Instances       Size\n"
          ]
        },
        {
          "output_type": "stream",
          "name": "stderr",
          "text": [
            "     27/100      2.37G     0.6245     0.4856     0.9516        106        640: 100%|██████████| 32/32 [00:03<00:00, 10.52it/s]\n",
            "                 Class     Images  Instances      Box(P          R      mAP50  mAP50-95): 100%|██████████| 3/3 [00:00<00:00,  7.82it/s]"
          ]
        },
        {
          "output_type": "stream",
          "name": "stdout",
          "text": [
            "                   all         65        715       0.88       0.93       0.96      0.797\n"
          ]
        },
        {
          "output_type": "stream",
          "name": "stderr",
          "text": [
            "\n"
          ]
        },
        {
          "output_type": "stream",
          "name": "stdout",
          "text": [
            "\n",
            "      Epoch    GPU_mem   box_loss   cls_loss   dfl_loss  Instances       Size\n"
          ]
        },
        {
          "output_type": "stream",
          "name": "stderr",
          "text": [
            "     28/100      2.38G     0.6183     0.4912     0.9524         61        640: 100%|██████████| 32/32 [00:03<00:00, 10.37it/s]\n",
            "                 Class     Images  Instances      Box(P          R      mAP50  mAP50-95): 100%|██████████| 3/3 [00:00<00:00,  7.49it/s]"
          ]
        },
        {
          "output_type": "stream",
          "name": "stdout",
          "text": [
            "                   all         65        715      0.917      0.892      0.964      0.823\n"
          ]
        },
        {
          "output_type": "stream",
          "name": "stderr",
          "text": [
            "\n"
          ]
        },
        {
          "output_type": "stream",
          "name": "stdout",
          "text": [
            "\n",
            "      Epoch    GPU_mem   box_loss   cls_loss   dfl_loss  Instances       Size\n"
          ]
        },
        {
          "output_type": "stream",
          "name": "stderr",
          "text": [
            "     29/100      2.38G     0.6243     0.4837     0.9499        119        640: 100%|██████████| 32/32 [00:03<00:00,  9.89it/s]\n",
            "                 Class     Images  Instances      Box(P          R      mAP50  mAP50-95): 100%|██████████| 3/3 [00:00<00:00,  7.12it/s]"
          ]
        },
        {
          "output_type": "stream",
          "name": "stdout",
          "text": [
            "                   all         65        715      0.878      0.922      0.961      0.802\n"
          ]
        },
        {
          "output_type": "stream",
          "name": "stderr",
          "text": [
            "\n"
          ]
        },
        {
          "output_type": "stream",
          "name": "stdout",
          "text": [
            "\n",
            "      Epoch    GPU_mem   box_loss   cls_loss   dfl_loss  Instances       Size\n"
          ]
        },
        {
          "output_type": "stream",
          "name": "stderr",
          "text": [
            "     30/100      2.29G     0.6303     0.4777     0.9625         68        640: 100%|██████████| 32/32 [00:03<00:00, 10.06it/s]\n",
            "                 Class     Images  Instances      Box(P          R      mAP50  mAP50-95): 100%|██████████| 3/3 [00:00<00:00,  7.89it/s]"
          ]
        },
        {
          "output_type": "stream",
          "name": "stdout",
          "text": [
            "                   all         65        715      0.914      0.894      0.964      0.822\n"
          ]
        },
        {
          "output_type": "stream",
          "name": "stderr",
          "text": [
            "\n"
          ]
        },
        {
          "output_type": "stream",
          "name": "stdout",
          "text": [
            "\n",
            "      Epoch    GPU_mem   box_loss   cls_loss   dfl_loss  Instances       Size\n"
          ]
        },
        {
          "output_type": "stream",
          "name": "stderr",
          "text": [
            "     31/100      2.38G     0.6306     0.4805      0.957        110        640: 100%|██████████| 32/32 [00:03<00:00, 10.35it/s]\n",
            "                 Class     Images  Instances      Box(P          R      mAP50  mAP50-95): 100%|██████████| 3/3 [00:00<00:00,  7.81it/s]"
          ]
        },
        {
          "output_type": "stream",
          "name": "stdout",
          "text": [
            "                   all         65        715      0.896      0.888      0.957      0.804\n"
          ]
        },
        {
          "output_type": "stream",
          "name": "stderr",
          "text": [
            "\n"
          ]
        },
        {
          "output_type": "stream",
          "name": "stdout",
          "text": [
            "\n",
            "      Epoch    GPU_mem   box_loss   cls_loss   dfl_loss  Instances       Size\n"
          ]
        },
        {
          "output_type": "stream",
          "name": "stderr",
          "text": [
            "     32/100      2.65G     0.6234     0.4686     0.9523        140        640: 100%|██████████| 32/32 [00:03<00:00, 10.27it/s]\n",
            "                 Class     Images  Instances      Box(P          R      mAP50  mAP50-95): 100%|██████████| 3/3 [00:00<00:00,  6.95it/s]"
          ]
        },
        {
          "output_type": "stream",
          "name": "stdout",
          "text": [
            "                   all         65        715      0.904      0.888      0.961      0.818\n"
          ]
        },
        {
          "output_type": "stream",
          "name": "stderr",
          "text": [
            "\n"
          ]
        },
        {
          "output_type": "stream",
          "name": "stdout",
          "text": [
            "\n",
            "      Epoch    GPU_mem   box_loss   cls_loss   dfl_loss  Instances       Size\n"
          ]
        },
        {
          "output_type": "stream",
          "name": "stderr",
          "text": [
            "     33/100      2.55G     0.6167     0.4647     0.9506         83        640: 100%|██████████| 32/32 [00:03<00:00,  9.85it/s]\n",
            "                 Class     Images  Instances      Box(P          R      mAP50  mAP50-95): 100%|██████████| 3/3 [00:00<00:00,  7.36it/s]"
          ]
        },
        {
          "output_type": "stream",
          "name": "stdout",
          "text": [
            "                   all         65        715      0.899      0.894       0.96      0.822\n"
          ]
        },
        {
          "output_type": "stream",
          "name": "stderr",
          "text": [
            "\n"
          ]
        },
        {
          "output_type": "stream",
          "name": "stdout",
          "text": [
            "\n",
            "      Epoch    GPU_mem   box_loss   cls_loss   dfl_loss  Instances       Size\n"
          ]
        },
        {
          "output_type": "stream",
          "name": "stderr",
          "text": [
            "     34/100      2.38G     0.6192     0.4592     0.9464         55        640: 100%|██████████| 32/32 [00:03<00:00, 10.15it/s]\n",
            "                 Class     Images  Instances      Box(P          R      mAP50  mAP50-95): 100%|██████████| 3/3 [00:00<00:00,  7.84it/s]"
          ]
        },
        {
          "output_type": "stream",
          "name": "stdout",
          "text": [
            "                   all         65        715      0.901      0.905      0.963       0.81\n"
          ]
        },
        {
          "output_type": "stream",
          "name": "stderr",
          "text": [
            "\n"
          ]
        },
        {
          "output_type": "stream",
          "name": "stdout",
          "text": [
            "\n",
            "      Epoch    GPU_mem   box_loss   cls_loss   dfl_loss  Instances       Size\n"
          ]
        },
        {
          "output_type": "stream",
          "name": "stderr",
          "text": [
            "     35/100       2.5G     0.6152     0.4693     0.9516         66        640: 100%|██████████| 32/32 [00:03<00:00, 10.40it/s]\n",
            "                 Class     Images  Instances      Box(P          R      mAP50  mAP50-95): 100%|██████████| 3/3 [00:00<00:00,  7.78it/s]"
          ]
        },
        {
          "output_type": "stream",
          "name": "stdout",
          "text": [
            "                   all         65        715      0.885       0.88      0.951       0.81\n"
          ]
        },
        {
          "output_type": "stream",
          "name": "stderr",
          "text": [
            "\n"
          ]
        },
        {
          "output_type": "stream",
          "name": "stdout",
          "text": [
            "\n",
            "      Epoch    GPU_mem   box_loss   cls_loss   dfl_loss  Instances       Size\n"
          ]
        },
        {
          "output_type": "stream",
          "name": "stderr",
          "text": [
            "     36/100       2.3G     0.5989     0.4525     0.9402        111        640: 100%|██████████| 32/32 [00:03<00:00, 10.11it/s]\n",
            "                 Class     Images  Instances      Box(P          R      mAP50  mAP50-95): 100%|██████████| 3/3 [00:00<00:00,  7.58it/s]"
          ]
        },
        {
          "output_type": "stream",
          "name": "stdout",
          "text": [
            "                   all         65        715      0.908      0.906       0.97      0.832\n"
          ]
        },
        {
          "output_type": "stream",
          "name": "stderr",
          "text": [
            "\n"
          ]
        },
        {
          "output_type": "stream",
          "name": "stdout",
          "text": [
            "\n",
            "      Epoch    GPU_mem   box_loss   cls_loss   dfl_loss  Instances       Size\n"
          ]
        },
        {
          "output_type": "stream",
          "name": "stderr",
          "text": [
            "     37/100      2.53G     0.5923     0.4426     0.9396         72        640: 100%|██████████| 32/32 [00:03<00:00, 10.09it/s]\n",
            "                 Class     Images  Instances      Box(P          R      mAP50  mAP50-95): 100%|██████████| 3/3 [00:00<00:00,  6.73it/s]"
          ]
        },
        {
          "output_type": "stream",
          "name": "stdout",
          "text": [
            "                   all         65        715      0.898      0.938       0.97      0.835\n"
          ]
        },
        {
          "output_type": "stream",
          "name": "stderr",
          "text": [
            "\n"
          ]
        },
        {
          "output_type": "stream",
          "name": "stdout",
          "text": [
            "\n",
            "      Epoch    GPU_mem   box_loss   cls_loss   dfl_loss  Instances       Size\n"
          ]
        },
        {
          "output_type": "stream",
          "name": "stderr",
          "text": [
            "     38/100      2.64G     0.6055     0.4519     0.9515        128        640: 100%|██████████| 32/32 [00:03<00:00, 10.12it/s]\n",
            "                 Class     Images  Instances      Box(P          R      mAP50  mAP50-95): 100%|██████████| 3/3 [00:00<00:00,  8.29it/s]\n"
          ]
        },
        {
          "output_type": "stream",
          "name": "stdout",
          "text": [
            "                   all         65        715      0.887      0.899       0.96       0.82\n",
            "\n",
            "      Epoch    GPU_mem   box_loss   cls_loss   dfl_loss  Instances       Size\n"
          ]
        },
        {
          "output_type": "stream",
          "name": "stderr",
          "text": [
            "     39/100      2.37G     0.6164      0.475     0.9449         73        640: 100%|██████████| 32/32 [00:03<00:00, 10.43it/s]\n",
            "                 Class     Images  Instances      Box(P          R      mAP50  mAP50-95): 100%|██████████| 3/3 [00:00<00:00,  7.03it/s]"
          ]
        },
        {
          "output_type": "stream",
          "name": "stdout",
          "text": [
            "                   all         65        715      0.883      0.933       0.96      0.816\n"
          ]
        },
        {
          "output_type": "stream",
          "name": "stderr",
          "text": [
            "\n"
          ]
        },
        {
          "output_type": "stream",
          "name": "stdout",
          "text": [
            "\n",
            "      Epoch    GPU_mem   box_loss   cls_loss   dfl_loss  Instances       Size\n"
          ]
        },
        {
          "output_type": "stream",
          "name": "stderr",
          "text": [
            "     40/100      2.34G     0.6032     0.4527     0.9499         71        640: 100%|██████████| 32/32 [00:03<00:00, 10.47it/s]\n",
            "                 Class     Images  Instances      Box(P          R      mAP50  mAP50-95): 100%|██████████| 3/3 [00:00<00:00,  7.44it/s]"
          ]
        },
        {
          "output_type": "stream",
          "name": "stdout",
          "text": [
            "                   all         65        715       0.89      0.935      0.961      0.816\n"
          ]
        },
        {
          "output_type": "stream",
          "name": "stderr",
          "text": [
            "\n"
          ]
        },
        {
          "output_type": "stream",
          "name": "stdout",
          "text": [
            "\n",
            "      Epoch    GPU_mem   box_loss   cls_loss   dfl_loss  Instances       Size\n"
          ]
        },
        {
          "output_type": "stream",
          "name": "stderr",
          "text": [
            "     41/100      2.53G     0.5987     0.4472     0.9414         59        640: 100%|██████████| 32/32 [00:03<00:00,  9.89it/s]\n",
            "                 Class     Images  Instances      Box(P          R      mAP50  mAP50-95): 100%|██████████| 3/3 [00:00<00:00,  6.71it/s]"
          ]
        },
        {
          "output_type": "stream",
          "name": "stdout",
          "text": [
            "                   all         65        715      0.874       0.93       0.96      0.815\n"
          ]
        },
        {
          "output_type": "stream",
          "name": "stderr",
          "text": [
            "\n"
          ]
        },
        {
          "output_type": "stream",
          "name": "stdout",
          "text": [
            "\n",
            "      Epoch    GPU_mem   box_loss   cls_loss   dfl_loss  Instances       Size\n"
          ]
        },
        {
          "output_type": "stream",
          "name": "stderr",
          "text": [
            "     42/100      2.54G     0.5854     0.4405     0.9319        149        640: 100%|██████████| 32/32 [00:03<00:00, 10.25it/s]\n",
            "                 Class     Images  Instances      Box(P          R      mAP50  mAP50-95): 100%|██████████| 3/3 [00:00<00:00,  7.98it/s]"
          ]
        },
        {
          "output_type": "stream",
          "name": "stdout",
          "text": [
            "                   all         65        715      0.885      0.909      0.959      0.823\n"
          ]
        },
        {
          "output_type": "stream",
          "name": "stderr",
          "text": [
            "\n"
          ]
        },
        {
          "output_type": "stream",
          "name": "stdout",
          "text": [
            "\n",
            "      Epoch    GPU_mem   box_loss   cls_loss   dfl_loss  Instances       Size\n"
          ]
        },
        {
          "output_type": "stream",
          "name": "stderr",
          "text": [
            "     43/100      2.39G     0.5983     0.4377     0.9408         88        640: 100%|██████████| 32/32 [00:03<00:00, 10.36it/s]\n",
            "                 Class     Images  Instances      Box(P          R      mAP50  mAP50-95): 100%|██████████| 3/3 [00:00<00:00,  7.65it/s]"
          ]
        },
        {
          "output_type": "stream",
          "name": "stdout",
          "text": [
            "                   all         65        715      0.894      0.905      0.954      0.818\n"
          ]
        },
        {
          "output_type": "stream",
          "name": "stderr",
          "text": [
            "\n"
          ]
        },
        {
          "output_type": "stream",
          "name": "stdout",
          "text": [
            "\n",
            "      Epoch    GPU_mem   box_loss   cls_loss   dfl_loss  Instances       Size\n"
          ]
        },
        {
          "output_type": "stream",
          "name": "stderr",
          "text": [
            "     44/100      2.36G     0.5807     0.4394     0.9333         54        640: 100%|██████████| 32/32 [00:03<00:00, 10.18it/s]\n",
            "                 Class     Images  Instances      Box(P          R      mAP50  mAP50-95): 100%|██████████| 3/3 [00:00<00:00,  7.33it/s]"
          ]
        },
        {
          "output_type": "stream",
          "name": "stdout",
          "text": [
            "                   all         65        715        0.9      0.929      0.968      0.828\n"
          ]
        },
        {
          "output_type": "stream",
          "name": "stderr",
          "text": [
            "\n"
          ]
        },
        {
          "output_type": "stream",
          "name": "stdout",
          "text": [
            "\n",
            "      Epoch    GPU_mem   box_loss   cls_loss   dfl_loss  Instances       Size\n"
          ]
        },
        {
          "output_type": "stream",
          "name": "stderr",
          "text": [
            "     45/100      2.38G     0.5816     0.4316     0.9403         82        640: 100%|██████████| 32/32 [00:03<00:00, 10.06it/s]\n",
            "                 Class     Images  Instances      Box(P          R      mAP50  mAP50-95): 100%|██████████| 3/3 [00:00<00:00,  7.39it/s]"
          ]
        },
        {
          "output_type": "stream",
          "name": "stdout",
          "text": [
            "                   all         65        715      0.877      0.906      0.958      0.831\n"
          ]
        },
        {
          "output_type": "stream",
          "name": "stderr",
          "text": [
            "\n"
          ]
        },
        {
          "output_type": "stream",
          "name": "stdout",
          "text": [
            "\n",
            "      Epoch    GPU_mem   box_loss   cls_loss   dfl_loss  Instances       Size\n"
          ]
        },
        {
          "output_type": "stream",
          "name": "stderr",
          "text": [
            "     46/100      2.38G     0.5834     0.4263     0.9324        115        640: 100%|██████████| 32/32 [00:03<00:00, 10.31it/s]\n",
            "                 Class     Images  Instances      Box(P          R      mAP50  mAP50-95): 100%|██████████| 3/3 [00:00<00:00,  7.82it/s]"
          ]
        },
        {
          "output_type": "stream",
          "name": "stdout",
          "text": [
            "                   all         65        715      0.889      0.897      0.955      0.823\n"
          ]
        },
        {
          "output_type": "stream",
          "name": "stderr",
          "text": [
            "\n"
          ]
        },
        {
          "output_type": "stream",
          "name": "stdout",
          "text": [
            "\n",
            "      Epoch    GPU_mem   box_loss   cls_loss   dfl_loss  Instances       Size\n"
          ]
        },
        {
          "output_type": "stream",
          "name": "stderr",
          "text": [
            "     47/100       2.4G     0.5948     0.4364     0.9507         78        640: 100%|██████████| 32/32 [00:03<00:00, 10.39it/s]\n",
            "                 Class     Images  Instances      Box(P          R      mAP50  mAP50-95): 100%|██████████| 3/3 [00:00<00:00,  7.98it/s]"
          ]
        },
        {
          "output_type": "stream",
          "name": "stdout",
          "text": [
            "                   all         65        715      0.894      0.876      0.951      0.824\n"
          ]
        },
        {
          "output_type": "stream",
          "name": "stderr",
          "text": [
            "\n"
          ]
        },
        {
          "output_type": "stream",
          "name": "stdout",
          "text": [
            "\n",
            "      Epoch    GPU_mem   box_loss   cls_loss   dfl_loss  Instances       Size\n"
          ]
        },
        {
          "output_type": "stream",
          "name": "stderr",
          "text": [
            "     48/100      2.51G     0.5885     0.4336     0.9379        112        640: 100%|██████████| 32/32 [00:03<00:00, 10.27it/s]\n",
            "                 Class     Images  Instances      Box(P          R      mAP50  mAP50-95): 100%|██████████| 3/3 [00:00<00:00,  7.25it/s]\n"
          ]
        },
        {
          "output_type": "stream",
          "name": "stdout",
          "text": [
            "                   all         65        715       0.89      0.921      0.963      0.821\n",
            "\n",
            "      Epoch    GPU_mem   box_loss   cls_loss   dfl_loss  Instances       Size\n"
          ]
        },
        {
          "output_type": "stream",
          "name": "stderr",
          "text": [
            "     49/100      2.52G      0.586     0.4214     0.9374         66        640: 100%|██████████| 32/32 [00:03<00:00,  9.73it/s]\n",
            "                 Class     Images  Instances      Box(P          R      mAP50  mAP50-95): 100%|██████████| 3/3 [00:00<00:00,  7.61it/s]"
          ]
        },
        {
          "output_type": "stream",
          "name": "stdout",
          "text": [
            "                   all         65        715      0.881      0.923      0.959      0.831\n"
          ]
        },
        {
          "output_type": "stream",
          "name": "stderr",
          "text": [
            "\n"
          ]
        },
        {
          "output_type": "stream",
          "name": "stdout",
          "text": [
            "\n",
            "      Epoch    GPU_mem   box_loss   cls_loss   dfl_loss  Instances       Size\n"
          ]
        },
        {
          "output_type": "stream",
          "name": "stderr",
          "text": [
            "     50/100      2.36G     0.5683     0.4141     0.9341         60        640: 100%|██████████| 32/32 [00:03<00:00, 10.16it/s]\n",
            "                 Class     Images  Instances      Box(P          R      mAP50  mAP50-95): 100%|██████████| 3/3 [00:00<00:00,  7.54it/s]"
          ]
        },
        {
          "output_type": "stream",
          "name": "stdout",
          "text": [
            "                   all         65        715      0.868      0.919      0.958      0.823\n"
          ]
        },
        {
          "output_type": "stream",
          "name": "stderr",
          "text": [
            "\n"
          ]
        },
        {
          "output_type": "stream",
          "name": "stdout",
          "text": [
            "\n",
            "      Epoch    GPU_mem   box_loss   cls_loss   dfl_loss  Instances       Size\n"
          ]
        },
        {
          "output_type": "stream",
          "name": "stderr",
          "text": [
            "     51/100       2.4G     0.5655     0.4043     0.9341         61        640: 100%|██████████| 32/32 [00:03<00:00, 10.19it/s]\n",
            "                 Class     Images  Instances      Box(P          R      mAP50  mAP50-95): 100%|██████████| 3/3 [00:00<00:00,  7.55it/s]"
          ]
        },
        {
          "output_type": "stream",
          "name": "stdout",
          "text": [
            "                   all         65        715      0.896      0.897      0.959      0.832\n"
          ]
        },
        {
          "output_type": "stream",
          "name": "stderr",
          "text": [
            "\n"
          ]
        },
        {
          "output_type": "stream",
          "name": "stdout",
          "text": [
            "\n",
            "      Epoch    GPU_mem   box_loss   cls_loss   dfl_loss  Instances       Size\n"
          ]
        },
        {
          "output_type": "stream",
          "name": "stderr",
          "text": [
            "     52/100       2.3G     0.5783     0.4197     0.9338         99        640: 100%|██████████| 32/32 [00:02<00:00, 10.72it/s]\n",
            "                 Class     Images  Instances      Box(P          R      mAP50  mAP50-95): 100%|██████████| 3/3 [00:00<00:00,  7.89it/s]"
          ]
        },
        {
          "output_type": "stream",
          "name": "stdout",
          "text": [
            "                   all         65        715      0.883      0.904      0.955      0.827\n"
          ]
        },
        {
          "output_type": "stream",
          "name": "stderr",
          "text": [
            "\n"
          ]
        },
        {
          "output_type": "stream",
          "name": "stdout",
          "text": [
            "\n",
            "      Epoch    GPU_mem   box_loss   cls_loss   dfl_loss  Instances       Size\n"
          ]
        },
        {
          "output_type": "stream",
          "name": "stderr",
          "text": [
            "     53/100      2.56G     0.5744     0.4125     0.9272        128        640: 100%|██████████| 32/32 [00:03<00:00,  9.77it/s]\n",
            "                 Class     Images  Instances      Box(P          R      mAP50  mAP50-95): 100%|██████████| 3/3 [00:00<00:00,  7.33it/s]\n"
          ]
        },
        {
          "output_type": "stream",
          "name": "stdout",
          "text": [
            "                   all         65        715      0.871      0.892      0.946      0.829\n",
            "\n",
            "      Epoch    GPU_mem   box_loss   cls_loss   dfl_loss  Instances       Size\n"
          ]
        },
        {
          "output_type": "stream",
          "name": "stderr",
          "text": [
            "     54/100      2.52G     0.5596      0.407     0.9229         42        640: 100%|██████████| 32/32 [00:03<00:00, 10.08it/s]\n",
            "                 Class     Images  Instances      Box(P          R      mAP50  mAP50-95): 100%|██████████| 3/3 [00:00<00:00,  7.29it/s]"
          ]
        },
        {
          "output_type": "stream",
          "name": "stdout",
          "text": [
            "                   all         65        715      0.869      0.927      0.949      0.819\n"
          ]
        },
        {
          "output_type": "stream",
          "name": "stderr",
          "text": [
            "\n"
          ]
        },
        {
          "output_type": "stream",
          "name": "stdout",
          "text": [
            "\n",
            "      Epoch    GPU_mem   box_loss   cls_loss   dfl_loss  Instances       Size\n"
          ]
        },
        {
          "output_type": "stream",
          "name": "stderr",
          "text": [
            "     55/100      2.36G      0.584     0.4116     0.9346         95        640: 100%|██████████| 32/32 [00:03<00:00, 10.21it/s]\n",
            "                 Class     Images  Instances      Box(P          R      mAP50  mAP50-95): 100%|██████████| 3/3 [00:00<00:00,  7.74it/s]"
          ]
        },
        {
          "output_type": "stream",
          "name": "stdout",
          "text": [
            "                   all         65        715      0.902      0.871      0.955      0.829\n"
          ]
        },
        {
          "output_type": "stream",
          "name": "stderr",
          "text": [
            "\n"
          ]
        },
        {
          "output_type": "stream",
          "name": "stdout",
          "text": [
            "\n",
            "      Epoch    GPU_mem   box_loss   cls_loss   dfl_loss  Instances       Size\n"
          ]
        },
        {
          "output_type": "stream",
          "name": "stderr",
          "text": [
            "     56/100      2.34G     0.5619     0.4028     0.9292         78        640: 100%|██████████| 32/32 [00:03<00:00, 10.39it/s]\n",
            "                 Class     Images  Instances      Box(P          R      mAP50  mAP50-95): 100%|██████████| 3/3 [00:00<00:00,  7.70it/s]"
          ]
        },
        {
          "output_type": "stream",
          "name": "stdout",
          "text": [
            "                   all         65        715      0.905      0.885      0.962      0.835\n"
          ]
        },
        {
          "output_type": "stream",
          "name": "stderr",
          "text": [
            "\n"
          ]
        },
        {
          "output_type": "stream",
          "name": "stdout",
          "text": [
            "\n",
            "      Epoch    GPU_mem   box_loss   cls_loss   dfl_loss  Instances       Size\n"
          ]
        },
        {
          "output_type": "stream",
          "name": "stderr",
          "text": [
            "     57/100      2.51G     0.5628     0.4058     0.9218         69        640: 100%|██████████| 32/32 [00:03<00:00, 10.04it/s]\n",
            "                 Class     Images  Instances      Box(P          R      mAP50  mAP50-95): 100%|██████████| 3/3 [00:00<00:00,  6.86it/s]"
          ]
        },
        {
          "output_type": "stream",
          "name": "stdout",
          "text": [
            "                   all         65        715       0.85      0.925      0.958      0.827\n"
          ]
        },
        {
          "output_type": "stream",
          "name": "stderr",
          "text": [
            "\n"
          ]
        },
        {
          "output_type": "stream",
          "name": "stdout",
          "text": [
            "\n",
            "      Epoch    GPU_mem   box_loss   cls_loss   dfl_loss  Instances       Size\n"
          ]
        },
        {
          "output_type": "stream",
          "name": "stderr",
          "text": [
            "     58/100      2.53G     0.5501     0.3924     0.9143        126        640: 100%|██████████| 32/32 [00:03<00:00,  9.94it/s]\n",
            "                 Class     Images  Instances      Box(P          R      mAP50  mAP50-95): 100%|██████████| 3/3 [00:00<00:00,  7.09it/s]"
          ]
        },
        {
          "output_type": "stream",
          "name": "stdout",
          "text": [
            "                   all         65        715      0.905      0.892      0.956      0.827\n"
          ]
        },
        {
          "output_type": "stream",
          "name": "stderr",
          "text": [
            "\n"
          ]
        },
        {
          "output_type": "stream",
          "name": "stdout",
          "text": [
            "\n",
            "      Epoch    GPU_mem   box_loss   cls_loss   dfl_loss  Instances       Size\n"
          ]
        },
        {
          "output_type": "stream",
          "name": "stderr",
          "text": [
            "     59/100      2.41G     0.5513     0.3883     0.9204        121        640: 100%|██████████| 32/32 [00:03<00:00, 10.41it/s]\n",
            "                 Class     Images  Instances      Box(P          R      mAP50  mAP50-95): 100%|██████████| 3/3 [00:00<00:00,  7.83it/s]"
          ]
        },
        {
          "output_type": "stream",
          "name": "stdout",
          "text": [
            "                   all         65        715      0.898      0.909      0.968      0.837\n"
          ]
        },
        {
          "output_type": "stream",
          "name": "stderr",
          "text": [
            "\n"
          ]
        },
        {
          "output_type": "stream",
          "name": "stdout",
          "text": [
            "\n",
            "      Epoch    GPU_mem   box_loss   cls_loss   dfl_loss  Instances       Size\n"
          ]
        },
        {
          "output_type": "stream",
          "name": "stderr",
          "text": [
            "     60/100      2.51G     0.5516     0.3903     0.9212         81        640: 100%|██████████| 32/32 [00:03<00:00, 10.49it/s]\n",
            "                 Class     Images  Instances      Box(P          R      mAP50  mAP50-95): 100%|██████████| 3/3 [00:00<00:00,  7.36it/s]"
          ]
        },
        {
          "output_type": "stream",
          "name": "stdout",
          "text": [
            "                   all         65        715      0.913      0.897      0.961      0.836\n"
          ]
        },
        {
          "output_type": "stream",
          "name": "stderr",
          "text": [
            "\n"
          ]
        },
        {
          "output_type": "stream",
          "name": "stdout",
          "text": [
            "\n",
            "      Epoch    GPU_mem   box_loss   cls_loss   dfl_loss  Instances       Size\n"
          ]
        },
        {
          "output_type": "stream",
          "name": "stderr",
          "text": [
            "     61/100      2.36G     0.5564     0.3843     0.9224         57        640: 100%|██████████| 32/32 [00:03<00:00, 10.24it/s]\n",
            "                 Class     Images  Instances      Box(P          R      mAP50  mAP50-95): 100%|██████████| 3/3 [00:00<00:00,  7.53it/s]"
          ]
        },
        {
          "output_type": "stream",
          "name": "stdout",
          "text": [
            "                   all         65        715      0.872      0.915      0.961      0.844\n"
          ]
        },
        {
          "output_type": "stream",
          "name": "stderr",
          "text": [
            "\n"
          ]
        },
        {
          "output_type": "stream",
          "name": "stdout",
          "text": [
            "\n",
            "      Epoch    GPU_mem   box_loss   cls_loss   dfl_loss  Instances       Size\n"
          ]
        },
        {
          "output_type": "stream",
          "name": "stderr",
          "text": [
            "     62/100      2.36G     0.5435     0.3922     0.9226         42        640: 100%|██████████| 32/32 [00:03<00:00, 10.11it/s]\n",
            "                 Class     Images  Instances      Box(P          R      mAP50  mAP50-95): 100%|██████████| 3/3 [00:00<00:00,  7.01it/s]"
          ]
        },
        {
          "output_type": "stream",
          "name": "stdout",
          "text": [
            "                   all         65        715      0.899      0.909      0.963       0.84\n"
          ]
        },
        {
          "output_type": "stream",
          "name": "stderr",
          "text": [
            "\n"
          ]
        },
        {
          "output_type": "stream",
          "name": "stdout",
          "text": [
            "\n",
            "      Epoch    GPU_mem   box_loss   cls_loss   dfl_loss  Instances       Size\n"
          ]
        },
        {
          "output_type": "stream",
          "name": "stderr",
          "text": [
            "     63/100       2.4G      0.567      0.396     0.9287         32        640: 100%|██████████| 32/32 [00:03<00:00, 10.34it/s]\n",
            "                 Class     Images  Instances      Box(P          R      mAP50  mAP50-95): 100%|██████████| 3/3 [00:00<00:00,  7.74it/s]"
          ]
        },
        {
          "output_type": "stream",
          "name": "stdout",
          "text": [
            "                   all         65        715      0.901      0.895      0.962      0.839\n"
          ]
        },
        {
          "output_type": "stream",
          "name": "stderr",
          "text": [
            "\n"
          ]
        },
        {
          "output_type": "stream",
          "name": "stdout",
          "text": [
            "\n",
            "      Epoch    GPU_mem   box_loss   cls_loss   dfl_loss  Instances       Size\n"
          ]
        },
        {
          "output_type": "stream",
          "name": "stderr",
          "text": [
            "     64/100      2.27G     0.5516     0.3868     0.9231         50        640: 100%|██████████| 32/32 [00:03<00:00, 10.27it/s]\n",
            "                 Class     Images  Instances      Box(P          R      mAP50  mAP50-95): 100%|██████████| 3/3 [00:00<00:00,  7.94it/s]"
          ]
        },
        {
          "output_type": "stream",
          "name": "stdout",
          "text": [
            "                   all         65        715      0.883      0.937      0.968      0.837\n"
          ]
        },
        {
          "output_type": "stream",
          "name": "stderr",
          "text": [
            "\n"
          ]
        },
        {
          "output_type": "stream",
          "name": "stdout",
          "text": [
            "\n",
            "      Epoch    GPU_mem   box_loss   cls_loss   dfl_loss  Instances       Size\n"
          ]
        },
        {
          "output_type": "stream",
          "name": "stderr",
          "text": [
            "     65/100      2.38G     0.5439     0.3793     0.9234         58        640: 100%|██████████| 32/32 [00:03<00:00, 10.13it/s]\n",
            "                 Class     Images  Instances      Box(P          R      mAP50  mAP50-95): 100%|██████████| 3/3 [00:00<00:00,  7.66it/s]"
          ]
        },
        {
          "output_type": "stream",
          "name": "stdout",
          "text": [
            "                   all         65        715      0.913      0.901      0.962      0.831\n"
          ]
        },
        {
          "output_type": "stream",
          "name": "stderr",
          "text": [
            "\n"
          ]
        },
        {
          "output_type": "stream",
          "name": "stdout",
          "text": [
            "\n",
            "      Epoch    GPU_mem   box_loss   cls_loss   dfl_loss  Instances       Size\n"
          ]
        },
        {
          "output_type": "stream",
          "name": "stderr",
          "text": [
            "     66/100      2.38G     0.5322     0.3733     0.9208        102        640: 100%|██████████| 32/32 [00:03<00:00,  9.78it/s]\n",
            "                 Class     Images  Instances      Box(P          R      mAP50  mAP50-95): 100%|██████████| 3/3 [00:00<00:00,  6.65it/s]"
          ]
        },
        {
          "output_type": "stream",
          "name": "stdout",
          "text": [
            "                   all         65        715      0.934      0.885       0.97       0.85\n"
          ]
        },
        {
          "output_type": "stream",
          "name": "stderr",
          "text": [
            "\n"
          ]
        },
        {
          "output_type": "stream",
          "name": "stdout",
          "text": [
            "\n",
            "      Epoch    GPU_mem   box_loss   cls_loss   dfl_loss  Instances       Size\n"
          ]
        },
        {
          "output_type": "stream",
          "name": "stderr",
          "text": [
            "     67/100      2.38G     0.5312     0.3795     0.9189         62        640: 100%|██████████| 32/32 [00:03<00:00, 10.33it/s]\n",
            "                 Class     Images  Instances      Box(P          R      mAP50  mAP50-95): 100%|██████████| 3/3 [00:00<00:00,  8.03it/s]"
          ]
        },
        {
          "output_type": "stream",
          "name": "stdout",
          "text": [
            "                   all         65        715      0.906      0.913      0.966      0.839\n"
          ]
        },
        {
          "output_type": "stream",
          "name": "stderr",
          "text": [
            "\n"
          ]
        },
        {
          "output_type": "stream",
          "name": "stdout",
          "text": [
            "\n",
            "      Epoch    GPU_mem   box_loss   cls_loss   dfl_loss  Instances       Size\n"
          ]
        },
        {
          "output_type": "stream",
          "name": "stderr",
          "text": [
            "     68/100      2.37G      0.535     0.3737     0.9154         95        640: 100%|██████████| 32/32 [00:03<00:00, 10.30it/s]\n",
            "                 Class     Images  Instances      Box(P          R      mAP50  mAP50-95): 100%|██████████| 3/3 [00:00<00:00,  7.94it/s]"
          ]
        },
        {
          "output_type": "stream",
          "name": "stdout",
          "text": [
            "                   all         65        715       0.89      0.917      0.959      0.841\n"
          ]
        },
        {
          "output_type": "stream",
          "name": "stderr",
          "text": [
            "\n"
          ]
        },
        {
          "output_type": "stream",
          "name": "stdout",
          "text": [
            "\n",
            "      Epoch    GPU_mem   box_loss   cls_loss   dfl_loss  Instances       Size\n"
          ]
        },
        {
          "output_type": "stream",
          "name": "stderr",
          "text": [
            "     69/100      2.35G     0.5478     0.3732     0.9201         68        640: 100%|██████████| 32/32 [00:03<00:00, 10.07it/s]\n",
            "                 Class     Images  Instances      Box(P          R      mAP50  mAP50-95): 100%|██████████| 3/3 [00:00<00:00,  7.42it/s]"
          ]
        },
        {
          "output_type": "stream",
          "name": "stdout",
          "text": [
            "                   all         65        715      0.889      0.917      0.964      0.838\n"
          ]
        },
        {
          "output_type": "stream",
          "name": "stderr",
          "text": [
            "\n"
          ]
        },
        {
          "output_type": "stream",
          "name": "stdout",
          "text": [
            "\n",
            "      Epoch    GPU_mem   box_loss   cls_loss   dfl_loss  Instances       Size\n"
          ]
        },
        {
          "output_type": "stream",
          "name": "stderr",
          "text": [
            "     70/100      2.44G     0.5518     0.3763     0.9175         83        640: 100%|██████████| 32/32 [00:03<00:00, 10.27it/s]\n",
            "                 Class     Images  Instances      Box(P          R      mAP50  mAP50-95): 100%|██████████| 3/3 [00:00<00:00,  7.62it/s]"
          ]
        },
        {
          "output_type": "stream",
          "name": "stdout",
          "text": [
            "                   all         65        715      0.916      0.883      0.962      0.841\n"
          ]
        },
        {
          "output_type": "stream",
          "name": "stderr",
          "text": [
            "\n"
          ]
        },
        {
          "output_type": "stream",
          "name": "stdout",
          "text": [
            "\n",
            "      Epoch    GPU_mem   box_loss   cls_loss   dfl_loss  Instances       Size\n"
          ]
        },
        {
          "output_type": "stream",
          "name": "stderr",
          "text": [
            "     71/100       2.3G     0.5241     0.3621      0.907        103        640: 100%|██████████| 32/32 [00:03<00:00, 10.11it/s]\n",
            "                 Class     Images  Instances      Box(P          R      mAP50  mAP50-95): 100%|██████████| 3/3 [00:00<00:00,  7.30it/s]"
          ]
        },
        {
          "output_type": "stream",
          "name": "stdout",
          "text": [
            "                   all         65        715       0.89      0.884      0.955      0.846\n"
          ]
        },
        {
          "output_type": "stream",
          "name": "stderr",
          "text": [
            "\n"
          ]
        },
        {
          "output_type": "stream",
          "name": "stdout",
          "text": [
            "\n",
            "      Epoch    GPU_mem   box_loss   cls_loss   dfl_loss  Instances       Size\n"
          ]
        },
        {
          "output_type": "stream",
          "name": "stderr",
          "text": [
            "     72/100      2.45G     0.5351     0.3691     0.9224         49        640: 100%|██████████| 32/32 [00:03<00:00, 10.20it/s]\n",
            "                 Class     Images  Instances      Box(P          R      mAP50  mAP50-95): 100%|██████████| 3/3 [00:00<00:00,  7.50it/s]"
          ]
        },
        {
          "output_type": "stream",
          "name": "stdout",
          "text": [
            "                   all         65        715      0.927      0.874      0.948      0.837\n"
          ]
        },
        {
          "output_type": "stream",
          "name": "stderr",
          "text": [
            "\n"
          ]
        },
        {
          "output_type": "stream",
          "name": "stdout",
          "text": [
            "\n",
            "      Epoch    GPU_mem   box_loss   cls_loss   dfl_loss  Instances       Size\n"
          ]
        },
        {
          "output_type": "stream",
          "name": "stderr",
          "text": [
            "     73/100      2.42G     0.5304     0.3673     0.9171         96        640: 100%|██████████| 32/32 [00:03<00:00, 10.34it/s]\n",
            "                 Class     Images  Instances      Box(P          R      mAP50  mAP50-95): 100%|██████████| 3/3 [00:00<00:00,  8.02it/s]"
          ]
        },
        {
          "output_type": "stream",
          "name": "stdout",
          "text": [
            "                   all         65        715      0.899      0.887      0.958      0.841\n"
          ]
        },
        {
          "output_type": "stream",
          "name": "stderr",
          "text": [
            "\n"
          ]
        },
        {
          "output_type": "stream",
          "name": "stdout",
          "text": [
            "\n",
            "      Epoch    GPU_mem   box_loss   cls_loss   dfl_loss  Instances       Size\n"
          ]
        },
        {
          "output_type": "stream",
          "name": "stderr",
          "text": [
            "     74/100       2.4G     0.5326     0.3722     0.9106         95        640: 100%|██████████| 32/32 [00:03<00:00, 10.09it/s]\n",
            "                 Class     Images  Instances      Box(P          R      mAP50  mAP50-95): 100%|██████████| 3/3 [00:00<00:00,  7.07it/s]"
          ]
        },
        {
          "output_type": "stream",
          "name": "stdout",
          "text": [
            "                   all         65        715      0.922      0.889      0.961      0.839\n"
          ]
        },
        {
          "output_type": "stream",
          "name": "stderr",
          "text": [
            "\n"
          ]
        },
        {
          "output_type": "stream",
          "name": "stdout",
          "text": [
            "\n",
            "      Epoch    GPU_mem   box_loss   cls_loss   dfl_loss  Instances       Size\n"
          ]
        },
        {
          "output_type": "stream",
          "name": "stderr",
          "text": [
            "     75/100      2.54G     0.5383     0.3648     0.9194         53        640: 100%|██████████| 32/32 [00:03<00:00, 10.44it/s]\n",
            "                 Class     Images  Instances      Box(P          R      mAP50  mAP50-95): 100%|██████████| 3/3 [00:00<00:00,  7.37it/s]"
          ]
        },
        {
          "output_type": "stream",
          "name": "stdout",
          "text": [
            "                   all         65        715      0.919      0.877      0.963      0.834\n"
          ]
        },
        {
          "output_type": "stream",
          "name": "stderr",
          "text": [
            "\n"
          ]
        },
        {
          "output_type": "stream",
          "name": "stdout",
          "text": [
            "\n",
            "      Epoch    GPU_mem   box_loss   cls_loss   dfl_loss  Instances       Size\n"
          ]
        },
        {
          "output_type": "stream",
          "name": "stderr",
          "text": [
            "     76/100      2.43G     0.5417     0.3666     0.9215         62        640: 100%|██████████| 32/32 [00:03<00:00, 10.39it/s]\n",
            "                 Class     Images  Instances      Box(P          R      mAP50  mAP50-95): 100%|██████████| 3/3 [00:00<00:00,  7.34it/s]"
          ]
        },
        {
          "output_type": "stream",
          "name": "stdout",
          "text": [
            "                   all         65        715       0.86      0.927       0.96      0.837\n"
          ]
        },
        {
          "output_type": "stream",
          "name": "stderr",
          "text": [
            "\n"
          ]
        },
        {
          "output_type": "stream",
          "name": "stdout",
          "text": [
            "\n",
            "      Epoch    GPU_mem   box_loss   cls_loss   dfl_loss  Instances       Size\n"
          ]
        },
        {
          "output_type": "stream",
          "name": "stderr",
          "text": [
            "     77/100      2.39G      0.528     0.3579      0.908        121        640: 100%|██████████| 32/32 [00:03<00:00, 10.24it/s]\n",
            "                 Class     Images  Instances      Box(P          R      mAP50  mAP50-95): 100%|██████████| 3/3 [00:00<00:00,  7.57it/s]"
          ]
        },
        {
          "output_type": "stream",
          "name": "stdout",
          "text": [
            "                   all         65        715      0.889      0.917      0.966      0.837\n"
          ]
        },
        {
          "output_type": "stream",
          "name": "stderr",
          "text": [
            "\n"
          ]
        },
        {
          "output_type": "stream",
          "name": "stdout",
          "text": [
            "\n",
            "      Epoch    GPU_mem   box_loss   cls_loss   dfl_loss  Instances       Size\n"
          ]
        },
        {
          "output_type": "stream",
          "name": "stderr",
          "text": [
            "     78/100      2.37G      0.525     0.3582     0.9147        128        640: 100%|██████████| 32/32 [00:03<00:00, 10.12it/s]\n",
            "                 Class     Images  Instances      Box(P          R      mAP50  mAP50-95): 100%|██████████| 3/3 [00:00<00:00,  6.77it/s]"
          ]
        },
        {
          "output_type": "stream",
          "name": "stdout",
          "text": [
            "                   all         65        715      0.896      0.915      0.964      0.846\n"
          ]
        },
        {
          "output_type": "stream",
          "name": "stderr",
          "text": [
            "\n"
          ]
        },
        {
          "output_type": "stream",
          "name": "stdout",
          "text": [
            "\n",
            "      Epoch    GPU_mem   box_loss   cls_loss   dfl_loss  Instances       Size\n"
          ]
        },
        {
          "output_type": "stream",
          "name": "stderr",
          "text": [
            "     79/100      2.37G     0.5202     0.3518      0.914         77        640: 100%|██████████| 32/32 [00:03<00:00, 10.11it/s]\n",
            "                 Class     Images  Instances      Box(P          R      mAP50  mAP50-95): 100%|██████████| 3/3 [00:00<00:00,  7.79it/s]"
          ]
        },
        {
          "output_type": "stream",
          "name": "stdout",
          "text": [
            "                   all         65        715      0.908      0.885      0.961      0.839\n"
          ]
        },
        {
          "output_type": "stream",
          "name": "stderr",
          "text": [
            "\n"
          ]
        },
        {
          "output_type": "stream",
          "name": "stdout",
          "text": [
            "\n",
            "      Epoch    GPU_mem   box_loss   cls_loss   dfl_loss  Instances       Size\n"
          ]
        },
        {
          "output_type": "stream",
          "name": "stderr",
          "text": [
            "     80/100       2.3G      0.529     0.3546     0.9093         85        640: 100%|██████████| 32/32 [00:03<00:00,  9.86it/s]\n",
            "                 Class     Images  Instances      Box(P          R      mAP50  mAP50-95): 100%|██████████| 3/3 [00:00<00:00,  7.73it/s]"
          ]
        },
        {
          "output_type": "stream",
          "name": "stdout",
          "text": [
            "                   all         65        715      0.879      0.903      0.962      0.839\n"
          ]
        },
        {
          "output_type": "stream",
          "name": "stderr",
          "text": [
            "\n"
          ]
        },
        {
          "output_type": "stream",
          "name": "stdout",
          "text": [
            "\n",
            "      Epoch    GPU_mem   box_loss   cls_loss   dfl_loss  Instances       Size\n"
          ]
        },
        {
          "output_type": "stream",
          "name": "stderr",
          "text": [
            "     81/100      2.37G     0.5183     0.3498     0.9044        112        640: 100%|██████████| 32/32 [00:03<00:00,  9.83it/s]\n",
            "                 Class     Images  Instances      Box(P          R      mAP50  mAP50-95): 100%|██████████| 3/3 [00:00<00:00,  7.47it/s]"
          ]
        },
        {
          "output_type": "stream",
          "name": "stdout",
          "text": [
            "                   all         65        715      0.895      0.895      0.962      0.845\n"
          ]
        },
        {
          "output_type": "stream",
          "name": "stderr",
          "text": [
            "\n"
          ]
        },
        {
          "output_type": "stream",
          "name": "stdout",
          "text": [
            "\n",
            "      Epoch    GPU_mem   box_loss   cls_loss   dfl_loss  Instances       Size\n"
          ]
        },
        {
          "output_type": "stream",
          "name": "stderr",
          "text": [
            "     82/100      2.38G     0.5177     0.3523     0.9123         66        640: 100%|██████████| 32/32 [00:03<00:00,  9.95it/s]\n",
            "                 Class     Images  Instances      Box(P          R      mAP50  mAP50-95): 100%|██████████| 3/3 [00:00<00:00,  7.13it/s]"
          ]
        },
        {
          "output_type": "stream",
          "name": "stdout",
          "text": [
            "                   all         65        715      0.931       0.87      0.963      0.841\n"
          ]
        },
        {
          "output_type": "stream",
          "name": "stderr",
          "text": [
            "\n"
          ]
        },
        {
          "output_type": "stream",
          "name": "stdout",
          "text": [
            "\n",
            "      Epoch    GPU_mem   box_loss   cls_loss   dfl_loss  Instances       Size\n"
          ]
        },
        {
          "output_type": "stream",
          "name": "stderr",
          "text": [
            "     83/100      2.38G     0.5166      0.347     0.9103         99        640: 100%|██████████| 32/32 [00:03<00:00, 10.07it/s]\n",
            "                 Class     Images  Instances      Box(P          R      mAP50  mAP50-95): 100%|██████████| 3/3 [00:00<00:00,  7.62it/s]"
          ]
        },
        {
          "output_type": "stream",
          "name": "stdout",
          "text": [
            "                   all         65        715      0.909      0.895      0.965      0.841\n"
          ]
        },
        {
          "output_type": "stream",
          "name": "stderr",
          "text": [
            "\n"
          ]
        },
        {
          "output_type": "stream",
          "name": "stdout",
          "text": [
            "\n",
            "      Epoch    GPU_mem   box_loss   cls_loss   dfl_loss  Instances       Size\n"
          ]
        },
        {
          "output_type": "stream",
          "name": "stderr",
          "text": [
            "     84/100      2.36G     0.5071     0.3425      0.902         61        640: 100%|██████████| 32/32 [00:03<00:00, 10.42it/s]\n",
            "                 Class     Images  Instances      Box(P          R      mAP50  mAP50-95): 100%|██████████| 3/3 [00:00<00:00,  7.57it/s]"
          ]
        },
        {
          "output_type": "stream",
          "name": "stdout",
          "text": [
            "                   all         65        715      0.908      0.914      0.967      0.844\n"
          ]
        },
        {
          "output_type": "stream",
          "name": "stderr",
          "text": [
            "\n"
          ]
        },
        {
          "output_type": "stream",
          "name": "stdout",
          "text": [
            "\n",
            "      Epoch    GPU_mem   box_loss   cls_loss   dfl_loss  Instances       Size\n"
          ]
        },
        {
          "output_type": "stream",
          "name": "stderr",
          "text": [
            "     85/100      2.37G     0.5071     0.3421     0.9036         74        640: 100%|██████████| 32/32 [00:03<00:00, 10.19it/s]\n",
            "                 Class     Images  Instances      Box(P          R      mAP50  mAP50-95): 100%|██████████| 3/3 [00:00<00:00,  7.32it/s]"
          ]
        },
        {
          "output_type": "stream",
          "name": "stdout",
          "text": [
            "                   all         65        715      0.914      0.887      0.967      0.851\n"
          ]
        },
        {
          "output_type": "stream",
          "name": "stderr",
          "text": [
            "\n"
          ]
        },
        {
          "output_type": "stream",
          "name": "stdout",
          "text": [
            "\n",
            "      Epoch    GPU_mem   box_loss   cls_loss   dfl_loss  Instances       Size\n"
          ]
        },
        {
          "output_type": "stream",
          "name": "stderr",
          "text": [
            "     86/100      2.35G     0.5157     0.3431     0.9074         80        640: 100%|██████████| 32/32 [00:03<00:00,  9.83it/s]\n",
            "                 Class     Images  Instances      Box(P          R      mAP50  mAP50-95): 100%|██████████| 3/3 [00:00<00:00,  7.50it/s]"
          ]
        },
        {
          "output_type": "stream",
          "name": "stdout",
          "text": [
            "                   all         65        715      0.924      0.886      0.965      0.848\n"
          ]
        },
        {
          "output_type": "stream",
          "name": "stderr",
          "text": [
            "\n"
          ]
        },
        {
          "output_type": "stream",
          "name": "stdout",
          "text": [
            "\n",
            "      Epoch    GPU_mem   box_loss   cls_loss   dfl_loss  Instances       Size\n"
          ]
        },
        {
          "output_type": "stream",
          "name": "stderr",
          "text": [
            "     87/100      2.44G     0.5039      0.343     0.9035         71        640: 100%|██████████| 32/32 [00:03<00:00,  9.99it/s]\n",
            "                 Class     Images  Instances      Box(P          R      mAP50  mAP50-95): 100%|██████████| 3/3 [00:00<00:00,  7.81it/s]"
          ]
        },
        {
          "output_type": "stream",
          "name": "stdout",
          "text": [
            "                   all         65        715      0.914      0.887      0.962       0.85\n"
          ]
        },
        {
          "output_type": "stream",
          "name": "stderr",
          "text": [
            "\n"
          ]
        },
        {
          "output_type": "stream",
          "name": "stdout",
          "text": [
            "\n",
            "      Epoch    GPU_mem   box_loss   cls_loss   dfl_loss  Instances       Size\n"
          ]
        },
        {
          "output_type": "stream",
          "name": "stderr",
          "text": [
            "     88/100      2.53G     0.5058     0.3335     0.9027         71        640: 100%|██████████| 32/32 [00:03<00:00, 10.49it/s]\n",
            "                 Class     Images  Instances      Box(P          R      mAP50  mAP50-95): 100%|██████████| 3/3 [00:00<00:00,  7.25it/s]"
          ]
        },
        {
          "output_type": "stream",
          "name": "stdout",
          "text": [
            "                   all         65        715      0.882      0.917      0.962      0.852\n"
          ]
        },
        {
          "output_type": "stream",
          "name": "stderr",
          "text": [
            "\n"
          ]
        },
        {
          "output_type": "stream",
          "name": "stdout",
          "text": [
            "\n",
            "      Epoch    GPU_mem   box_loss   cls_loss   dfl_loss  Instances       Size\n"
          ]
        },
        {
          "output_type": "stream",
          "name": "stderr",
          "text": [
            "     89/100      2.38G     0.4986      0.335     0.9022        139        640: 100%|██████████| 32/32 [00:03<00:00, 10.20it/s]\n",
            "                 Class     Images  Instances      Box(P          R      mAP50  mAP50-95): 100%|██████████| 3/3 [00:00<00:00,  8.30it/s]\n"
          ]
        },
        {
          "output_type": "stream",
          "name": "stdout",
          "text": [
            "                   all         65        715      0.904      0.901      0.961      0.849\n",
            "\n",
            "      Epoch    GPU_mem   box_loss   cls_loss   dfl_loss  Instances       Size\n"
          ]
        },
        {
          "output_type": "stream",
          "name": "stderr",
          "text": [
            "     90/100      2.42G     0.4991      0.332     0.9021         91        640: 100%|██████████| 32/32 [00:03<00:00,  9.85it/s]\n",
            "                 Class     Images  Instances      Box(P          R      mAP50  mAP50-95): 100%|██████████| 3/3 [00:00<00:00,  7.42it/s]"
          ]
        },
        {
          "output_type": "stream",
          "name": "stdout",
          "text": [
            "                   all         65        715      0.907      0.897      0.963      0.851\n"
          ]
        },
        {
          "output_type": "stream",
          "name": "stderr",
          "text": [
            "\n"
          ]
        },
        {
          "output_type": "stream",
          "name": "stdout",
          "text": [
            "Closing dataloader mosaic\n",
            "\u001b[34m\u001b[1malbumentations: \u001b[0mBlur(p=0.01, blur_limit=(3, 7)), MedianBlur(p=0.01, blur_limit=(3, 7)), ToGray(p=0.01), CLAHE(p=0.01, clip_limit=(1, 4.0), tile_grid_size=(8, 8))\n",
            "\n",
            "      Epoch    GPU_mem   box_loss   cls_loss   dfl_loss  Instances       Size\n"
          ]
        },
        {
          "output_type": "stream",
          "name": "stderr",
          "text": [
            "     91/100      2.28G     0.4368     0.2975     0.8629         67        640: 100%|██████████| 32/32 [00:07<00:00,  4.56it/s]\n",
            "                 Class     Images  Instances      Box(P          R      mAP50  mAP50-95): 100%|██████████| 3/3 [00:00<00:00,  7.86it/s]"
          ]
        },
        {
          "output_type": "stream",
          "name": "stdout",
          "text": [
            "                   all         65        715      0.888        0.9      0.953      0.835\n"
          ]
        },
        {
          "output_type": "stream",
          "name": "stderr",
          "text": [
            "\n"
          ]
        },
        {
          "output_type": "stream",
          "name": "stdout",
          "text": [
            "\n",
            "      Epoch    GPU_mem   box_loss   cls_loss   dfl_loss  Instances       Size\n"
          ]
        },
        {
          "output_type": "stream",
          "name": "stderr",
          "text": [
            "     92/100      2.28G     0.4358     0.2953     0.8586         47        640: 100%|██████████| 32/32 [00:03<00:00, 10.63it/s]\n",
            "                 Class     Images  Instances      Box(P          R      mAP50  mAP50-95): 100%|██████████| 3/3 [00:00<00:00,  7.24it/s]"
          ]
        },
        {
          "output_type": "stream",
          "name": "stdout",
          "text": [
            "                   all         65        715      0.893      0.912      0.961      0.838\n"
          ]
        },
        {
          "output_type": "stream",
          "name": "stderr",
          "text": [
            "\n"
          ]
        },
        {
          "output_type": "stream",
          "name": "stdout",
          "text": [
            "\n",
            "      Epoch    GPU_mem   box_loss   cls_loss   dfl_loss  Instances       Size\n"
          ]
        },
        {
          "output_type": "stream",
          "name": "stderr",
          "text": [
            "     93/100      2.27G     0.4286     0.2869     0.8599         42        640: 100%|██████████| 32/32 [00:03<00:00, 10.31it/s]\n",
            "                 Class     Images  Instances      Box(P          R      mAP50  mAP50-95): 100%|██████████| 3/3 [00:00<00:00,  7.50it/s]"
          ]
        },
        {
          "output_type": "stream",
          "name": "stdout",
          "text": [
            "                   all         65        715      0.902      0.899      0.961      0.841\n"
          ]
        },
        {
          "output_type": "stream",
          "name": "stderr",
          "text": [
            "\n"
          ]
        },
        {
          "output_type": "stream",
          "name": "stdout",
          "text": [
            "\n",
            "      Epoch    GPU_mem   box_loss   cls_loss   dfl_loss  Instances       Size\n"
          ]
        },
        {
          "output_type": "stream",
          "name": "stderr",
          "text": [
            "     94/100      2.28G      0.431     0.2873      0.863         35        640: 100%|██████████| 32/32 [00:03<00:00, 10.21it/s]\n",
            "                 Class     Images  Instances      Box(P          R      mAP50  mAP50-95): 100%|██████████| 3/3 [00:00<00:00,  8.34it/s]\n"
          ]
        },
        {
          "output_type": "stream",
          "name": "stdout",
          "text": [
            "                   all         65        715      0.878      0.916      0.954      0.837\n",
            "\n",
            "      Epoch    GPU_mem   box_loss   cls_loss   dfl_loss  Instances       Size\n"
          ]
        },
        {
          "output_type": "stream",
          "name": "stderr",
          "text": [
            "     95/100      2.27G      0.418     0.2778     0.8563         51        640: 100%|██████████| 32/32 [00:03<00:00, 10.58it/s]\n",
            "                 Class     Images  Instances      Box(P          R      mAP50  mAP50-95): 100%|██████████| 3/3 [00:00<00:00,  7.85it/s]"
          ]
        },
        {
          "output_type": "stream",
          "name": "stdout",
          "text": [
            "                   all         65        715      0.917      0.891      0.958      0.839\n"
          ]
        },
        {
          "output_type": "stream",
          "name": "stderr",
          "text": [
            "\n"
          ]
        },
        {
          "output_type": "stream",
          "name": "stdout",
          "text": [
            "\n",
            "      Epoch    GPU_mem   box_loss   cls_loss   dfl_loss  Instances       Size\n"
          ]
        },
        {
          "output_type": "stream",
          "name": "stderr",
          "text": [
            "     96/100      2.28G     0.4176     0.2835     0.8558         51        640: 100%|██████████| 32/32 [00:03<00:00, 10.65it/s]\n",
            "                 Class     Images  Instances      Box(P          R      mAP50  mAP50-95): 100%|██████████| 3/3 [00:00<00:00,  8.37it/s]"
          ]
        },
        {
          "output_type": "stream",
          "name": "stdout",
          "text": [
            "                   all         65        715      0.901      0.928      0.967      0.844\n"
          ]
        },
        {
          "output_type": "stream",
          "name": "stderr",
          "text": [
            "\n"
          ]
        },
        {
          "output_type": "stream",
          "name": "stdout",
          "text": [
            "\n",
            "      Epoch    GPU_mem   box_loss   cls_loss   dfl_loss  Instances       Size\n"
          ]
        },
        {
          "output_type": "stream",
          "name": "stderr",
          "text": [
            "     97/100      2.27G     0.4232     0.2814     0.8599         43        640: 100%|██████████| 32/32 [00:03<00:00, 10.15it/s]\n",
            "                 Class     Images  Instances      Box(P          R      mAP50  mAP50-95): 100%|██████████| 3/3 [00:00<00:00,  7.53it/s]"
          ]
        },
        {
          "output_type": "stream",
          "name": "stdout",
          "text": [
            "                   all         65        715      0.926      0.878      0.963      0.844\n"
          ]
        },
        {
          "output_type": "stream",
          "name": "stderr",
          "text": [
            "\n"
          ]
        },
        {
          "output_type": "stream",
          "name": "stdout",
          "text": [
            "\n",
            "      Epoch    GPU_mem   box_loss   cls_loss   dfl_loss  Instances       Size\n"
          ]
        },
        {
          "output_type": "stream",
          "name": "stderr",
          "text": [
            "     98/100      2.29G     0.4129     0.2778     0.8558         60        640: 100%|██████████| 32/32 [00:03<00:00, 10.39it/s]\n",
            "                 Class     Images  Instances      Box(P          R      mAP50  mAP50-95): 100%|██████████| 3/3 [00:00<00:00,  7.91it/s]\n"
          ]
        },
        {
          "output_type": "stream",
          "name": "stdout",
          "text": [
            "                   all         65        715      0.919      0.888      0.959      0.845\n",
            "\n",
            "      Epoch    GPU_mem   box_loss   cls_loss   dfl_loss  Instances       Size\n"
          ]
        },
        {
          "output_type": "stream",
          "name": "stderr",
          "text": [
            "     99/100      2.27G     0.4148     0.2734       0.85         41        640: 100%|██████████| 32/32 [00:02<00:00, 10.91it/s]\n",
            "                 Class     Images  Instances      Box(P          R      mAP50  mAP50-95): 100%|██████████| 3/3 [00:00<00:00,  7.69it/s]"
          ]
        },
        {
          "output_type": "stream",
          "name": "stdout",
          "text": [
            "                   all         65        715      0.922      0.891      0.962      0.844\n"
          ]
        },
        {
          "output_type": "stream",
          "name": "stderr",
          "text": [
            "\n"
          ]
        },
        {
          "output_type": "stream",
          "name": "stdout",
          "text": [
            "\n",
            "      Epoch    GPU_mem   box_loss   cls_loss   dfl_loss  Instances       Size\n"
          ]
        },
        {
          "output_type": "stream",
          "name": "stderr",
          "text": [
            "    100/100      2.27G     0.4082     0.2695      0.855         37        640: 100%|██████████| 32/32 [00:03<00:00, 10.53it/s]\n",
            "                 Class     Images  Instances      Box(P          R      mAP50  mAP50-95): 100%|██████████| 3/3 [00:00<00:00,  7.09it/s]"
          ]
        },
        {
          "output_type": "stream",
          "name": "stdout",
          "text": [
            "                   all         65        715      0.916      0.894      0.961      0.847\n"
          ]
        },
        {
          "output_type": "stream",
          "name": "stderr",
          "text": [
            "\n"
          ]
        },
        {
          "output_type": "stream",
          "name": "stdout",
          "text": [
            "\n",
            "100 epochs completed in 0.117 hours.\n",
            "Optimizer stripped from runs/detect/train/weights/last.pt, 6.3MB\n",
            "Optimizer stripped from runs/detect/train/weights/best.pt, 6.3MB\n",
            "\n",
            "Validating runs/detect/train/weights/best.pt...\n",
            "Ultralytics YOLOv8.0.217 🚀 Python-3.10.12 torch-2.1.0+cu118 CUDA:0 (NVIDIA A100-SXM4-40GB, 40514MiB)\n",
            "Model summary (fused): 168 layers, 3006038 parameters, 0 gradients, 8.1 GFLOPs\n"
          ]
        },
        {
          "output_type": "stream",
          "name": "stderr",
          "text": [
            "                 Class     Images  Instances      Box(P          R      mAP50  mAP50-95): 100%|██████████| 3/3 [00:02<00:00,  1.09it/s]\n"
          ]
        },
        {
          "output_type": "stream",
          "name": "stdout",
          "text": [
            "                   all         65        715      0.904      0.895      0.962      0.852\n",
            "                     0         65        715      0.904      0.895      0.962      0.852\n",
            "Speed: 0.1ms preprocess, 0.7ms inference, 0.0ms loss, 1.5ms postprocess per image\n",
            "Results saved to \u001b[1mruns/detect/train\u001b[0m\n"
          ]
        },
        {
          "output_type": "execute_result",
          "data": {
            "text/plain": [
              "ultralytics.utils.metrics.DetMetrics object with attributes:\n",
              "\n",
              "ap_class_index: array([0])\n",
              "box: ultralytics.utils.metrics.Metric object\n",
              "confusion_matrix: <ultralytics.utils.metrics.ConfusionMatrix object at 0x7e5c29fae6e0>\n",
              "curves: ['Precision-Recall(B)', 'F1-Confidence(B)', 'Precision-Confidence(B)', 'Recall-Confidence(B)']\n",
              "curves_results: [[array([          0,    0.001001,    0.002002,    0.003003,    0.004004,    0.005005,    0.006006,    0.007007,    0.008008,    0.009009,     0.01001,    0.011011,    0.012012,    0.013013,    0.014014,    0.015015,    0.016016,    0.017017,    0.018018,    0.019019,     0.02002,    0.021021,    0.022022,    0.023023,\n",
              "          0.024024,    0.025025,    0.026026,    0.027027,    0.028028,    0.029029,     0.03003,    0.031031,    0.032032,    0.033033,    0.034034,    0.035035,    0.036036,    0.037037,    0.038038,    0.039039,     0.04004,    0.041041,    0.042042,    0.043043,    0.044044,    0.045045,    0.046046,    0.047047,\n",
              "          0.048048,    0.049049,     0.05005,    0.051051,    0.052052,    0.053053,    0.054054,    0.055055,    0.056056,    0.057057,    0.058058,    0.059059,     0.06006,    0.061061,    0.062062,    0.063063,    0.064064,    0.065065,    0.066066,    0.067067,    0.068068,    0.069069,     0.07007,    0.071071,\n",
              "          0.072072,    0.073073,    0.074074,    0.075075,    0.076076,    0.077077,    0.078078,    0.079079,     0.08008,    0.081081,    0.082082,    0.083083,    0.084084,    0.085085,    0.086086,    0.087087,    0.088088,    0.089089,     0.09009,    0.091091,    0.092092,    0.093093,    0.094094,    0.095095,\n",
              "          0.096096,    0.097097,    0.098098,    0.099099,      0.1001,      0.1011,      0.1021,      0.1031,      0.1041,     0.10511,     0.10611,     0.10711,     0.10811,     0.10911,     0.11011,     0.11111,     0.11211,     0.11311,     0.11411,     0.11512,     0.11612,     0.11712,     0.11812,     0.11912,\n",
              "           0.12012,     0.12112,     0.12212,     0.12312,     0.12412,     0.12513,     0.12613,     0.12713,     0.12813,     0.12913,     0.13013,     0.13113,     0.13213,     0.13313,     0.13413,     0.13514,     0.13614,     0.13714,     0.13814,     0.13914,     0.14014,     0.14114,     0.14214,     0.14314,\n",
              "           0.14414,     0.14515,     0.14615,     0.14715,     0.14815,     0.14915,     0.15015,     0.15115,     0.15215,     0.15315,     0.15415,     0.15516,     0.15616,     0.15716,     0.15816,     0.15916,     0.16016,     0.16116,     0.16216,     0.16316,     0.16416,     0.16517,     0.16617,     0.16717,\n",
              "           0.16817,     0.16917,     0.17017,     0.17117,     0.17217,     0.17317,     0.17417,     0.17518,     0.17618,     0.17718,     0.17818,     0.17918,     0.18018,     0.18118,     0.18218,     0.18318,     0.18418,     0.18519,     0.18619,     0.18719,     0.18819,     0.18919,     0.19019,     0.19119,\n",
              "           0.19219,     0.19319,     0.19419,      0.1952,      0.1962,      0.1972,      0.1982,      0.1992,      0.2002,      0.2012,      0.2022,      0.2032,      0.2042,     0.20521,     0.20621,     0.20721,     0.20821,     0.20921,     0.21021,     0.21121,     0.21221,     0.21321,     0.21421,     0.21522,\n",
              "           0.21622,     0.21722,     0.21822,     0.21922,     0.22022,     0.22122,     0.22222,     0.22322,     0.22422,     0.22523,     0.22623,     0.22723,     0.22823,     0.22923,     0.23023,     0.23123,     0.23223,     0.23323,     0.23423,     0.23524,     0.23624,     0.23724,     0.23824,     0.23924,\n",
              "           0.24024,     0.24124,     0.24224,     0.24324,     0.24424,     0.24525,     0.24625,     0.24725,     0.24825,     0.24925,     0.25025,     0.25125,     0.25225,     0.25325,     0.25425,     0.25526,     0.25626,     0.25726,     0.25826,     0.25926,     0.26026,     0.26126,     0.26226,     0.26326,\n",
              "           0.26426,     0.26527,     0.26627,     0.26727,     0.26827,     0.26927,     0.27027,     0.27127,     0.27227,     0.27327,     0.27427,     0.27528,     0.27628,     0.27728,     0.27828,     0.27928,     0.28028,     0.28128,     0.28228,     0.28328,     0.28428,     0.28529,     0.28629,     0.28729,\n",
              "           0.28829,     0.28929,     0.29029,     0.29129,     0.29229,     0.29329,     0.29429,      0.2953,      0.2963,      0.2973,      0.2983,      0.2993,      0.3003,      0.3013,      0.3023,      0.3033,      0.3043,     0.30531,     0.30631,     0.30731,     0.30831,     0.30931,     0.31031,     0.31131,\n",
              "           0.31231,     0.31331,     0.31431,     0.31532,     0.31632,     0.31732,     0.31832,     0.31932,     0.32032,     0.32132,     0.32232,     0.32332,     0.32432,     0.32533,     0.32633,     0.32733,     0.32833,     0.32933,     0.33033,     0.33133,     0.33233,     0.33333,     0.33433,     0.33534,\n",
              "           0.33634,     0.33734,     0.33834,     0.33934,     0.34034,     0.34134,     0.34234,     0.34334,     0.34434,     0.34535,     0.34635,     0.34735,     0.34835,     0.34935,     0.35035,     0.35135,     0.35235,     0.35335,     0.35435,     0.35536,     0.35636,     0.35736,     0.35836,     0.35936,\n",
              "           0.36036,     0.36136,     0.36236,     0.36336,     0.36436,     0.36537,     0.36637,     0.36737,     0.36837,     0.36937,     0.37037,     0.37137,     0.37237,     0.37337,     0.37437,     0.37538,     0.37638,     0.37738,     0.37838,     0.37938,     0.38038,     0.38138,     0.38238,     0.38338,\n",
              "           0.38438,     0.38539,     0.38639,     0.38739,     0.38839,     0.38939,     0.39039,     0.39139,     0.39239,     0.39339,     0.39439,      0.3954,      0.3964,      0.3974,      0.3984,      0.3994,      0.4004,      0.4014,      0.4024,      0.4034,      0.4044,     0.40541,     0.40641,     0.40741,\n",
              "           0.40841,     0.40941,     0.41041,     0.41141,     0.41241,     0.41341,     0.41441,     0.41542,     0.41642,     0.41742,     0.41842,     0.41942,     0.42042,     0.42142,     0.42242,     0.42342,     0.42442,     0.42543,     0.42643,     0.42743,     0.42843,     0.42943,     0.43043,     0.43143,\n",
              "           0.43243,     0.43343,     0.43443,     0.43544,     0.43644,     0.43744,     0.43844,     0.43944,     0.44044,     0.44144,     0.44244,     0.44344,     0.44444,     0.44545,     0.44645,     0.44745,     0.44845,     0.44945,     0.45045,     0.45145,     0.45245,     0.45345,     0.45445,     0.45546,\n",
              "           0.45646,     0.45746,     0.45846,     0.45946,     0.46046,     0.46146,     0.46246,     0.46346,     0.46446,     0.46547,     0.46647,     0.46747,     0.46847,     0.46947,     0.47047,     0.47147,     0.47247,     0.47347,     0.47447,     0.47548,     0.47648,     0.47748,     0.47848,     0.47948,\n",
              "           0.48048,     0.48148,     0.48248,     0.48348,     0.48448,     0.48549,     0.48649,     0.48749,     0.48849,     0.48949,     0.49049,     0.49149,     0.49249,     0.49349,     0.49449,      0.4955,      0.4965,      0.4975,      0.4985,      0.4995,      0.5005,      0.5015,      0.5025,      0.5035,\n",
              "            0.5045,     0.50551,     0.50651,     0.50751,     0.50851,     0.50951,     0.51051,     0.51151,     0.51251,     0.51351,     0.51451,     0.51552,     0.51652,     0.51752,     0.51852,     0.51952,     0.52052,     0.52152,     0.52252,     0.52352,     0.52452,     0.52553,     0.52653,     0.52753,\n",
              "           0.52853,     0.52953,     0.53053,     0.53153,     0.53253,     0.53353,     0.53453,     0.53554,     0.53654,     0.53754,     0.53854,     0.53954,     0.54054,     0.54154,     0.54254,     0.54354,     0.54454,     0.54555,     0.54655,     0.54755,     0.54855,     0.54955,     0.55055,     0.55155,\n",
              "           0.55255,     0.55355,     0.55455,     0.55556,     0.55656,     0.55756,     0.55856,     0.55956,     0.56056,     0.56156,     0.56256,     0.56356,     0.56456,     0.56557,     0.56657,     0.56757,     0.56857,     0.56957,     0.57057,     0.57157,     0.57257,     0.57357,     0.57457,     0.57558,\n",
              "           0.57658,     0.57758,     0.57858,     0.57958,     0.58058,     0.58158,     0.58258,     0.58358,     0.58458,     0.58559,     0.58659,     0.58759,     0.58859,     0.58959,     0.59059,     0.59159,     0.59259,     0.59359,     0.59459,      0.5956,      0.5966,      0.5976,      0.5986,      0.5996,\n",
              "            0.6006,      0.6016,      0.6026,      0.6036,      0.6046,     0.60561,     0.60661,     0.60761,     0.60861,     0.60961,     0.61061,     0.61161,     0.61261,     0.61361,     0.61461,     0.61562,     0.61662,     0.61762,     0.61862,     0.61962,     0.62062,     0.62162,     0.62262,     0.62362,\n",
              "           0.62462,     0.62563,     0.62663,     0.62763,     0.62863,     0.62963,     0.63063,     0.63163,     0.63263,     0.63363,     0.63463,     0.63564,     0.63664,     0.63764,     0.63864,     0.63964,     0.64064,     0.64164,     0.64264,     0.64364,     0.64464,     0.64565,     0.64665,     0.64765,\n",
              "           0.64865,     0.64965,     0.65065,     0.65165,     0.65265,     0.65365,     0.65465,     0.65566,     0.65666,     0.65766,     0.65866,     0.65966,     0.66066,     0.66166,     0.66266,     0.66366,     0.66466,     0.66567,     0.66667,     0.66767,     0.66867,     0.66967,     0.67067,     0.67167,\n",
              "           0.67267,     0.67367,     0.67467,     0.67568,     0.67668,     0.67768,     0.67868,     0.67968,     0.68068,     0.68168,     0.68268,     0.68368,     0.68468,     0.68569,     0.68669,     0.68769,     0.68869,     0.68969,     0.69069,     0.69169,     0.69269,     0.69369,     0.69469,      0.6957,\n",
              "            0.6967,      0.6977,      0.6987,      0.6997,      0.7007,      0.7017,      0.7027,      0.7037,      0.7047,     0.70571,     0.70671,     0.70771,     0.70871,     0.70971,     0.71071,     0.71171,     0.71271,     0.71371,     0.71471,     0.71572,     0.71672,     0.71772,     0.71872,     0.71972,\n",
              "           0.72072,     0.72172,     0.72272,     0.72372,     0.72472,     0.72573,     0.72673,     0.72773,     0.72873,     0.72973,     0.73073,     0.73173,     0.73273,     0.73373,     0.73473,     0.73574,     0.73674,     0.73774,     0.73874,     0.73974,     0.74074,     0.74174,     0.74274,     0.74374,\n",
              "           0.74474,     0.74575,     0.74675,     0.74775,     0.74875,     0.74975,     0.75075,     0.75175,     0.75275,     0.75375,     0.75475,     0.75576,     0.75676,     0.75776,     0.75876,     0.75976,     0.76076,     0.76176,     0.76276,     0.76376,     0.76476,     0.76577,     0.76677,     0.76777,\n",
              "           0.76877,     0.76977,     0.77077,     0.77177,     0.77277,     0.77377,     0.77477,     0.77578,     0.77678,     0.77778,     0.77878,     0.77978,     0.78078,     0.78178,     0.78278,     0.78378,     0.78478,     0.78579,     0.78679,     0.78779,     0.78879,     0.78979,     0.79079,     0.79179,\n",
              "           0.79279,     0.79379,     0.79479,      0.7958,      0.7968,      0.7978,      0.7988,      0.7998,      0.8008,      0.8018,      0.8028,      0.8038,      0.8048,     0.80581,     0.80681,     0.80781,     0.80881,     0.80981,     0.81081,     0.81181,     0.81281,     0.81381,     0.81481,     0.81582,\n",
              "           0.81682,     0.81782,     0.81882,     0.81982,     0.82082,     0.82182,     0.82282,     0.82382,     0.82482,     0.82583,     0.82683,     0.82783,     0.82883,     0.82983,     0.83083,     0.83183,     0.83283,     0.83383,     0.83483,     0.83584,     0.83684,     0.83784,     0.83884,     0.83984,\n",
              "           0.84084,     0.84184,     0.84284,     0.84384,     0.84484,     0.84585,     0.84685,     0.84785,     0.84885,     0.84985,     0.85085,     0.85185,     0.85285,     0.85385,     0.85485,     0.85586,     0.85686,     0.85786,     0.85886,     0.85986,     0.86086,     0.86186,     0.86286,     0.86386,\n",
              "           0.86486,     0.86587,     0.86687,     0.86787,     0.86887,     0.86987,     0.87087,     0.87187,     0.87287,     0.87387,     0.87487,     0.87588,     0.87688,     0.87788,     0.87888,     0.87988,     0.88088,     0.88188,     0.88288,     0.88388,     0.88488,     0.88589,     0.88689,     0.88789,\n",
              "           0.88889,     0.88989,     0.89089,     0.89189,     0.89289,     0.89389,     0.89489,      0.8959,      0.8969,      0.8979,      0.8989,      0.8999,      0.9009,      0.9019,      0.9029,      0.9039,      0.9049,     0.90591,     0.90691,     0.90791,     0.90891,     0.90991,     0.91091,     0.91191,\n",
              "           0.91291,     0.91391,     0.91491,     0.91592,     0.91692,     0.91792,     0.91892,     0.91992,     0.92092,     0.92192,     0.92292,     0.92392,     0.92492,     0.92593,     0.92693,     0.92793,     0.92893,     0.92993,     0.93093,     0.93193,     0.93293,     0.93393,     0.93493,     0.93594,\n",
              "           0.93694,     0.93794,     0.93894,     0.93994,     0.94094,     0.94194,     0.94294,     0.94394,     0.94494,     0.94595,     0.94695,     0.94795,     0.94895,     0.94995,     0.95095,     0.95195,     0.95295,     0.95395,     0.95495,     0.95596,     0.95696,     0.95796,     0.95896,     0.95996,\n",
              "           0.96096,     0.96196,     0.96296,     0.96396,     0.96496,     0.96597,     0.96697,     0.96797,     0.96897,     0.96997,     0.97097,     0.97197,     0.97297,     0.97397,     0.97497,     0.97598,     0.97698,     0.97798,     0.97898,     0.97998,     0.98098,     0.98198,     0.98298,     0.98398,\n",
              "           0.98498,     0.98599,     0.98699,     0.98799,     0.98899,     0.98999,     0.99099,     0.99199,     0.99299,     0.99399,     0.99499,       0.996,       0.997,       0.998,       0.999,           1]), array([[          1,           1,           1,           1,           1,           1,           1,           1,           1,           1,           1,           1,           1,           1,           1,           1,           1,           1,           1,           1,           1,           1,           1,\n",
              "                  1,           1,           1,           1,           1,           1,           1,           1,           1,           1,           1,           1,           1,           1,           1,           1,           1,           1,           1,           1,           1,           1,           1,\n",
              "                  1,           1,           1,           1,           1,           1,           1,           1,           1,           1,           1,           1,           1,           1,           1,           1,           1,           1,           1,           1,           1,           1,           1,\n",
              "                  1,           1,           1,           1,           1,           1,           1,           1,           1,           1,           1,           1,           1,           1,           1,           1,           1,           1,           1,           1,           1,           1,           1,\n",
              "                  1,           1,           1,           1,           1,           1,           1,           1,           1,           1,     0.99703,     0.99703,     0.99703,     0.99703,     0.99703,     0.99703,     0.99703,     0.99703,     0.99703,     0.99703,     0.99703,     0.99703,     0.99703,\n",
              "            0.99703,     0.99703,     0.99703,     0.99703,     0.99703,     0.99703,     0.99703,     0.99703,     0.99703,     0.99703,     0.99703,     0.99703,     0.99703,     0.99703,     0.99703,     0.99703,     0.99703,     0.99703,     0.99703,     0.99703,     0.99703,     0.99703,     0.99703,\n",
              "            0.99703,     0.99703,     0.99703,     0.99703,     0.99703,     0.99703,     0.99703,     0.99703,     0.99703,     0.99703,     0.99703,     0.99703,     0.99703,     0.99703,     0.99703,     0.99703,     0.99703,     0.99703,     0.99703,     0.99703,     0.99703,     0.99703,     0.99703,\n",
              "            0.99703,     0.99703,     0.99703,     0.99703,     0.99703,     0.99703,     0.99703,     0.99703,     0.99703,     0.99703,     0.99703,     0.99703,     0.99703,     0.99703,     0.99703,     0.99703,     0.99703,     0.99703,     0.99703,     0.99703,     0.99703,     0.99703,     0.99703,\n",
              "            0.99703,     0.99703,     0.99703,     0.99703,     0.99703,     0.99703,     0.99703,     0.99703,     0.99703,     0.99703,     0.99703,     0.99703,     0.99703,     0.99703,     0.99703,     0.99703,     0.99703,     0.99703,     0.99703,     0.99703,     0.99703,     0.99703,     0.99703,\n",
              "            0.99703,     0.99703,     0.99703,     0.99703,     0.99703,     0.99703,     0.99703,     0.99703,     0.99703,     0.99703,     0.99703,     0.99703,     0.99703,     0.99703,     0.99703,     0.99703,     0.99703,     0.99703,     0.99703,     0.99703,     0.99703,     0.99703,     0.99703,\n",
              "            0.99703,     0.99703,     0.99703,     0.99703,     0.99703,     0.99703,     0.99703,     0.99703,     0.99703,     0.99703,     0.99703,     0.99703,     0.99703,     0.99703,     0.99703,     0.99703,     0.99703,     0.99703,     0.99703,     0.99703,     0.99703,     0.99703,     0.99703,\n",
              "            0.99703,     0.99703,     0.99703,     0.99703,     0.99703,     0.99703,     0.99703,     0.99703,     0.99703,     0.99703,     0.99703,     0.99703,     0.99703,     0.99703,     0.99703,     0.99703,     0.99703,     0.99703,     0.99703,     0.99703,     0.99703,     0.99703,     0.99703,\n",
              "            0.99703,     0.99703,     0.99703,     0.99703,     0.99703,     0.99703,     0.99703,     0.99703,     0.99703,     0.99703,     0.99703,     0.99703,     0.99703,     0.99703,     0.99703,     0.99703,     0.99703,     0.99703,     0.99703,     0.99703,     0.99703,     0.99703,     0.99703,\n",
              "            0.99703,     0.99703,     0.99703,     0.99703,     0.99703,     0.99703,     0.99703,     0.99703,     0.99703,     0.99703,     0.99703,     0.99703,     0.99703,     0.99703,     0.99703,     0.99703,     0.99703,     0.99703,     0.99703,     0.99703,     0.99703,     0.99703,     0.99703,\n",
              "            0.99703,     0.99703,     0.99703,     0.99703,     0.99703,     0.99703,     0.99703,     0.99703,     0.99703,     0.99703,     0.99703,     0.99703,     0.99703,     0.99703,     0.99703,     0.99703,     0.99703,     0.99703,     0.99703,     0.99703,     0.99703,     0.99703,     0.99703,\n",
              "            0.99703,     0.99703,     0.99703,     0.99703,     0.99703,     0.99703,     0.99703,     0.99703,     0.99703,     0.99703,     0.99703,     0.99703,     0.99703,     0.99703,     0.99703,     0.99703,     0.99703,     0.99703,     0.99703,     0.99703,     0.99703,     0.99703,     0.99703,\n",
              "            0.99703,     0.99703,     0.99703,     0.99703,     0.99703,     0.99703,     0.99703,     0.99703,     0.99703,     0.99703,     0.99703,     0.99703,     0.99703,     0.99703,     0.99703,     0.99703,     0.99703,     0.99703,     0.99703,     0.99703,     0.99703,     0.99703,     0.99703,\n",
              "            0.99703,     0.99703,     0.99703,     0.99703,     0.99703,     0.99703,     0.99703,     0.99703,     0.99703,     0.99703,     0.99703,     0.99703,     0.99703,     0.99703,     0.99703,     0.99703,     0.99703,     0.99703,     0.99703,     0.99703,     0.99703,     0.99703,     0.99703,\n",
              "            0.99703,     0.99703,     0.99703,     0.99703,     0.99703,     0.99703,     0.99703,     0.99703,     0.99703,     0.99703,     0.99703,     0.99703,     0.99703,     0.99703,     0.99703,     0.99703,     0.99703,     0.99703,     0.99703,     0.99703,     0.99703,     0.99703,     0.99703,\n",
              "            0.99703,     0.99703,     0.99703,     0.99703,     0.99703,     0.99703,     0.99703,     0.99703,     0.99703,     0.99703,     0.99703,     0.99703,     0.99703,     0.99703,     0.99703,     0.99703,     0.99703,     0.99703,     0.99703,     0.99703,     0.99703,     0.99703,     0.99703,\n",
              "            0.99703,     0.99703,     0.99703,     0.99703,     0.99703,     0.99703,     0.99703,     0.99703,     0.99703,     0.99703,     0.99488,     0.99488,     0.99488,     0.99488,     0.99488,     0.99488,     0.99488,     0.99488,     0.99488,     0.99488,     0.99488,     0.99488,     0.99488,\n",
              "            0.99488,     0.99488,     0.99488,     0.99488,     0.99488,     0.99488,     0.99488,     0.99488,     0.99488,     0.99488,     0.99488,     0.99488,     0.99488,     0.99488,     0.99488,     0.99488,     0.99488,     0.99488,     0.99488,     0.99488,     0.99488,     0.99488,     0.99488,\n",
              "            0.99488,     0.99488,     0.99488,     0.99488,     0.99488,     0.99488,     0.99488,     0.99488,     0.99488,     0.99488,     0.99488,     0.99488,     0.99488,     0.99488,     0.99488,     0.99488,     0.99488,     0.99488,     0.99488,     0.99488,     0.99488,     0.99488,     0.99488,\n",
              "            0.99488,     0.99488,     0.99488,     0.99488,     0.99488,     0.99488,     0.99488,     0.99488,     0.99488,     0.99488,     0.99488,     0.99488,     0.99488,     0.99488,     0.99488,     0.99353,     0.99353,     0.99353,     0.99353,     0.99353,     0.99353,     0.99353,     0.99353,\n",
              "            0.99353,     0.99353,     0.99353,     0.99353,     0.99353,     0.99353,     0.99353,     0.99353,     0.99353,     0.99353,     0.99353,     0.99353,     0.99353,     0.99353,     0.99353,     0.99353,     0.99353,     0.99353,     0.99353,     0.99353,     0.99353,     0.99353,     0.99353,\n",
              "            0.99353,     0.99353,     0.99353,     0.99353,     0.99353,     0.99353,     0.99353,     0.99353,     0.99353,     0.99353,     0.99353,     0.99353,     0.99353,     0.99353,     0.99353,     0.99353,     0.99353,     0.99353,     0.99353,     0.99353,     0.99353,     0.99353,     0.99353,\n",
              "            0.99353,     0.99353,     0.99353,     0.99353,     0.99353,     0.99353,     0.99353,     0.99353,     0.99353,     0.99353,     0.99353,     0.99353,     0.99353,     0.99353,     0.99353,     0.99353,     0.99353,     0.99353,     0.99353,     0.99353,     0.99353,     0.99353,     0.99353,\n",
              "            0.99353,     0.99353,     0.99353,     0.99353,     0.99353,     0.99353,     0.99353,     0.99353,     0.99353,     0.99353,     0.99353,     0.99353,     0.99353,     0.99353,     0.99353,     0.99353,     0.99353,     0.99353,     0.99353,     0.99353,     0.99353,     0.99353,     0.99353,\n",
              "            0.99353,     0.99142,     0.98947,     0.98947,     0.98947,     0.98947,     0.98947,     0.98947,     0.98947,     0.98947,     0.98947,     0.98947,     0.98947,     0.98763,     0.98763,     0.98763,     0.98763,     0.98763,     0.98763,     0.98763,     0.98763,     0.98763,     0.98763,\n",
              "            0.98763,     0.98763,     0.98763,     0.98583,     0.98583,     0.98583,     0.98583,     0.98583,     0.98583,     0.98583,     0.98583,     0.98583,     0.98583,     0.98583,      0.9841,      0.9841,      0.9841,      0.9841,      0.9841,      0.9841,      0.9841,      0.9841,      0.9841,\n",
              "             0.9841,      0.9841,     0.98269,     0.98269,     0.98269,     0.98269,     0.98269,     0.98269,     0.98269,     0.98269,     0.98269,     0.98269,     0.98269,     0.98269,     0.98269,     0.98269,     0.98269,     0.98269,     0.98269,     0.98269,     0.98269,     0.98269,     0.98269,\n",
              "            0.98269,     0.97901,     0.97901,     0.97901,     0.97765,     0.97765,     0.97765,     0.97765,     0.97765,     0.97765,     0.97765,     0.97765,     0.97765,     0.97765,     0.97765,     0.97765,     0.97765,     0.97765,     0.97765,     0.97765,     0.97765,     0.97227,     0.97064,\n",
              "            0.97064,     0.97064,     0.97064,     0.97064,     0.96814,     0.96814,     0.96814,     0.96814,     0.96814,     0.96814,     0.96814,     0.96814,     0.96814,     0.96814,     0.96814,     0.96814,     0.96814,     0.96814,     0.96814,     0.96814,     0.96814,     0.96814,     0.96814,\n",
              "            0.96814,     0.96814,     0.96814,     0.96814,     0.96814,     0.96814,     0.96485,     0.96485,     0.96485,     0.96322,     0.96167,     0.96167,     0.96167,     0.96014,     0.96014,     0.96014,     0.95918,     0.95918,     0.95918,     0.95918,     0.95918,     0.95918,     0.95918,\n",
              "            0.95918,     0.95918,     0.95918,     0.95918,     0.95918,     0.95918,     0.95918,     0.95763,     0.95462,     0.95462,     0.95462,     0.95462,     0.95183,     0.95183,     0.95183,     0.95183,     0.95183,     0.95183,     0.95183,     0.95066,     0.95066,     0.95066,     0.95066,\n",
              "            0.95066,     0.95066,     0.95066,     0.94771,     0.94771,     0.94771,     0.94652,     0.94652,     0.94652,     0.94652,     0.94652,     0.94516,     0.94516,     0.94516,     0.94222,     0.94222,     0.94146,     0.94146,     0.94146,     0.94146,     0.94146,     0.94146,     0.94146,\n",
              "            0.94146,     0.94146,     0.94146,     0.94146,     0.94025,     0.94025,     0.94025,     0.94025,     0.93887,     0.93458,     0.93458,     0.92956,     0.92956,     0.92956,     0.92956,     0.92956,     0.92956,     0.92956,     0.92956,     0.92956,     0.92956,     0.92824,     0.92716,\n",
              "            0.92716,     0.92716,     0.92716,     0.92365,     0.92365,     0.92365,     0.92365,     0.92365,     0.92365,     0.92365,     0.92365,     0.92365,     0.92308,     0.92308,     0.92308,     0.92308,     0.92308,     0.92308,     0.92308,     0.92308,     0.92308,     0.92047,     0.92047,\n",
              "            0.91654,     0.91172,     0.91172,     0.91172,     0.91172,     0.91172,     0.91172,     0.90935,     0.90935,     0.90935,     0.90714,     0.90714,     0.90714,     0.90714,     0.90523,     0.90523,     0.90523,     0.90523,     0.90523,     0.90523,     0.90523,      0.8979,      0.8979,\n",
              "             0.8979,     0.89569,     0.89569,     0.89335,     0.89335,     0.88981,      0.8863,     0.88556,     0.88556,     0.88556,     0.88556,     0.88556,     0.88331,     0.88243,     0.88243,     0.88243,     0.88156,     0.88156,     0.88156,     0.87952,     0.87952,     0.87517,     0.87517,\n",
              "            0.87517,     0.86632,     0.86632,     0.86632,     0.85788,     0.85788,     0.85788,     0.85788,     0.85513,     0.85513,     0.85513,     0.85513,     0.85313,     0.85313,     0.85242,     0.85242,     0.85242,     0.85209,     0.85209,     0.85209,     0.85209,     0.85209,     0.84906,\n",
              "            0.84906,     0.84712,     0.84414,     0.82987,     0.82987,     0.82805,     0.82225,     0.82225,     0.81362,     0.80828,     0.80828,     0.80828,     0.79814,     0.79814,     0.79814,     0.79814,     0.79814,     0.79814,     0.79814,     0.78677,     0.78677,     0.78677,      0.7596,\n",
              "             0.7596,     0.75847,     0.75847,     0.75847,     0.74411,     0.74411,     0.73885,      0.7193,     0.71795,     0.71795,     0.71795,     0.71795,     0.71795,     0.71341,     0.71341,     0.67337,     0.67337,     0.65367,     0.58589,     0.58589,     0.58589,     0.55889,     0.55836,\n",
              "            0.55836,     0.54538,     0.50354,     0.50354,     0.50354,      0.3247,     0.25976,     0.19482,     0.12988,    0.064941,           0]]), 'Recall', 'Precision'], [array([          0,    0.001001,    0.002002,    0.003003,    0.004004,    0.005005,    0.006006,    0.007007,    0.008008,    0.009009,     0.01001,    0.011011,    0.012012,    0.013013,    0.014014,    0.015015,    0.016016,    0.017017,    0.018018,    0.019019,     0.02002,    0.021021,    0.022022,    0.023023,\n",
              "          0.024024,    0.025025,    0.026026,    0.027027,    0.028028,    0.029029,     0.03003,    0.031031,    0.032032,    0.033033,    0.034034,    0.035035,    0.036036,    0.037037,    0.038038,    0.039039,     0.04004,    0.041041,    0.042042,    0.043043,    0.044044,    0.045045,    0.046046,    0.047047,\n",
              "          0.048048,    0.049049,     0.05005,    0.051051,    0.052052,    0.053053,    0.054054,    0.055055,    0.056056,    0.057057,    0.058058,    0.059059,     0.06006,    0.061061,    0.062062,    0.063063,    0.064064,    0.065065,    0.066066,    0.067067,    0.068068,    0.069069,     0.07007,    0.071071,\n",
              "          0.072072,    0.073073,    0.074074,    0.075075,    0.076076,    0.077077,    0.078078,    0.079079,     0.08008,    0.081081,    0.082082,    0.083083,    0.084084,    0.085085,    0.086086,    0.087087,    0.088088,    0.089089,     0.09009,    0.091091,    0.092092,    0.093093,    0.094094,    0.095095,\n",
              "          0.096096,    0.097097,    0.098098,    0.099099,      0.1001,      0.1011,      0.1021,      0.1031,      0.1041,     0.10511,     0.10611,     0.10711,     0.10811,     0.10911,     0.11011,     0.11111,     0.11211,     0.11311,     0.11411,     0.11512,     0.11612,     0.11712,     0.11812,     0.11912,\n",
              "           0.12012,     0.12112,     0.12212,     0.12312,     0.12412,     0.12513,     0.12613,     0.12713,     0.12813,     0.12913,     0.13013,     0.13113,     0.13213,     0.13313,     0.13413,     0.13514,     0.13614,     0.13714,     0.13814,     0.13914,     0.14014,     0.14114,     0.14214,     0.14314,\n",
              "           0.14414,     0.14515,     0.14615,     0.14715,     0.14815,     0.14915,     0.15015,     0.15115,     0.15215,     0.15315,     0.15415,     0.15516,     0.15616,     0.15716,     0.15816,     0.15916,     0.16016,     0.16116,     0.16216,     0.16316,     0.16416,     0.16517,     0.16617,     0.16717,\n",
              "           0.16817,     0.16917,     0.17017,     0.17117,     0.17217,     0.17317,     0.17417,     0.17518,     0.17618,     0.17718,     0.17818,     0.17918,     0.18018,     0.18118,     0.18218,     0.18318,     0.18418,     0.18519,     0.18619,     0.18719,     0.18819,     0.18919,     0.19019,     0.19119,\n",
              "           0.19219,     0.19319,     0.19419,      0.1952,      0.1962,      0.1972,      0.1982,      0.1992,      0.2002,      0.2012,      0.2022,      0.2032,      0.2042,     0.20521,     0.20621,     0.20721,     0.20821,     0.20921,     0.21021,     0.21121,     0.21221,     0.21321,     0.21421,     0.21522,\n",
              "           0.21622,     0.21722,     0.21822,     0.21922,     0.22022,     0.22122,     0.22222,     0.22322,     0.22422,     0.22523,     0.22623,     0.22723,     0.22823,     0.22923,     0.23023,     0.23123,     0.23223,     0.23323,     0.23423,     0.23524,     0.23624,     0.23724,     0.23824,     0.23924,\n",
              "           0.24024,     0.24124,     0.24224,     0.24324,     0.24424,     0.24525,     0.24625,     0.24725,     0.24825,     0.24925,     0.25025,     0.25125,     0.25225,     0.25325,     0.25425,     0.25526,     0.25626,     0.25726,     0.25826,     0.25926,     0.26026,     0.26126,     0.26226,     0.26326,\n",
              "           0.26426,     0.26527,     0.26627,     0.26727,     0.26827,     0.26927,     0.27027,     0.27127,     0.27227,     0.27327,     0.27427,     0.27528,     0.27628,     0.27728,     0.27828,     0.27928,     0.28028,     0.28128,     0.28228,     0.28328,     0.28428,     0.28529,     0.28629,     0.28729,\n",
              "           0.28829,     0.28929,     0.29029,     0.29129,     0.29229,     0.29329,     0.29429,      0.2953,      0.2963,      0.2973,      0.2983,      0.2993,      0.3003,      0.3013,      0.3023,      0.3033,      0.3043,     0.30531,     0.30631,     0.30731,     0.30831,     0.30931,     0.31031,     0.31131,\n",
              "           0.31231,     0.31331,     0.31431,     0.31532,     0.31632,     0.31732,     0.31832,     0.31932,     0.32032,     0.32132,     0.32232,     0.32332,     0.32432,     0.32533,     0.32633,     0.32733,     0.32833,     0.32933,     0.33033,     0.33133,     0.33233,     0.33333,     0.33433,     0.33534,\n",
              "           0.33634,     0.33734,     0.33834,     0.33934,     0.34034,     0.34134,     0.34234,     0.34334,     0.34434,     0.34535,     0.34635,     0.34735,     0.34835,     0.34935,     0.35035,     0.35135,     0.35235,     0.35335,     0.35435,     0.35536,     0.35636,     0.35736,     0.35836,     0.35936,\n",
              "           0.36036,     0.36136,     0.36236,     0.36336,     0.36436,     0.36537,     0.36637,     0.36737,     0.36837,     0.36937,     0.37037,     0.37137,     0.37237,     0.37337,     0.37437,     0.37538,     0.37638,     0.37738,     0.37838,     0.37938,     0.38038,     0.38138,     0.38238,     0.38338,\n",
              "           0.38438,     0.38539,     0.38639,     0.38739,     0.38839,     0.38939,     0.39039,     0.39139,     0.39239,     0.39339,     0.39439,      0.3954,      0.3964,      0.3974,      0.3984,      0.3994,      0.4004,      0.4014,      0.4024,      0.4034,      0.4044,     0.40541,     0.40641,     0.40741,\n",
              "           0.40841,     0.40941,     0.41041,     0.41141,     0.41241,     0.41341,     0.41441,     0.41542,     0.41642,     0.41742,     0.41842,     0.41942,     0.42042,     0.42142,     0.42242,     0.42342,     0.42442,     0.42543,     0.42643,     0.42743,     0.42843,     0.42943,     0.43043,     0.43143,\n",
              "           0.43243,     0.43343,     0.43443,     0.43544,     0.43644,     0.43744,     0.43844,     0.43944,     0.44044,     0.44144,     0.44244,     0.44344,     0.44444,     0.44545,     0.44645,     0.44745,     0.44845,     0.44945,     0.45045,     0.45145,     0.45245,     0.45345,     0.45445,     0.45546,\n",
              "           0.45646,     0.45746,     0.45846,     0.45946,     0.46046,     0.46146,     0.46246,     0.46346,     0.46446,     0.46547,     0.46647,     0.46747,     0.46847,     0.46947,     0.47047,     0.47147,     0.47247,     0.47347,     0.47447,     0.47548,     0.47648,     0.47748,     0.47848,     0.47948,\n",
              "           0.48048,     0.48148,     0.48248,     0.48348,     0.48448,     0.48549,     0.48649,     0.48749,     0.48849,     0.48949,     0.49049,     0.49149,     0.49249,     0.49349,     0.49449,      0.4955,      0.4965,      0.4975,      0.4985,      0.4995,      0.5005,      0.5015,      0.5025,      0.5035,\n",
              "            0.5045,     0.50551,     0.50651,     0.50751,     0.50851,     0.50951,     0.51051,     0.51151,     0.51251,     0.51351,     0.51451,     0.51552,     0.51652,     0.51752,     0.51852,     0.51952,     0.52052,     0.52152,     0.52252,     0.52352,     0.52452,     0.52553,     0.52653,     0.52753,\n",
              "           0.52853,     0.52953,     0.53053,     0.53153,     0.53253,     0.53353,     0.53453,     0.53554,     0.53654,     0.53754,     0.53854,     0.53954,     0.54054,     0.54154,     0.54254,     0.54354,     0.54454,     0.54555,     0.54655,     0.54755,     0.54855,     0.54955,     0.55055,     0.55155,\n",
              "           0.55255,     0.55355,     0.55455,     0.55556,     0.55656,     0.55756,     0.55856,     0.55956,     0.56056,     0.56156,     0.56256,     0.56356,     0.56456,     0.56557,     0.56657,     0.56757,     0.56857,     0.56957,     0.57057,     0.57157,     0.57257,     0.57357,     0.57457,     0.57558,\n",
              "           0.57658,     0.57758,     0.57858,     0.57958,     0.58058,     0.58158,     0.58258,     0.58358,     0.58458,     0.58559,     0.58659,     0.58759,     0.58859,     0.58959,     0.59059,     0.59159,     0.59259,     0.59359,     0.59459,      0.5956,      0.5966,      0.5976,      0.5986,      0.5996,\n",
              "            0.6006,      0.6016,      0.6026,      0.6036,      0.6046,     0.60561,     0.60661,     0.60761,     0.60861,     0.60961,     0.61061,     0.61161,     0.61261,     0.61361,     0.61461,     0.61562,     0.61662,     0.61762,     0.61862,     0.61962,     0.62062,     0.62162,     0.62262,     0.62362,\n",
              "           0.62462,     0.62563,     0.62663,     0.62763,     0.62863,     0.62963,     0.63063,     0.63163,     0.63263,     0.63363,     0.63463,     0.63564,     0.63664,     0.63764,     0.63864,     0.63964,     0.64064,     0.64164,     0.64264,     0.64364,     0.64464,     0.64565,     0.64665,     0.64765,\n",
              "           0.64865,     0.64965,     0.65065,     0.65165,     0.65265,     0.65365,     0.65465,     0.65566,     0.65666,     0.65766,     0.65866,     0.65966,     0.66066,     0.66166,     0.66266,     0.66366,     0.66466,     0.66567,     0.66667,     0.66767,     0.66867,     0.66967,     0.67067,     0.67167,\n",
              "           0.67267,     0.67367,     0.67467,     0.67568,     0.67668,     0.67768,     0.67868,     0.67968,     0.68068,     0.68168,     0.68268,     0.68368,     0.68468,     0.68569,     0.68669,     0.68769,     0.68869,     0.68969,     0.69069,     0.69169,     0.69269,     0.69369,     0.69469,      0.6957,\n",
              "            0.6967,      0.6977,      0.6987,      0.6997,      0.7007,      0.7017,      0.7027,      0.7037,      0.7047,     0.70571,     0.70671,     0.70771,     0.70871,     0.70971,     0.71071,     0.71171,     0.71271,     0.71371,     0.71471,     0.71572,     0.71672,     0.71772,     0.71872,     0.71972,\n",
              "           0.72072,     0.72172,     0.72272,     0.72372,     0.72472,     0.72573,     0.72673,     0.72773,     0.72873,     0.72973,     0.73073,     0.73173,     0.73273,     0.73373,     0.73473,     0.73574,     0.73674,     0.73774,     0.73874,     0.73974,     0.74074,     0.74174,     0.74274,     0.74374,\n",
              "           0.74474,     0.74575,     0.74675,     0.74775,     0.74875,     0.74975,     0.75075,     0.75175,     0.75275,     0.75375,     0.75475,     0.75576,     0.75676,     0.75776,     0.75876,     0.75976,     0.76076,     0.76176,     0.76276,     0.76376,     0.76476,     0.76577,     0.76677,     0.76777,\n",
              "           0.76877,     0.76977,     0.77077,     0.77177,     0.77277,     0.77377,     0.77477,     0.77578,     0.77678,     0.77778,     0.77878,     0.77978,     0.78078,     0.78178,     0.78278,     0.78378,     0.78478,     0.78579,     0.78679,     0.78779,     0.78879,     0.78979,     0.79079,     0.79179,\n",
              "           0.79279,     0.79379,     0.79479,      0.7958,      0.7968,      0.7978,      0.7988,      0.7998,      0.8008,      0.8018,      0.8028,      0.8038,      0.8048,     0.80581,     0.80681,     0.80781,     0.80881,     0.80981,     0.81081,     0.81181,     0.81281,     0.81381,     0.81481,     0.81582,\n",
              "           0.81682,     0.81782,     0.81882,     0.81982,     0.82082,     0.82182,     0.82282,     0.82382,     0.82482,     0.82583,     0.82683,     0.82783,     0.82883,     0.82983,     0.83083,     0.83183,     0.83283,     0.83383,     0.83483,     0.83584,     0.83684,     0.83784,     0.83884,     0.83984,\n",
              "           0.84084,     0.84184,     0.84284,     0.84384,     0.84484,     0.84585,     0.84685,     0.84785,     0.84885,     0.84985,     0.85085,     0.85185,     0.85285,     0.85385,     0.85485,     0.85586,     0.85686,     0.85786,     0.85886,     0.85986,     0.86086,     0.86186,     0.86286,     0.86386,\n",
              "           0.86486,     0.86587,     0.86687,     0.86787,     0.86887,     0.86987,     0.87087,     0.87187,     0.87287,     0.87387,     0.87487,     0.87588,     0.87688,     0.87788,     0.87888,     0.87988,     0.88088,     0.88188,     0.88288,     0.88388,     0.88488,     0.88589,     0.88689,     0.88789,\n",
              "           0.88889,     0.88989,     0.89089,     0.89189,     0.89289,     0.89389,     0.89489,      0.8959,      0.8969,      0.8979,      0.8989,      0.8999,      0.9009,      0.9019,      0.9029,      0.9039,      0.9049,     0.90591,     0.90691,     0.90791,     0.90891,     0.90991,     0.91091,     0.91191,\n",
              "           0.91291,     0.91391,     0.91491,     0.91592,     0.91692,     0.91792,     0.91892,     0.91992,     0.92092,     0.92192,     0.92292,     0.92392,     0.92492,     0.92593,     0.92693,     0.92793,     0.92893,     0.92993,     0.93093,     0.93193,     0.93293,     0.93393,     0.93493,     0.93594,\n",
              "           0.93694,     0.93794,     0.93894,     0.93994,     0.94094,     0.94194,     0.94294,     0.94394,     0.94494,     0.94595,     0.94695,     0.94795,     0.94895,     0.94995,     0.95095,     0.95195,     0.95295,     0.95395,     0.95495,     0.95596,     0.95696,     0.95796,     0.95896,     0.95996,\n",
              "           0.96096,     0.96196,     0.96296,     0.96396,     0.96496,     0.96597,     0.96697,     0.96797,     0.96897,     0.96997,     0.97097,     0.97197,     0.97297,     0.97397,     0.97497,     0.97598,     0.97698,     0.97798,     0.97898,     0.97998,     0.98098,     0.98198,     0.98298,     0.98398,\n",
              "           0.98498,     0.98599,     0.98699,     0.98799,     0.98899,     0.98999,     0.99099,     0.99199,     0.99299,     0.99399,     0.99499,       0.996,       0.997,       0.998,       0.999,           1]), array([[    0.53179,     0.53179,     0.66884,     0.71964,     0.74932,     0.76831,      0.7818,     0.79329,     0.80414,     0.81171,     0.82067,     0.82222,      0.8263,     0.82807,     0.82773,     0.82829,     0.82878,      0.8319,      0.8367,     0.83735,      0.8391,     0.83945,     0.84097,\n",
              "            0.84147,     0.84226,     0.84266,     0.84345,     0.84447,     0.84554,     0.84616,     0.84792,     0.84843,     0.84865,     0.84887,     0.84923,     0.84969,     0.85022,       0.851,     0.85128,      0.8507,     0.84982,     0.85139,     0.85168,     0.85264,     0.85378,     0.85557,\n",
              "            0.85608,     0.85627,     0.85645,      0.8572,     0.85779,     0.85832,     0.85868,     0.85961,     0.86008,     0.86198,     0.86228,      0.8633,     0.86371,     0.86388,     0.86404,     0.86449,     0.86482,     0.86502,     0.86542,     0.86599,     0.86628,     0.86668,     0.86593,\n",
              "            0.86564,     0.86759,     0.86779,     0.86798,     0.86822,     0.86863,     0.86933,     0.86944,     0.86955,     0.86966,     0.86977,     0.87012,     0.87091,     0.87105,     0.87119,     0.87134,     0.87182,     0.87013,     0.86975,     0.87004,     0.87011,     0.86991,      0.8697,\n",
              "             0.8696,     0.87049,     0.87083,     0.87111,     0.87344,      0.8739,     0.87415,     0.87437,     0.87476,     0.87526,     0.87558,     0.87479,     0.87462,     0.87446,     0.87429,     0.87452,     0.87484,     0.87497,     0.87509,     0.87521,      0.8759,     0.87603,     0.87616,\n",
              "            0.87629,     0.87642,     0.87717,     0.87736,     0.87756,     0.87759,     0.87793,     0.87911,      0.8798,     0.87991,     0.88003,     0.88014,     0.88025,     0.88122,     0.88146,     0.88157,     0.88168,     0.88178,     0.88189,     0.88206,     0.88308,     0.88322,     0.88336,\n",
              "             0.8835,     0.88467,     0.88498,     0.88505,     0.88512,     0.88519,     0.88526,     0.88533,      0.8854,     0.88547,     0.88553,     0.88688,     0.88718,     0.88737,      0.8875,     0.88763,     0.88776,     0.88792,     0.88828,     0.88865,     0.88902,     0.88921,      0.8894,\n",
              "            0.88958,     0.88978,     0.88998,     0.89018,      0.8908,     0.89091,     0.89102,     0.89112,     0.89123,     0.89134,     0.89155,     0.89181,     0.89206,     0.89227,     0.89248,     0.89244,     0.89225,     0.89207,     0.89189,     0.89262,     0.89297,     0.89318,     0.89338,\n",
              "            0.89358,     0.89349,     0.89338,     0.89328,     0.89318,     0.89307,     0.89297,     0.89287,     0.89303,     0.89323,     0.89342,     0.89366,      0.8939,       0.894,     0.89392,     0.89384,     0.89375,     0.89367,     0.89359,      0.8935,     0.89342,     0.89334,     0.89345,\n",
              "            0.89369,     0.89456,     0.89488,     0.89435,      0.8943,     0.89425,     0.89421,     0.89416,     0.89412,     0.89407,     0.89402,     0.89398,     0.89393,     0.89389,     0.89384,     0.89379,     0.89375,      0.8937,     0.89366,     0.89286,     0.89274,     0.89263,     0.89251,\n",
              "            0.89239,     0.89227,     0.89215,     0.89222,     0.89231,     0.89239,     0.89247,     0.89256,     0.89264,     0.89273,     0.89263,      0.8925,     0.89237,     0.89224,     0.89211,     0.89197,     0.89172,     0.89146,     0.89129,     0.89146,     0.89162,     0.89178,     0.89158,\n",
              "            0.89172,     0.89184,     0.89195,     0.89207,     0.89219,      0.8923,     0.89198,     0.89165,     0.89082,     0.89063,     0.89044,     0.89025,     0.89009,     0.89013,     0.89018,     0.89023,     0.89028,     0.89033,     0.89037,     0.89042,     0.89047,     0.89052,     0.89057,\n",
              "            0.89061,     0.89066,     0.89075,     0.89084,     0.89094,     0.89104,     0.89114,     0.89124,     0.89131,     0.89137,     0.89143,      0.8915,     0.89156,     0.89162,     0.89168,     0.89174,      0.8918,     0.89186,     0.89037,     0.89024,      0.8901,     0.88997,     0.88984,\n",
              "             0.8897,     0.88965,     0.88968,      0.8897,     0.88973,     0.88976,     0.88979,     0.88981,     0.88984,     0.88987,      0.8899,     0.88992,     0.88995,     0.88998,     0.89001,     0.89003,     0.89006,     0.89009,     0.89011,     0.89014,     0.89017,      0.8902,     0.89022,\n",
              "            0.89103,     0.89138,     0.89216,      0.8923,     0.89245,      0.8926,     0.89288,     0.89324,     0.89392,       0.894,     0.89408,     0.89416,     0.89423,     0.89431,     0.89439,     0.89307,     0.89357,     0.89364,      0.8937,     0.89376,     0.89383,     0.89389,     0.89395,\n",
              "            0.89402,     0.89408,     0.89415,     0.89482,      0.8949,     0.89498,     0.89505,     0.89513,      0.8952,     0.89528,     0.89535,     0.89543,      0.8955,     0.89558,     0.89566,     0.89573,     0.89581,     0.89588,     0.89596,     0.89664,      0.8967,     0.89677,     0.89684,\n",
              "             0.8969,     0.89697,     0.89703,      0.8971,     0.89716,     0.89728,     0.89751,     0.89774,     0.89703,     0.89698,     0.89693,     0.89687,     0.89682,     0.89676,     0.89671,     0.89666,      0.8966,     0.89655,     0.89649,     0.89644,     0.89638,     0.89633,      0.8971,\n",
              "            0.89733,     0.89755,     0.89768,     0.89781,     0.89795,     0.89808,     0.89824,     0.89845,     0.89866,     0.89863,     0.89835,     0.89807,      0.8977,     0.89731,     0.89732,     0.89738,     0.89745,     0.89751,     0.89757,     0.89764,      0.8977,     0.89777,     0.89783,\n",
              "            0.89791,       0.898,      0.8981,     0.89819,     0.89828,     0.89838,     0.89847,     0.89771,     0.89768,     0.89764,     0.89761,     0.89758,     0.89754,     0.89751,     0.89748,     0.89745,     0.89741,     0.89738,     0.89735,     0.89731,     0.89728,     0.89725,     0.89721,\n",
              "            0.89718,     0.89715,     0.89712,     0.89708,     0.89705,     0.89702,     0.89698,     0.89701,     0.89705,     0.89709,     0.89713,     0.89717,     0.89721,     0.89725,     0.89729,     0.89733,     0.89737,     0.89741,     0.89745,     0.89749,     0.89753,     0.89757,     0.89755,\n",
              "            0.89745,     0.89735,     0.89726,     0.89716,     0.89706,     0.89697,     0.89687,     0.89681,     0.89676,     0.89671,     0.89667,     0.89662,     0.89658,     0.89653,     0.89649,     0.89644,     0.89639,     0.89635,      0.8963,     0.89626,     0.89621,     0.89616,     0.89612,\n",
              "            0.89595,     0.89611,     0.89626,     0.89642,     0.89657,     0.89666,     0.89675,     0.89684,     0.89693,     0.89702,     0.89711,     0.89703,     0.89664,     0.89557,     0.89537,     0.89518,     0.89498,      0.8952,     0.89546,     0.89538,      0.8953,     0.89523,     0.89515,\n",
              "            0.89507,     0.89499,     0.89491,     0.89483,     0.89475,     0.89548,     0.89564,      0.8958,     0.89596,     0.89603,      0.8961,     0.89616,     0.89622,     0.89629,     0.89635,     0.89642,     0.89648,     0.89654,     0.89651,     0.89585,     0.89598,     0.89611,     0.89623,\n",
              "            0.89636,     0.89765,     0.89746,     0.89726,     0.89706,     0.89767,       0.898,     0.89738,      0.8973,     0.89721,     0.89712,     0.89703,     0.89694,     0.89686,     0.89677,     0.89668,     0.89675,     0.89691,     0.89707,     0.89723,     0.89732,     0.89738,     0.89744,\n",
              "             0.8975,     0.89756,     0.89763,     0.89769,     0.89775,     0.89781,     0.89787,     0.89753,     0.89652,     0.89684,     0.89734,     0.89832,     0.89845,     0.89858,     0.89871,     0.89884,      0.8991,     0.89943,     0.89975,     0.90007,     0.89932,     0.89927,     0.89921,\n",
              "            0.89916,      0.8991,     0.89905,     0.89899,     0.89894,     0.89888,     0.89883,     0.89878,     0.89872,     0.89867,     0.89861,     0.89833,     0.89794,     0.89772,     0.89759,     0.89746,     0.89732,     0.89719,     0.89706,     0.89697,     0.89688,      0.8968,     0.89672,\n",
              "            0.89663,     0.89655,     0.89646,     0.89638,      0.8963,     0.89631,      0.8964,     0.89648,     0.89657,     0.89666,     0.89674,     0.89683,     0.89691,     0.89698,     0.89705,     0.89712,     0.89718,     0.89725,     0.89732,     0.89739,     0.89746,     0.89753,     0.89596,\n",
              "            0.89586,     0.89575,     0.89564,     0.89554,     0.89543,     0.89532,     0.89522,     0.89529,     0.89543,     0.89557,     0.89572,     0.89633,     0.89593,     0.89558,     0.89531,     0.89504,     0.89545,     0.89583,     0.89616,     0.89608,     0.89599,     0.89591,     0.89582,\n",
              "            0.89574,     0.89565,     0.89557,     0.89548,      0.8954,     0.89446,     0.89428,      0.8941,     0.89392,     0.89369,     0.89337,     0.89304,     0.89309,     0.89319,     0.89328,     0.89337,     0.89347,     0.89356,     0.89367,       0.894,     0.89554,     0.89531,     0.89508,\n",
              "            0.89484,     0.89523,     0.89549,      0.8956,     0.89571,     0.89582,     0.89593,     0.89604,     0.89642,     0.89609,     0.89684,      0.8963,     0.89606,     0.89583,      0.8956,     0.89549,     0.89537,     0.89525,     0.89514,     0.89502,      0.8949,     0.89238,      0.8922,\n",
              "            0.89202,     0.89183,     0.89165,     0.89173,     0.89186,     0.89199,     0.89212,     0.89226,      0.8914,     0.89134,     0.89128,     0.89121,     0.89115,     0.89109,     0.89102,     0.89096,      0.8909,     0.89083,     0.89077,     0.89071,     0.89064,     0.89056,     0.89047,\n",
              "            0.89039,     0.89031,     0.89023,     0.89014,     0.89006,     0.88998,      0.8899,     0.88969,     0.88936,     0.88823,      0.8881,     0.88796,     0.88782,     0.88768,     0.88755,     0.88751,     0.88784,     0.88907,     0.88792,     0.88644,     0.88588,      0.8856,     0.88536,\n",
              "            0.88512,     0.88392,     0.88336,     0.88229,     0.88205,     0.88181,      0.8824,     0.88247,     0.88255,     0.88263,     0.88271,     0.88279,     0.88287,     0.88294,     0.88383,     0.88358,     0.88391,     0.88501,     0.88524,     0.88467,     0.88486,     0.88512,     0.88501,\n",
              "            0.88445,     0.88388,     0.88347,     0.88318,      0.8829,     0.88299,     0.88333,     0.88289,     0.88247,     0.88226,     0.88205,     0.88183,     0.88051,     0.87994,     0.87937,     0.87821,     0.87792,     0.87763,     0.87682,      0.8772,     0.87715,     0.87725,     0.87752,\n",
              "            0.87779,     0.87692,     0.87667,     0.87643,     0.87629,     0.87674,     0.87667,     0.87639,      0.8761,     0.87474,      0.8738,     0.87282,     0.87262,     0.87307,     0.87331,     0.87354,     0.87377,     0.87335,      0.8729,     0.87119,     0.87075,     0.87019,     0.86895,\n",
              "            0.86832,     0.86751,     0.86706,     0.86664,     0.86629,     0.86593,     0.86678,     0.86712,     0.86693,     0.86664,     0.86634,     0.86491,     0.86553,     0.86508,     0.86473,     0.86453,     0.86433,     0.86413,      0.8639,      0.8633,     0.86164,      0.8594,     0.85914,\n",
              "            0.85888,     0.85858,     0.85813,     0.85763,     0.85703,     0.85748,     0.85593,     0.85641,     0.85509,     0.85361,     0.85388,     0.85435,     0.85356,      0.8531,     0.85058,     0.84875,     0.84692,      0.8455,     0.84524,     0.84497,     0.84456,     0.83905,      0.8392,\n",
              "            0.83941,     0.83754,     0.83726,      0.8369,     0.83825,      0.8366,     0.83613,     0.83543,     0.83447,     0.82835,     0.82787,     0.82805,     0.82757,     0.82703,     0.82691,     0.82725,     0.82639,     0.82549,     0.82484,     0.82298,     0.81719,      0.8155,     0.81472,\n",
              "            0.81275,     0.81106,     0.80897,     0.80698,     0.80597,     0.80497,     0.80412,     0.80164,     0.80113,     0.79847,     0.79691,     0.79603,     0.79207,     0.79172,     0.79138,     0.78958,     0.78871,     0.78802,     0.78499,     0.78203,     0.78185,     0.77902,     0.77739,\n",
              "            0.77686,     0.77582,     0.77213,     0.76521,     0.76362,     0.75878,      0.7565,     0.74759,     0.74574,     0.74499,     0.73881,     0.73538,     0.73201,     0.72664,     0.72288,     0.71863,     0.71401,      0.7124,     0.70991,     0.70009,     0.69054,     0.68724,     0.68199,\n",
              "            0.66726,     0.66219,      0.6546,     0.65074,     0.64301,     0.63863,     0.63052,     0.62255,     0.61315,     0.59814,     0.58701,      0.5757,     0.56323,     0.55594,     0.55098,     0.53759,     0.52242,     0.49911,     0.49426,      0.4766,     0.44678,     0.43992,     0.42265,\n",
              "            0.40854,     0.39237,     0.36847,     0.35147,     0.33023,      0.3004,     0.28401,     0.25887,      0.2198,     0.20855,     0.18521,     0.16255,     0.15532,     0.14081,     0.11122,     0.10106,    0.080542,    0.062204,    0.043513,    0.027183,     0.02049,    0.014925,   0.0081497,\n",
              "          0.0067267,   0.0052093,    0.003306,           0,           0,           0,           0,           0,           0,           0,           0,           0,           0,           0,           0,           0,           0,           0,           0,           0,           0,           0,           0,\n",
              "                  0,           0,           0,           0,           0,           0,           0,           0,           0,           0,           0]]), 'Confidence', 'F1'], [array([          0,    0.001001,    0.002002,    0.003003,    0.004004,    0.005005,    0.006006,    0.007007,    0.008008,    0.009009,     0.01001,    0.011011,    0.012012,    0.013013,    0.014014,    0.015015,    0.016016,    0.017017,    0.018018,    0.019019,     0.02002,    0.021021,    0.022022,    0.023023,\n",
              "          0.024024,    0.025025,    0.026026,    0.027027,    0.028028,    0.029029,     0.03003,    0.031031,    0.032032,    0.033033,    0.034034,    0.035035,    0.036036,    0.037037,    0.038038,    0.039039,     0.04004,    0.041041,    0.042042,    0.043043,    0.044044,    0.045045,    0.046046,    0.047047,\n",
              "          0.048048,    0.049049,     0.05005,    0.051051,    0.052052,    0.053053,    0.054054,    0.055055,    0.056056,    0.057057,    0.058058,    0.059059,     0.06006,    0.061061,    0.062062,    0.063063,    0.064064,    0.065065,    0.066066,    0.067067,    0.068068,    0.069069,     0.07007,    0.071071,\n",
              "          0.072072,    0.073073,    0.074074,    0.075075,    0.076076,    0.077077,    0.078078,    0.079079,     0.08008,    0.081081,    0.082082,    0.083083,    0.084084,    0.085085,    0.086086,    0.087087,    0.088088,    0.089089,     0.09009,    0.091091,    0.092092,    0.093093,    0.094094,    0.095095,\n",
              "          0.096096,    0.097097,    0.098098,    0.099099,      0.1001,      0.1011,      0.1021,      0.1031,      0.1041,     0.10511,     0.10611,     0.10711,     0.10811,     0.10911,     0.11011,     0.11111,     0.11211,     0.11311,     0.11411,     0.11512,     0.11612,     0.11712,     0.11812,     0.11912,\n",
              "           0.12012,     0.12112,     0.12212,     0.12312,     0.12412,     0.12513,     0.12613,     0.12713,     0.12813,     0.12913,     0.13013,     0.13113,     0.13213,     0.13313,     0.13413,     0.13514,     0.13614,     0.13714,     0.13814,     0.13914,     0.14014,     0.14114,     0.14214,     0.14314,\n",
              "           0.14414,     0.14515,     0.14615,     0.14715,     0.14815,     0.14915,     0.15015,     0.15115,     0.15215,     0.15315,     0.15415,     0.15516,     0.15616,     0.15716,     0.15816,     0.15916,     0.16016,     0.16116,     0.16216,     0.16316,     0.16416,     0.16517,     0.16617,     0.16717,\n",
              "           0.16817,     0.16917,     0.17017,     0.17117,     0.17217,     0.17317,     0.17417,     0.17518,     0.17618,     0.17718,     0.17818,     0.17918,     0.18018,     0.18118,     0.18218,     0.18318,     0.18418,     0.18519,     0.18619,     0.18719,     0.18819,     0.18919,     0.19019,     0.19119,\n",
              "           0.19219,     0.19319,     0.19419,      0.1952,      0.1962,      0.1972,      0.1982,      0.1992,      0.2002,      0.2012,      0.2022,      0.2032,      0.2042,     0.20521,     0.20621,     0.20721,     0.20821,     0.20921,     0.21021,     0.21121,     0.21221,     0.21321,     0.21421,     0.21522,\n",
              "           0.21622,     0.21722,     0.21822,     0.21922,     0.22022,     0.22122,     0.22222,     0.22322,     0.22422,     0.22523,     0.22623,     0.22723,     0.22823,     0.22923,     0.23023,     0.23123,     0.23223,     0.23323,     0.23423,     0.23524,     0.23624,     0.23724,     0.23824,     0.23924,\n",
              "           0.24024,     0.24124,     0.24224,     0.24324,     0.24424,     0.24525,     0.24625,     0.24725,     0.24825,     0.24925,     0.25025,     0.25125,     0.25225,     0.25325,     0.25425,     0.25526,     0.25626,     0.25726,     0.25826,     0.25926,     0.26026,     0.26126,     0.26226,     0.26326,\n",
              "           0.26426,     0.26527,     0.26627,     0.26727,     0.26827,     0.26927,     0.27027,     0.27127,     0.27227,     0.27327,     0.27427,     0.27528,     0.27628,     0.27728,     0.27828,     0.27928,     0.28028,     0.28128,     0.28228,     0.28328,     0.28428,     0.28529,     0.28629,     0.28729,\n",
              "           0.28829,     0.28929,     0.29029,     0.29129,     0.29229,     0.29329,     0.29429,      0.2953,      0.2963,      0.2973,      0.2983,      0.2993,      0.3003,      0.3013,      0.3023,      0.3033,      0.3043,     0.30531,     0.30631,     0.30731,     0.30831,     0.30931,     0.31031,     0.31131,\n",
              "           0.31231,     0.31331,     0.31431,     0.31532,     0.31632,     0.31732,     0.31832,     0.31932,     0.32032,     0.32132,     0.32232,     0.32332,     0.32432,     0.32533,     0.32633,     0.32733,     0.32833,     0.32933,     0.33033,     0.33133,     0.33233,     0.33333,     0.33433,     0.33534,\n",
              "           0.33634,     0.33734,     0.33834,     0.33934,     0.34034,     0.34134,     0.34234,     0.34334,     0.34434,     0.34535,     0.34635,     0.34735,     0.34835,     0.34935,     0.35035,     0.35135,     0.35235,     0.35335,     0.35435,     0.35536,     0.35636,     0.35736,     0.35836,     0.35936,\n",
              "           0.36036,     0.36136,     0.36236,     0.36336,     0.36436,     0.36537,     0.36637,     0.36737,     0.36837,     0.36937,     0.37037,     0.37137,     0.37237,     0.37337,     0.37437,     0.37538,     0.37638,     0.37738,     0.37838,     0.37938,     0.38038,     0.38138,     0.38238,     0.38338,\n",
              "           0.38438,     0.38539,     0.38639,     0.38739,     0.38839,     0.38939,     0.39039,     0.39139,     0.39239,     0.39339,     0.39439,      0.3954,      0.3964,      0.3974,      0.3984,      0.3994,      0.4004,      0.4014,      0.4024,      0.4034,      0.4044,     0.40541,     0.40641,     0.40741,\n",
              "           0.40841,     0.40941,     0.41041,     0.41141,     0.41241,     0.41341,     0.41441,     0.41542,     0.41642,     0.41742,     0.41842,     0.41942,     0.42042,     0.42142,     0.42242,     0.42342,     0.42442,     0.42543,     0.42643,     0.42743,     0.42843,     0.42943,     0.43043,     0.43143,\n",
              "           0.43243,     0.43343,     0.43443,     0.43544,     0.43644,     0.43744,     0.43844,     0.43944,     0.44044,     0.44144,     0.44244,     0.44344,     0.44444,     0.44545,     0.44645,     0.44745,     0.44845,     0.44945,     0.45045,     0.45145,     0.45245,     0.45345,     0.45445,     0.45546,\n",
              "           0.45646,     0.45746,     0.45846,     0.45946,     0.46046,     0.46146,     0.46246,     0.46346,     0.46446,     0.46547,     0.46647,     0.46747,     0.46847,     0.46947,     0.47047,     0.47147,     0.47247,     0.47347,     0.47447,     0.47548,     0.47648,     0.47748,     0.47848,     0.47948,\n",
              "           0.48048,     0.48148,     0.48248,     0.48348,     0.48448,     0.48549,     0.48649,     0.48749,     0.48849,     0.48949,     0.49049,     0.49149,     0.49249,     0.49349,     0.49449,      0.4955,      0.4965,      0.4975,      0.4985,      0.4995,      0.5005,      0.5015,      0.5025,      0.5035,\n",
              "            0.5045,     0.50551,     0.50651,     0.50751,     0.50851,     0.50951,     0.51051,     0.51151,     0.51251,     0.51351,     0.51451,     0.51552,     0.51652,     0.51752,     0.51852,     0.51952,     0.52052,     0.52152,     0.52252,     0.52352,     0.52452,     0.52553,     0.52653,     0.52753,\n",
              "           0.52853,     0.52953,     0.53053,     0.53153,     0.53253,     0.53353,     0.53453,     0.53554,     0.53654,     0.53754,     0.53854,     0.53954,     0.54054,     0.54154,     0.54254,     0.54354,     0.54454,     0.54555,     0.54655,     0.54755,     0.54855,     0.54955,     0.55055,     0.55155,\n",
              "           0.55255,     0.55355,     0.55455,     0.55556,     0.55656,     0.55756,     0.55856,     0.55956,     0.56056,     0.56156,     0.56256,     0.56356,     0.56456,     0.56557,     0.56657,     0.56757,     0.56857,     0.56957,     0.57057,     0.57157,     0.57257,     0.57357,     0.57457,     0.57558,\n",
              "           0.57658,     0.57758,     0.57858,     0.57958,     0.58058,     0.58158,     0.58258,     0.58358,     0.58458,     0.58559,     0.58659,     0.58759,     0.58859,     0.58959,     0.59059,     0.59159,     0.59259,     0.59359,     0.59459,      0.5956,      0.5966,      0.5976,      0.5986,      0.5996,\n",
              "            0.6006,      0.6016,      0.6026,      0.6036,      0.6046,     0.60561,     0.60661,     0.60761,     0.60861,     0.60961,     0.61061,     0.61161,     0.61261,     0.61361,     0.61461,     0.61562,     0.61662,     0.61762,     0.61862,     0.61962,     0.62062,     0.62162,     0.62262,     0.62362,\n",
              "           0.62462,     0.62563,     0.62663,     0.62763,     0.62863,     0.62963,     0.63063,     0.63163,     0.63263,     0.63363,     0.63463,     0.63564,     0.63664,     0.63764,     0.63864,     0.63964,     0.64064,     0.64164,     0.64264,     0.64364,     0.64464,     0.64565,     0.64665,     0.64765,\n",
              "           0.64865,     0.64965,     0.65065,     0.65165,     0.65265,     0.65365,     0.65465,     0.65566,     0.65666,     0.65766,     0.65866,     0.65966,     0.66066,     0.66166,     0.66266,     0.66366,     0.66466,     0.66567,     0.66667,     0.66767,     0.66867,     0.66967,     0.67067,     0.67167,\n",
              "           0.67267,     0.67367,     0.67467,     0.67568,     0.67668,     0.67768,     0.67868,     0.67968,     0.68068,     0.68168,     0.68268,     0.68368,     0.68468,     0.68569,     0.68669,     0.68769,     0.68869,     0.68969,     0.69069,     0.69169,     0.69269,     0.69369,     0.69469,      0.6957,\n",
              "            0.6967,      0.6977,      0.6987,      0.6997,      0.7007,      0.7017,      0.7027,      0.7037,      0.7047,     0.70571,     0.70671,     0.70771,     0.70871,     0.70971,     0.71071,     0.71171,     0.71271,     0.71371,     0.71471,     0.71572,     0.71672,     0.71772,     0.71872,     0.71972,\n",
              "           0.72072,     0.72172,     0.72272,     0.72372,     0.72472,     0.72573,     0.72673,     0.72773,     0.72873,     0.72973,     0.73073,     0.73173,     0.73273,     0.73373,     0.73473,     0.73574,     0.73674,     0.73774,     0.73874,     0.73974,     0.74074,     0.74174,     0.74274,     0.74374,\n",
              "           0.74474,     0.74575,     0.74675,     0.74775,     0.74875,     0.74975,     0.75075,     0.75175,     0.75275,     0.75375,     0.75475,     0.75576,     0.75676,     0.75776,     0.75876,     0.75976,     0.76076,     0.76176,     0.76276,     0.76376,     0.76476,     0.76577,     0.76677,     0.76777,\n",
              "           0.76877,     0.76977,     0.77077,     0.77177,     0.77277,     0.77377,     0.77477,     0.77578,     0.77678,     0.77778,     0.77878,     0.77978,     0.78078,     0.78178,     0.78278,     0.78378,     0.78478,     0.78579,     0.78679,     0.78779,     0.78879,     0.78979,     0.79079,     0.79179,\n",
              "           0.79279,     0.79379,     0.79479,      0.7958,      0.7968,      0.7978,      0.7988,      0.7998,      0.8008,      0.8018,      0.8028,      0.8038,      0.8048,     0.80581,     0.80681,     0.80781,     0.80881,     0.80981,     0.81081,     0.81181,     0.81281,     0.81381,     0.81481,     0.81582,\n",
              "           0.81682,     0.81782,     0.81882,     0.81982,     0.82082,     0.82182,     0.82282,     0.82382,     0.82482,     0.82583,     0.82683,     0.82783,     0.82883,     0.82983,     0.83083,     0.83183,     0.83283,     0.83383,     0.83483,     0.83584,     0.83684,     0.83784,     0.83884,     0.83984,\n",
              "           0.84084,     0.84184,     0.84284,     0.84384,     0.84484,     0.84585,     0.84685,     0.84785,     0.84885,     0.84985,     0.85085,     0.85185,     0.85285,     0.85385,     0.85485,     0.85586,     0.85686,     0.85786,     0.85886,     0.85986,     0.86086,     0.86186,     0.86286,     0.86386,\n",
              "           0.86486,     0.86587,     0.86687,     0.86787,     0.86887,     0.86987,     0.87087,     0.87187,     0.87287,     0.87387,     0.87487,     0.87588,     0.87688,     0.87788,     0.87888,     0.87988,     0.88088,     0.88188,     0.88288,     0.88388,     0.88488,     0.88589,     0.88689,     0.88789,\n",
              "           0.88889,     0.88989,     0.89089,     0.89189,     0.89289,     0.89389,     0.89489,      0.8959,      0.8969,      0.8979,      0.8989,      0.8999,      0.9009,      0.9019,      0.9029,      0.9039,      0.9049,     0.90591,     0.90691,     0.90791,     0.90891,     0.90991,     0.91091,     0.91191,\n",
              "           0.91291,     0.91391,     0.91491,     0.91592,     0.91692,     0.91792,     0.91892,     0.91992,     0.92092,     0.92192,     0.92292,     0.92392,     0.92492,     0.92593,     0.92693,     0.92793,     0.92893,     0.92993,     0.93093,     0.93193,     0.93293,     0.93393,     0.93493,     0.93594,\n",
              "           0.93694,     0.93794,     0.93894,     0.93994,     0.94094,     0.94194,     0.94294,     0.94394,     0.94494,     0.94595,     0.94695,     0.94795,     0.94895,     0.94995,     0.95095,     0.95195,     0.95295,     0.95395,     0.95495,     0.95596,     0.95696,     0.95796,     0.95896,     0.95996,\n",
              "           0.96096,     0.96196,     0.96296,     0.96396,     0.96496,     0.96597,     0.96697,     0.96797,     0.96897,     0.96997,     0.97097,     0.97197,     0.97297,     0.97397,     0.97497,     0.97598,     0.97698,     0.97798,     0.97898,     0.97998,     0.98098,     0.98198,     0.98298,     0.98398,\n",
              "           0.98498,     0.98599,     0.98699,     0.98799,     0.98899,     0.98999,     0.99099,     0.99199,     0.99299,     0.99399,     0.99499,       0.996,       0.997,       0.998,       0.999,           1]), array([[    0.36294,     0.36294,     0.50459,     0.56612,     0.60479,     0.62992,     0.64827,     0.66486,     0.68091,     0.69184,     0.70496,     0.70726,     0.71479,     0.71744,     0.71921,     0.72081,     0.72156,     0.72631,     0.73366,     0.73466,     0.73735,      0.7379,     0.74105,\n",
              "            0.74183,     0.74388,     0.74451,     0.74574,     0.74733,       0.749,     0.74998,     0.75275,     0.75355,      0.7539,     0.75425,     0.75482,     0.75555,     0.75638,     0.75762,     0.75807,     0.75816,      0.7591,     0.76169,     0.76215,     0.76369,     0.76553,      0.7684,\n",
              "            0.76924,     0.76953,     0.76982,     0.77104,       0.772,     0.77286,     0.77343,     0.77495,     0.77572,     0.77881,     0.77931,     0.78096,     0.78164,     0.78191,     0.78219,     0.78292,     0.78345,     0.78379,     0.78445,     0.78539,     0.78586,     0.78652,     0.78647,\n",
              "            0.78636,      0.7899,     0.79022,     0.79054,     0.79094,     0.79162,     0.79278,     0.79297,     0.79315,     0.79333,     0.79351,      0.7941,     0.79541,     0.79565,     0.79589,     0.79613,     0.79791,     0.79735,     0.79723,     0.79782,     0.79809,     0.79803,     0.79796,\n",
              "            0.79805,     0.79955,     0.80012,     0.80059,     0.80454,     0.80532,     0.80575,     0.80612,     0.80678,     0.80764,     0.80818,     0.80801,     0.80796,     0.80791,     0.80786,     0.80838,     0.80893,     0.80914,     0.80935,     0.80956,     0.81074,     0.81096,     0.81119,\n",
              "            0.81141,     0.81163,     0.81291,     0.81325,     0.81359,     0.81466,     0.81526,      0.8173,     0.81848,     0.81868,     0.81887,     0.81907,     0.81926,     0.82095,     0.82136,     0.82155,     0.82174,     0.82192,     0.82211,     0.82344,     0.82524,     0.82548,     0.82572,\n",
              "            0.82596,     0.82908,      0.8307,     0.83083,     0.83095,     0.83107,     0.83119,     0.83131,     0.83143,     0.83155,     0.83168,     0.83405,     0.83458,     0.83492,     0.83515,     0.83537,      0.8356,     0.83588,     0.83654,     0.83719,     0.83784,     0.83818,     0.83851,\n",
              "            0.83884,     0.83919,     0.83954,      0.8399,     0.84102,     0.84121,      0.8414,     0.84159,     0.84178,     0.84197,     0.84234,     0.84282,     0.84325,     0.84363,       0.844,     0.84411,     0.84406,     0.84401,     0.84396,     0.84538,       0.846,     0.84639,     0.84675,\n",
              "            0.84711,     0.84709,     0.84706,     0.84704,     0.84701,     0.84698,     0.84696,     0.84693,     0.84724,     0.84759,     0.84794,     0.84837,      0.8488,     0.84905,     0.84903,       0.849,     0.84898,     0.84896,     0.84894,     0.84892,      0.8489,     0.84887,     0.84913,\n",
              "            0.84955,     0.85113,     0.85203,      0.8519,     0.85189,     0.85187,     0.85186,     0.85185,     0.85184,     0.85183,     0.85181,      0.8518,     0.85179,     0.85178,     0.85177,     0.85176,     0.85174,     0.85173,     0.85172,     0.85152,     0.85149,     0.85146,     0.85143,\n",
              "             0.8514,     0.85137,     0.85134,     0.85148,     0.85163,     0.85178,     0.85194,     0.85209,     0.85224,      0.8524,     0.85239,     0.85236,     0.85232,     0.85229,     0.85226,     0.85222,     0.85216,     0.85209,      0.8521,      0.8524,      0.8527,     0.85299,     0.85306,\n",
              "            0.85405,     0.85426,     0.85448,     0.85469,     0.85491,     0.85512,     0.85505,     0.85496,     0.85475,     0.85471,     0.85466,     0.85461,     0.85458,     0.85467,     0.85476,     0.85485,     0.85493,     0.85502,     0.85511,      0.8552,     0.85529,     0.85538,     0.85547,\n",
              "            0.85555,     0.85564,     0.85579,     0.85598,     0.85616,     0.85634,     0.85652,      0.8567,     0.85684,     0.85695,     0.85707,     0.85718,      0.8573,     0.85741,     0.85752,     0.85764,     0.85775,     0.85786,     0.85751,     0.85748,     0.85744,     0.85741,     0.85738,\n",
              "            0.85734,     0.85735,      0.8574,     0.85745,     0.85751,     0.85756,     0.85761,     0.85766,     0.85771,     0.85776,     0.85781,     0.85786,     0.85791,     0.85796,     0.85801,     0.85806,     0.85811,     0.85816,     0.85822,     0.85827,     0.85832,     0.85837,     0.85842,\n",
              "            0.85991,     0.86057,     0.86203,      0.8623,     0.86257,     0.86284,     0.86338,     0.86404,     0.86533,     0.86547,     0.86562,     0.86576,     0.86591,     0.86605,      0.8662,     0.86617,     0.86713,     0.86725,     0.86737,     0.86749,     0.86761,     0.86773,     0.86785,\n",
              "            0.86797,     0.86809,     0.86821,     0.86949,     0.86963,     0.86978,     0.86992,     0.87006,     0.87021,     0.87035,     0.87049,     0.87063,     0.87078,     0.87092,     0.87106,     0.87121,     0.87135,     0.87149,     0.87164,     0.87292,     0.87305,     0.87317,      0.8733,\n",
              "            0.87342,     0.87355,     0.87367,      0.8738,     0.87392,     0.87415,     0.87458,     0.87501,     0.87499,     0.87498,     0.87497,     0.87496,     0.87494,     0.87493,     0.87492,     0.87491,      0.8749,     0.87488,     0.87487,     0.87486,     0.87485,     0.87484,     0.87632,\n",
              "            0.87676,     0.87718,     0.87744,     0.87769,     0.87794,      0.8782,     0.87851,     0.87891,     0.87932,     0.87949,     0.87943,     0.87937,     0.87929,     0.87921,      0.8793,     0.87943,     0.87955,     0.87967,      0.8798,     0.87992,     0.88005,     0.88017,      0.8803,\n",
              "            0.88044,     0.88062,      0.8808,     0.88098,     0.88116,     0.88134,     0.88152,      0.8814,     0.88139,     0.88138,     0.88138,     0.88137,     0.88136,     0.88135,     0.88135,     0.88134,     0.88133,     0.88133,     0.88132,     0.88131,     0.88131,      0.8813,     0.88129,\n",
              "            0.88128,     0.88128,     0.88127,     0.88126,     0.88126,     0.88125,     0.88124,     0.88131,     0.88138,     0.88146,     0.88154,     0.88162,     0.88169,     0.88177,     0.88185,     0.88193,       0.882,     0.88208,     0.88216,     0.88224,     0.88231,     0.88239,     0.88242,\n",
              "             0.8824,     0.88238,     0.88236,     0.88234,     0.88232,      0.8823,     0.88228,     0.88227,     0.88226,     0.88225,     0.88224,     0.88223,     0.88222,     0.88221,      0.8822,     0.88219,     0.88218,     0.88217,     0.88216,     0.88215,     0.88214,     0.88213,     0.88212,\n",
              "            0.88318,     0.88349,     0.88379,      0.8841,     0.88439,     0.88456,     0.88474,     0.88492,     0.88509,     0.88527,     0.88544,     0.88553,     0.88545,     0.88523,     0.88519,     0.88515,     0.88511,     0.88571,     0.88629,     0.88628,     0.88626,     0.88625,     0.88623,\n",
              "            0.88621,      0.8862,     0.88618,     0.88617,     0.88615,      0.8876,     0.88792,     0.88823,     0.88854,     0.88869,     0.88882,     0.88894,     0.88907,     0.88919,     0.88932,     0.88944,     0.88957,      0.8897,     0.88979,     0.88969,     0.88994,     0.89019,     0.89044,\n",
              "             0.8907,     0.89334,      0.8933,     0.89327,     0.89323,     0.89467,     0.89531,     0.89554,     0.89552,      0.8955,     0.89549,     0.89547,     0.89545,     0.89544,     0.89542,      0.8954,      0.8956,     0.89592,     0.89624,     0.89656,     0.89674,     0.89686,     0.89698,\n",
              "             0.8971,     0.89723,     0.89735,     0.89747,     0.89759,     0.89772,     0.89784,     0.89783,     0.89794,     0.89859,     0.89959,     0.90156,     0.90182,     0.90208,     0.90234,      0.9026,     0.90314,     0.90379,     0.90444,      0.9051,     0.90509,     0.90508,     0.90507,\n",
              "            0.90506,     0.90505,     0.90504,     0.90503,     0.90502,     0.90502,     0.90501,       0.905,     0.90499,     0.90498,     0.90497,     0.90492,     0.90485,     0.90481,     0.90479,     0.90477,     0.90474,     0.90472,      0.9047,     0.90468,     0.90467,     0.90465,     0.90464,\n",
              "            0.90462,     0.90461,     0.90459,     0.90458,     0.90456,     0.90466,     0.90484,     0.90501,     0.90519,     0.90537,     0.90554,     0.90572,     0.90588,     0.90602,     0.90616,      0.9063,     0.90644,     0.90658,     0.90672,     0.90686,       0.907,     0.90714,     0.90688,\n",
              "            0.90686,     0.90684,     0.90682,      0.9068,     0.90679,     0.90677,     0.90675,     0.90695,     0.90725,     0.90754,     0.90784,     0.90933,     0.90926,     0.90921,     0.90916,     0.90912,     0.91025,     0.91104,     0.91172,     0.91171,     0.91169,     0.91168,     0.91167,\n",
              "            0.91165,     0.91164,     0.91163,     0.91161,      0.9116,     0.91144,     0.91142,     0.91139,     0.91136,     0.91132,     0.91127,     0.91121,     0.91138,     0.91158,     0.91177,     0.91197,     0.91216,     0.91235,     0.91258,     0.91326,     0.91654,      0.9165,     0.91647,\n",
              "            0.91643,     0.91739,     0.91793,     0.91817,      0.9184,     0.91863,     0.91886,     0.91909,     0.92043,     0.92038,     0.92232,     0.92295,     0.92291,     0.92288,     0.92285,     0.92283,     0.92281,      0.9228,     0.92278,     0.92276,     0.92275,     0.92238,     0.92236,\n",
              "            0.92233,      0.9223,     0.92228,      0.9225,     0.92279,     0.92307,     0.92335,     0.92364,     0.92353,     0.92352,     0.92351,      0.9235,     0.92349,     0.92348,     0.92348,     0.92347,     0.92346,     0.92345,     0.92344,     0.92343,     0.92342,     0.92341,      0.9234,\n",
              "            0.92338,     0.92337,     0.92336,     0.92335,     0.92334,     0.92333,     0.92331,     0.92328,     0.92324,     0.92308,     0.92306,     0.92304,     0.92302,       0.923,     0.92298,     0.92311,     0.92383,     0.92651,     0.92696,     0.92942,     0.92935,     0.92931,     0.92928,\n",
              "            0.92925,     0.92909,     0.92901,     0.92887,     0.92884,     0.92881,     0.93033,      0.9305,     0.93068,     0.93085,     0.93103,      0.9312,     0.93137,     0.93155,     0.93352,     0.93469,     0.93544,     0.93791,     0.93885,     0.93878,     0.93932,     0.93992,     0.94022,\n",
              "            0.94016,     0.94009,     0.94005,     0.94001,     0.93998,     0.94043,     0.94119,     0.94139,     0.94135,     0.94132,      0.9413,     0.94128,     0.94113,     0.94106,       0.941,     0.94087,     0.94083,      0.9408,     0.94071,     0.94168,     0.94218,     0.94365,     0.94428,\n",
              "             0.9449,     0.94506,     0.94503,     0.94501,     0.94516,      0.9462,     0.94649,     0.94646,     0.94644,      0.9463,      0.9462,     0.94758,     0.94792,     0.94899,     0.94958,     0.95011,     0.95064,     0.95062,     0.95057,     0.95041,     0.95037,     0.95032,     0.95171,\n",
              "            0.95165,     0.95158,     0.95154,      0.9515,     0.95146,     0.95143,     0.95366,     0.95448,      0.9546,     0.95457,     0.95455,     0.95442,     0.95673,     0.95756,     0.95911,     0.95909,     0.95907,     0.95906,     0.95904,     0.95899,     0.95886,     0.95868,     0.95866,\n",
              "            0.95864,     0.95861,     0.95858,     0.95854,     0.95849,     0.95988,     0.96001,      0.9615,     0.96472,     0.96537,     0.96607,     0.96728,     0.96807,     0.96804,     0.96788,     0.96777,     0.96765,     0.96756,     0.96754,     0.96752,      0.9675,     0.96714,     0.96935,\n",
              "            0.97063,     0.97052,     0.97226,     0.97289,     0.97656,     0.97756,     0.97754,     0.97751,     0.97746,     0.97719,     0.97716,     0.97901,     0.97899,     0.97896,     0.98094,     0.98191,     0.98265,     0.98262,      0.9826,     0.98253,     0.98233,     0.98226,     0.98224,\n",
              "            0.98217,     0.98404,     0.98397,     0.98391,     0.98387,     0.98581,     0.98579,     0.98571,      0.9857,     0.98562,     0.98759,     0.98757,     0.98747,     0.98746,     0.98745,     0.98843,     0.98945,     0.98943,     0.98937,     0.99141,     0.99299,     0.99349,     0.99347,\n",
              "            0.99346,     0.99345,      0.9934,      0.9933,     0.99328,     0.99321,     0.99318,     0.99305,     0.99302,     0.99301,     0.99292,     0.99287,     0.99281,     0.99273,     0.99267,      0.9926,     0.99253,      0.9925,     0.99246,     0.99485,     0.99474,      0.9947,     0.99464,\n",
              "            0.99446,      0.9944,      0.9943,     0.99425,     0.99415,     0.99409,     0.99698,     0.99692,     0.99685,     0.99674,     0.99665,     0.99656,     0.99645,     0.99639,     0.99634,     0.99622,     0.99607,     0.99582,     0.99576,     0.99556,     0.99517,     0.99507,     0.99481,\n",
              "            0.99459,     0.99431,     0.99385,     0.99349,     0.99299,     0.99216,     0.99163,     0.99069,     0.98881,     0.98814,     0.99591,           1,           1,           1,           1,           1,           1,           1,           1,           1,           1,           1,           1,\n",
              "                  1,           1,           1,           1,           1,           1,           1,           1,           1,           1,           1,           1,           1,           1,           1,           1,           1,           1,           1,           1,           1,           1,           1,\n",
              "                  1,           1,           1,           1,           1,           1,           1,           1,           1,           1,           1]]), 'Confidence', 'Precision'], [array([          0,    0.001001,    0.002002,    0.003003,    0.004004,    0.005005,    0.006006,    0.007007,    0.008008,    0.009009,     0.01001,    0.011011,    0.012012,    0.013013,    0.014014,    0.015015,    0.016016,    0.017017,    0.018018,    0.019019,     0.02002,    0.021021,    0.022022,    0.023023,\n",
              "          0.024024,    0.025025,    0.026026,    0.027027,    0.028028,    0.029029,     0.03003,    0.031031,    0.032032,    0.033033,    0.034034,    0.035035,    0.036036,    0.037037,    0.038038,    0.039039,     0.04004,    0.041041,    0.042042,    0.043043,    0.044044,    0.045045,    0.046046,    0.047047,\n",
              "          0.048048,    0.049049,     0.05005,    0.051051,    0.052052,    0.053053,    0.054054,    0.055055,    0.056056,    0.057057,    0.058058,    0.059059,     0.06006,    0.061061,    0.062062,    0.063063,    0.064064,    0.065065,    0.066066,    0.067067,    0.068068,    0.069069,     0.07007,    0.071071,\n",
              "          0.072072,    0.073073,    0.074074,    0.075075,    0.076076,    0.077077,    0.078078,    0.079079,     0.08008,    0.081081,    0.082082,    0.083083,    0.084084,    0.085085,    0.086086,    0.087087,    0.088088,    0.089089,     0.09009,    0.091091,    0.092092,    0.093093,    0.094094,    0.095095,\n",
              "          0.096096,    0.097097,    0.098098,    0.099099,      0.1001,      0.1011,      0.1021,      0.1031,      0.1041,     0.10511,     0.10611,     0.10711,     0.10811,     0.10911,     0.11011,     0.11111,     0.11211,     0.11311,     0.11411,     0.11512,     0.11612,     0.11712,     0.11812,     0.11912,\n",
              "           0.12012,     0.12112,     0.12212,     0.12312,     0.12412,     0.12513,     0.12613,     0.12713,     0.12813,     0.12913,     0.13013,     0.13113,     0.13213,     0.13313,     0.13413,     0.13514,     0.13614,     0.13714,     0.13814,     0.13914,     0.14014,     0.14114,     0.14214,     0.14314,\n",
              "           0.14414,     0.14515,     0.14615,     0.14715,     0.14815,     0.14915,     0.15015,     0.15115,     0.15215,     0.15315,     0.15415,     0.15516,     0.15616,     0.15716,     0.15816,     0.15916,     0.16016,     0.16116,     0.16216,     0.16316,     0.16416,     0.16517,     0.16617,     0.16717,\n",
              "           0.16817,     0.16917,     0.17017,     0.17117,     0.17217,     0.17317,     0.17417,     0.17518,     0.17618,     0.17718,     0.17818,     0.17918,     0.18018,     0.18118,     0.18218,     0.18318,     0.18418,     0.18519,     0.18619,     0.18719,     0.18819,     0.18919,     0.19019,     0.19119,\n",
              "           0.19219,     0.19319,     0.19419,      0.1952,      0.1962,      0.1972,      0.1982,      0.1992,      0.2002,      0.2012,      0.2022,      0.2032,      0.2042,     0.20521,     0.20621,     0.20721,     0.20821,     0.20921,     0.21021,     0.21121,     0.21221,     0.21321,     0.21421,     0.21522,\n",
              "           0.21622,     0.21722,     0.21822,     0.21922,     0.22022,     0.22122,     0.22222,     0.22322,     0.22422,     0.22523,     0.22623,     0.22723,     0.22823,     0.22923,     0.23023,     0.23123,     0.23223,     0.23323,     0.23423,     0.23524,     0.23624,     0.23724,     0.23824,     0.23924,\n",
              "           0.24024,     0.24124,     0.24224,     0.24324,     0.24424,     0.24525,     0.24625,     0.24725,     0.24825,     0.24925,     0.25025,     0.25125,     0.25225,     0.25325,     0.25425,     0.25526,     0.25626,     0.25726,     0.25826,     0.25926,     0.26026,     0.26126,     0.26226,     0.26326,\n",
              "           0.26426,     0.26527,     0.26627,     0.26727,     0.26827,     0.26927,     0.27027,     0.27127,     0.27227,     0.27327,     0.27427,     0.27528,     0.27628,     0.27728,     0.27828,     0.27928,     0.28028,     0.28128,     0.28228,     0.28328,     0.28428,     0.28529,     0.28629,     0.28729,\n",
              "           0.28829,     0.28929,     0.29029,     0.29129,     0.29229,     0.29329,     0.29429,      0.2953,      0.2963,      0.2973,      0.2983,      0.2993,      0.3003,      0.3013,      0.3023,      0.3033,      0.3043,     0.30531,     0.30631,     0.30731,     0.30831,     0.30931,     0.31031,     0.31131,\n",
              "           0.31231,     0.31331,     0.31431,     0.31532,     0.31632,     0.31732,     0.31832,     0.31932,     0.32032,     0.32132,     0.32232,     0.32332,     0.32432,     0.32533,     0.32633,     0.32733,     0.32833,     0.32933,     0.33033,     0.33133,     0.33233,     0.33333,     0.33433,     0.33534,\n",
              "           0.33634,     0.33734,     0.33834,     0.33934,     0.34034,     0.34134,     0.34234,     0.34334,     0.34434,     0.34535,     0.34635,     0.34735,     0.34835,     0.34935,     0.35035,     0.35135,     0.35235,     0.35335,     0.35435,     0.35536,     0.35636,     0.35736,     0.35836,     0.35936,\n",
              "           0.36036,     0.36136,     0.36236,     0.36336,     0.36436,     0.36537,     0.36637,     0.36737,     0.36837,     0.36937,     0.37037,     0.37137,     0.37237,     0.37337,     0.37437,     0.37538,     0.37638,     0.37738,     0.37838,     0.37938,     0.38038,     0.38138,     0.38238,     0.38338,\n",
              "           0.38438,     0.38539,     0.38639,     0.38739,     0.38839,     0.38939,     0.39039,     0.39139,     0.39239,     0.39339,     0.39439,      0.3954,      0.3964,      0.3974,      0.3984,      0.3994,      0.4004,      0.4014,      0.4024,      0.4034,      0.4044,     0.40541,     0.40641,     0.40741,\n",
              "           0.40841,     0.40941,     0.41041,     0.41141,     0.41241,     0.41341,     0.41441,     0.41542,     0.41642,     0.41742,     0.41842,     0.41942,     0.42042,     0.42142,     0.42242,     0.42342,     0.42442,     0.42543,     0.42643,     0.42743,     0.42843,     0.42943,     0.43043,     0.43143,\n",
              "           0.43243,     0.43343,     0.43443,     0.43544,     0.43644,     0.43744,     0.43844,     0.43944,     0.44044,     0.44144,     0.44244,     0.44344,     0.44444,     0.44545,     0.44645,     0.44745,     0.44845,     0.44945,     0.45045,     0.45145,     0.45245,     0.45345,     0.45445,     0.45546,\n",
              "           0.45646,     0.45746,     0.45846,     0.45946,     0.46046,     0.46146,     0.46246,     0.46346,     0.46446,     0.46547,     0.46647,     0.46747,     0.46847,     0.46947,     0.47047,     0.47147,     0.47247,     0.47347,     0.47447,     0.47548,     0.47648,     0.47748,     0.47848,     0.47948,\n",
              "           0.48048,     0.48148,     0.48248,     0.48348,     0.48448,     0.48549,     0.48649,     0.48749,     0.48849,     0.48949,     0.49049,     0.49149,     0.49249,     0.49349,     0.49449,      0.4955,      0.4965,      0.4975,      0.4985,      0.4995,      0.5005,      0.5015,      0.5025,      0.5035,\n",
              "            0.5045,     0.50551,     0.50651,     0.50751,     0.50851,     0.50951,     0.51051,     0.51151,     0.51251,     0.51351,     0.51451,     0.51552,     0.51652,     0.51752,     0.51852,     0.51952,     0.52052,     0.52152,     0.52252,     0.52352,     0.52452,     0.52553,     0.52653,     0.52753,\n",
              "           0.52853,     0.52953,     0.53053,     0.53153,     0.53253,     0.53353,     0.53453,     0.53554,     0.53654,     0.53754,     0.53854,     0.53954,     0.54054,     0.54154,     0.54254,     0.54354,     0.54454,     0.54555,     0.54655,     0.54755,     0.54855,     0.54955,     0.55055,     0.55155,\n",
              "           0.55255,     0.55355,     0.55455,     0.55556,     0.55656,     0.55756,     0.55856,     0.55956,     0.56056,     0.56156,     0.56256,     0.56356,     0.56456,     0.56557,     0.56657,     0.56757,     0.56857,     0.56957,     0.57057,     0.57157,     0.57257,     0.57357,     0.57457,     0.57558,\n",
              "           0.57658,     0.57758,     0.57858,     0.57958,     0.58058,     0.58158,     0.58258,     0.58358,     0.58458,     0.58559,     0.58659,     0.58759,     0.58859,     0.58959,     0.59059,     0.59159,     0.59259,     0.59359,     0.59459,      0.5956,      0.5966,      0.5976,      0.5986,      0.5996,\n",
              "            0.6006,      0.6016,      0.6026,      0.6036,      0.6046,     0.60561,     0.60661,     0.60761,     0.60861,     0.60961,     0.61061,     0.61161,     0.61261,     0.61361,     0.61461,     0.61562,     0.61662,     0.61762,     0.61862,     0.61962,     0.62062,     0.62162,     0.62262,     0.62362,\n",
              "           0.62462,     0.62563,     0.62663,     0.62763,     0.62863,     0.62963,     0.63063,     0.63163,     0.63263,     0.63363,     0.63463,     0.63564,     0.63664,     0.63764,     0.63864,     0.63964,     0.64064,     0.64164,     0.64264,     0.64364,     0.64464,     0.64565,     0.64665,     0.64765,\n",
              "           0.64865,     0.64965,     0.65065,     0.65165,     0.65265,     0.65365,     0.65465,     0.65566,     0.65666,     0.65766,     0.65866,     0.65966,     0.66066,     0.66166,     0.66266,     0.66366,     0.66466,     0.66567,     0.66667,     0.66767,     0.66867,     0.66967,     0.67067,     0.67167,\n",
              "           0.67267,     0.67367,     0.67467,     0.67568,     0.67668,     0.67768,     0.67868,     0.67968,     0.68068,     0.68168,     0.68268,     0.68368,     0.68468,     0.68569,     0.68669,     0.68769,     0.68869,     0.68969,     0.69069,     0.69169,     0.69269,     0.69369,     0.69469,      0.6957,\n",
              "            0.6967,      0.6977,      0.6987,      0.6997,      0.7007,      0.7017,      0.7027,      0.7037,      0.7047,     0.70571,     0.70671,     0.70771,     0.70871,     0.70971,     0.71071,     0.71171,     0.71271,     0.71371,     0.71471,     0.71572,     0.71672,     0.71772,     0.71872,     0.71972,\n",
              "           0.72072,     0.72172,     0.72272,     0.72372,     0.72472,     0.72573,     0.72673,     0.72773,     0.72873,     0.72973,     0.73073,     0.73173,     0.73273,     0.73373,     0.73473,     0.73574,     0.73674,     0.73774,     0.73874,     0.73974,     0.74074,     0.74174,     0.74274,     0.74374,\n",
              "           0.74474,     0.74575,     0.74675,     0.74775,     0.74875,     0.74975,     0.75075,     0.75175,     0.75275,     0.75375,     0.75475,     0.75576,     0.75676,     0.75776,     0.75876,     0.75976,     0.76076,     0.76176,     0.76276,     0.76376,     0.76476,     0.76577,     0.76677,     0.76777,\n",
              "           0.76877,     0.76977,     0.77077,     0.77177,     0.77277,     0.77377,     0.77477,     0.77578,     0.77678,     0.77778,     0.77878,     0.77978,     0.78078,     0.78178,     0.78278,     0.78378,     0.78478,     0.78579,     0.78679,     0.78779,     0.78879,     0.78979,     0.79079,     0.79179,\n",
              "           0.79279,     0.79379,     0.79479,      0.7958,      0.7968,      0.7978,      0.7988,      0.7998,      0.8008,      0.8018,      0.8028,      0.8038,      0.8048,     0.80581,     0.80681,     0.80781,     0.80881,     0.80981,     0.81081,     0.81181,     0.81281,     0.81381,     0.81481,     0.81582,\n",
              "           0.81682,     0.81782,     0.81882,     0.81982,     0.82082,     0.82182,     0.82282,     0.82382,     0.82482,     0.82583,     0.82683,     0.82783,     0.82883,     0.82983,     0.83083,     0.83183,     0.83283,     0.83383,     0.83483,     0.83584,     0.83684,     0.83784,     0.83884,     0.83984,\n",
              "           0.84084,     0.84184,     0.84284,     0.84384,     0.84484,     0.84585,     0.84685,     0.84785,     0.84885,     0.84985,     0.85085,     0.85185,     0.85285,     0.85385,     0.85485,     0.85586,     0.85686,     0.85786,     0.85886,     0.85986,     0.86086,     0.86186,     0.86286,     0.86386,\n",
              "           0.86486,     0.86587,     0.86687,     0.86787,     0.86887,     0.86987,     0.87087,     0.87187,     0.87287,     0.87387,     0.87487,     0.87588,     0.87688,     0.87788,     0.87888,     0.87988,     0.88088,     0.88188,     0.88288,     0.88388,     0.88488,     0.88589,     0.88689,     0.88789,\n",
              "           0.88889,     0.88989,     0.89089,     0.89189,     0.89289,     0.89389,     0.89489,      0.8959,      0.8969,      0.8979,      0.8989,      0.8999,      0.9009,      0.9019,      0.9029,      0.9039,      0.9049,     0.90591,     0.90691,     0.90791,     0.90891,     0.90991,     0.91091,     0.91191,\n",
              "           0.91291,     0.91391,     0.91491,     0.91592,     0.91692,     0.91792,     0.91892,     0.91992,     0.92092,     0.92192,     0.92292,     0.92392,     0.92492,     0.92593,     0.92693,     0.92793,     0.92893,     0.92993,     0.93093,     0.93193,     0.93293,     0.93393,     0.93493,     0.93594,\n",
              "           0.93694,     0.93794,     0.93894,     0.93994,     0.94094,     0.94194,     0.94294,     0.94394,     0.94494,     0.94595,     0.94695,     0.94795,     0.94895,     0.94995,     0.95095,     0.95195,     0.95295,     0.95395,     0.95495,     0.95596,     0.95696,     0.95796,     0.95896,     0.95996,\n",
              "           0.96096,     0.96196,     0.96296,     0.96396,     0.96496,     0.96597,     0.96697,     0.96797,     0.96897,     0.96997,     0.97097,     0.97197,     0.97297,     0.97397,     0.97497,     0.97598,     0.97698,     0.97798,     0.97898,     0.97998,     0.98098,     0.98198,     0.98298,     0.98398,\n",
              "           0.98498,     0.98599,     0.98699,     0.98799,     0.98899,     0.98999,     0.99099,     0.99199,     0.99299,     0.99399,     0.99499,       0.996,       0.997,       0.998,       0.999,           1]), array([[    0.99441,     0.99441,     0.99161,     0.98741,     0.98462,     0.98462,     0.98462,     0.98322,     0.98182,     0.98182,     0.98182,     0.98182,     0.97902,     0.97902,     0.97483,     0.97343,     0.97343,     0.97343,     0.97343,     0.97343,     0.97343,     0.97343,     0.97203,\n",
              "            0.97203,     0.97063,     0.97063,     0.97063,     0.97063,     0.97063,     0.97063,     0.97063,     0.97063,     0.97063,     0.97063,     0.97063,     0.97063,     0.97063,     0.97063,     0.97063,     0.96897,     0.96517,     0.96503,     0.96503,     0.96503,     0.96503,     0.96503,\n",
              "            0.96503,     0.96503,     0.96503,     0.96503,     0.96503,     0.96503,     0.96503,     0.96503,     0.96503,     0.96503,     0.96503,     0.96503,     0.96503,     0.96503,     0.96503,     0.96503,     0.96503,     0.96503,     0.96503,     0.96503,     0.96503,     0.96503,     0.96327,\n",
              "            0.96268,     0.96224,     0.96224,     0.96224,     0.96224,     0.96224,     0.96224,     0.96224,     0.96224,     0.96224,     0.96224,     0.96224,     0.96224,     0.96224,     0.96224,     0.96224,     0.96083,     0.95753,     0.95679,     0.95664,     0.95641,     0.95602,     0.95562,\n",
              "            0.95524,     0.95524,     0.95524,     0.95524,     0.95524,     0.95524,     0.95524,     0.95524,     0.95524,     0.95524,     0.95524,     0.95359,     0.95327,     0.95295,     0.95263,     0.95245,     0.95245,     0.95245,     0.95245,     0.95245,     0.95245,     0.95245,     0.95245,\n",
              "            0.95245,     0.95245,     0.95245,     0.95245,     0.95245,     0.95105,     0.95105,     0.95105,     0.95105,     0.95105,     0.95105,     0.95105,     0.95105,     0.95105,     0.95105,     0.95105,     0.95105,     0.95105,     0.95105,     0.94965,     0.94965,     0.94965,     0.94965,\n",
              "            0.94965,     0.94825,     0.94685,     0.94685,     0.94685,     0.94685,     0.94685,     0.94685,     0.94685,     0.94685,     0.94685,     0.94685,     0.94685,     0.94685,     0.94685,     0.94685,     0.94685,     0.94685,     0.94685,     0.94685,     0.94685,     0.94685,     0.94685,\n",
              "            0.94685,     0.94685,     0.94685,     0.94685,     0.94685,     0.94685,     0.94685,     0.94685,     0.94685,     0.94685,     0.94685,     0.94685,     0.94685,     0.94685,     0.94685,     0.94663,     0.94628,     0.94594,     0.94559,     0.94545,     0.94545,     0.94545,     0.94545,\n",
              "            0.94545,     0.94526,     0.94506,     0.94487,     0.94467,     0.94447,     0.94427,     0.94407,     0.94406,     0.94406,     0.94406,     0.94406,     0.94406,     0.94399,     0.94383,     0.94367,     0.94351,     0.94335,     0.94319,     0.94303,     0.94287,     0.94271,     0.94266,\n",
              "            0.94266,     0.94266,     0.94226,     0.94125,     0.94116,     0.94107,     0.94098,      0.9409,     0.94081,     0.94072,     0.94063,     0.94055,     0.94046,     0.94037,     0.94028,      0.9402,     0.94011,     0.94002,     0.93993,     0.93843,      0.9382,     0.93798,     0.93775,\n",
              "            0.93753,      0.9373,     0.93708,     0.93706,     0.93706,     0.93706,     0.93706,     0.93706,     0.93706,     0.93706,     0.93685,     0.93661,     0.93637,     0.93612,     0.93588,      0.9356,     0.93513,     0.93465,     0.93427,     0.93427,     0.93427,     0.93427,     0.93375,\n",
              "            0.93287,     0.93287,     0.93287,     0.93287,     0.93287,     0.93287,     0.93226,     0.93162,     0.93006,      0.9297,     0.92934,     0.92898,     0.92867,     0.92867,     0.92867,     0.92867,     0.92867,     0.92867,     0.92867,     0.92867,     0.92867,     0.92867,     0.92867,\n",
              "            0.92867,     0.92867,     0.92867,     0.92867,     0.92867,     0.92867,     0.92867,     0.92867,     0.92867,     0.92867,     0.92867,     0.92867,     0.92867,     0.92867,     0.92867,     0.92867,     0.92867,     0.92867,     0.92585,      0.9256,     0.92535,      0.9251,     0.92485,\n",
              "             0.9246,     0.92448,     0.92448,     0.92448,     0.92448,     0.92448,     0.92448,     0.92448,     0.92448,     0.92448,     0.92448,     0.92448,     0.92448,     0.92448,     0.92448,     0.92448,     0.92448,     0.92448,     0.92448,     0.92448,     0.92448,     0.92448,     0.92448,\n",
              "            0.92448,     0.92448,     0.92448,     0.92448,     0.92448,     0.92448,     0.92448,     0.92448,     0.92448,     0.92448,     0.92448,     0.92448,     0.92448,     0.92448,     0.92448,     0.92168,     0.92168,     0.92168,     0.92168,     0.92168,     0.92168,     0.92168,     0.92168,\n",
              "            0.92168,     0.92168,     0.92168,     0.92168,     0.92168,     0.92168,     0.92168,     0.92168,     0.92168,     0.92168,     0.92168,     0.92168,     0.92168,     0.92168,     0.92168,     0.92168,     0.92168,     0.92168,     0.92168,     0.92168,     0.92168,     0.92168,     0.92168,\n",
              "            0.92168,     0.92168,     0.92168,     0.92168,     0.92168,     0.92168,     0.92168,     0.92168,     0.92022,     0.92011,     0.92001,     0.91991,     0.91981,     0.91971,     0.91961,     0.91951,     0.91941,     0.91931,     0.91921,     0.91911,     0.91901,     0.91891,     0.91888,\n",
              "            0.91888,     0.91888,     0.91888,     0.91888,     0.91888,     0.91888,     0.91888,     0.91888,     0.91888,     0.91862,      0.9181,     0.91758,      0.9169,     0.91618,     0.91608,     0.91608,     0.91608,     0.91608,     0.91608,     0.91608,     0.91608,     0.91608,     0.91608,\n",
              "            0.91608,     0.91608,     0.91608,     0.91608,     0.91608,     0.91608,     0.91608,     0.91464,     0.91458,     0.91452,     0.91446,     0.91439,     0.91433,     0.91427,     0.91421,     0.91415,     0.91409,     0.91403,     0.91397,     0.91391,     0.91385,     0.91378,     0.91372,\n",
              "            0.91366,      0.9136,     0.91354,     0.91348,     0.91342,     0.91336,      0.9133,     0.91329,     0.91329,     0.91329,     0.91329,     0.91329,     0.91329,     0.91329,     0.91329,     0.91329,     0.91329,     0.91329,     0.91329,     0.91329,     0.91329,     0.91329,      0.9132,\n",
              "            0.91302,     0.91284,     0.91266,     0.91248,     0.91231,     0.91213,     0.91195,     0.91183,     0.91175,     0.91166,     0.91158,     0.91149,     0.91141,     0.91133,     0.91124,     0.91116,     0.91107,     0.91099,      0.9109,     0.91082,     0.91074,     0.91065,     0.91057,\n",
              "            0.90909,     0.90909,     0.90909,     0.90909,     0.90909,     0.90909,     0.90909,     0.90909,     0.90909,     0.90909,     0.90909,     0.90884,     0.90812,     0.90615,     0.90579,     0.90543,     0.90507,      0.9049,     0.90482,     0.90468,     0.90453,     0.90439,     0.90425,\n",
              "             0.9041,     0.90396,     0.90382,     0.90367,     0.90353,      0.9035,      0.9035,      0.9035,      0.9035,      0.9035,      0.9035,      0.9035,      0.9035,      0.9035,      0.9035,      0.9035,      0.9035,      0.9035,     0.90334,      0.9021,      0.9021,      0.9021,      0.9021,\n",
              "             0.9021,     0.90201,     0.90165,     0.90129,     0.90093,      0.9007,      0.9007,     0.89924,     0.89908,     0.89892,     0.89876,      0.8986,     0.89844,     0.89828,     0.89812,     0.89796,      0.8979,      0.8979,      0.8979,      0.8979,      0.8979,      0.8979,      0.8979,\n",
              "             0.8979,      0.8979,      0.8979,      0.8979,      0.8979,      0.8979,      0.8979,     0.89722,      0.8951,      0.8951,      0.8951,      0.8951,      0.8951,      0.8951,      0.8951,      0.8951,      0.8951,      0.8951,      0.8951,      0.8951,     0.89363,     0.89353,     0.89343,\n",
              "            0.89333,     0.89323,     0.89313,     0.89303,     0.89294,     0.89284,     0.89274,     0.89264,     0.89254,     0.89244,     0.89234,     0.89184,     0.89113,     0.89074,      0.8905,     0.89026,     0.89003,     0.88979,     0.88955,     0.88938,     0.88923,     0.88908,     0.88893,\n",
              "            0.88878,     0.88863,     0.88848,     0.88833,     0.88818,     0.88811,     0.88811,     0.88811,     0.88811,     0.88811,     0.88811,     0.88811,     0.88811,     0.88811,     0.88811,     0.88811,     0.88811,     0.88811,     0.88811,     0.88811,     0.88811,     0.88811,     0.88531,\n",
              "            0.88512,     0.88493,     0.88474,     0.88455,     0.88436,     0.88416,     0.88397,     0.88392,     0.88392,     0.88392,     0.88392,      0.8837,     0.88298,     0.88235,     0.88187,     0.88139,     0.88112,     0.88112,     0.88112,     0.88097,     0.88082,     0.88067,     0.88052,\n",
              "            0.88037,     0.88021,     0.88006,     0.87991,     0.87976,     0.87809,     0.87777,     0.87745,     0.87714,     0.87673,     0.87616,     0.87559,     0.87552,     0.87552,     0.87552,     0.87552,     0.87552,     0.87552,     0.87552,     0.87552,     0.87548,     0.87507,     0.87466,\n",
              "            0.87425,     0.87413,     0.87413,     0.87413,     0.87413,     0.87413,     0.87413,     0.87413,     0.87363,     0.87305,     0.87273,     0.87114,     0.87073,     0.87032,     0.86992,     0.86972,     0.86951,     0.86931,      0.8691,      0.8689,     0.86869,     0.86427,     0.86395,\n",
              "            0.86363,     0.86331,     0.86299,     0.86294,     0.86294,     0.86294,     0.86294,     0.86294,     0.86143,     0.86132,     0.86121,      0.8611,     0.86099,     0.86088,     0.86077,     0.86066,     0.86055,     0.86044,     0.86033,     0.86022,      0.8601,     0.85996,     0.85982,\n",
              "            0.85967,     0.85953,     0.85939,     0.85924,      0.8591,     0.85896,     0.85881,     0.85845,     0.85788,     0.85593,     0.85569,     0.85545,     0.85521,     0.85497,     0.85473,     0.85455,     0.85455,     0.85455,     0.85204,     0.84726,      0.8463,     0.84581,      0.8454,\n",
              "            0.84499,     0.84294,     0.84199,     0.84016,     0.83975,     0.83934,     0.83916,     0.83916,     0.83916,     0.83916,     0.83916,     0.83916,     0.83916,     0.83916,     0.83916,     0.83776,     0.83776,     0.83776,     0.83742,     0.83646,     0.83636,     0.83636,     0.83593,\n",
              "            0.83497,     0.83401,     0.83331,     0.83283,     0.83236,     0.83217,     0.83217,     0.83123,     0.83053,     0.83017,     0.82981,     0.82945,     0.82723,     0.82628,     0.82532,     0.82337,     0.82289,     0.82242,     0.82106,     0.82098,     0.82052,     0.81958,     0.81958,\n",
              "            0.81958,     0.81794,     0.81753,     0.81713,     0.81678,     0.81678,     0.81645,     0.81597,     0.81549,     0.81324,     0.81169,       0.809,     0.80839,     0.80839,     0.80839,     0.80839,     0.80839,      0.8077,     0.80697,     0.80416,     0.80345,     0.80253,     0.79942,\n",
              "             0.7984,     0.79708,     0.79637,     0.79568,     0.79511,     0.79453,     0.79441,     0.79441,     0.79401,     0.79353,     0.79306,     0.79075,     0.79021,     0.78889,     0.78726,     0.78694,     0.78662,      0.7863,     0.78592,     0.78497,     0.78231,     0.77875,     0.77834,\n",
              "            0.77793,     0.77745,     0.77673,     0.77595,     0.77499,     0.77483,     0.77221,     0.77203,     0.76783,     0.76503,     0.76503,     0.76503,     0.76327,     0.76256,     0.75864,     0.75581,     0.75298,     0.75079,     0.75038,     0.74997,     0.74934,     0.74091,     0.73986,\n",
              "            0.73945,     0.73661,     0.73518,     0.73427,     0.73427,     0.73117,     0.73046,     0.72941,     0.72798,     0.71887,     0.71815,     0.71743,     0.71672,     0.71591,     0.71469,     0.71469,     0.71301,     0.71168,     0.71073,     0.70801,     0.69958,     0.69714,     0.69602,\n",
              "            0.69319,      0.6898,     0.68682,     0.68399,     0.68256,     0.68019,     0.67899,     0.67549,     0.67477,     0.67106,     0.66795,     0.66672,     0.66123,     0.66075,     0.66027,     0.65734,     0.65569,     0.65473,      0.6506,     0.64567,     0.64476,      0.6407,     0.63852,\n",
              "             0.6378,      0.6364,     0.63147,     0.62231,     0.62021,     0.61388,     0.61092,     0.59942,     0.59707,     0.59611,     0.58826,     0.58394,     0.57973,     0.57305,      0.5684,     0.56318,     0.55756,      0.5556,     0.55259,     0.54008,     0.52882,     0.52497,     0.51889,\n",
              "            0.50207,     0.49637,     0.48791,     0.48364,     0.47518,     0.47042,     0.46105,     0.45259,     0.44273,     0.42728,     0.41602,     0.40476,     0.39255,     0.38553,     0.38077,     0.36812,     0.35406,     0.33301,     0.32871,     0.31329,     0.28805,     0.28238,     0.26833,\n",
              "            0.25707,     0.24441,     0.22616,      0.2135,     0.19805,       0.177,     0.16574,     0.14888,     0.12364,     0.11658,      0.1021,    0.088465,    0.084199,    0.075737,    0.058884,     0.05322,    0.041961,    0.032101,     0.02224,    0.013779,    0.010351,   0.0075187,   0.0040915,\n",
              "          0.0033747,   0.0026115,   0.0016557,           0,           0,           0,           0,           0,           0,           0,           0,           0,           0,           0,           0,           0,           0,           0,           0,           0,           0,           0,           0,\n",
              "                  0,           0,           0,           0,           0,           0,           0,           0,           0,           0,           0]]), 'Confidence', 'Recall']]\n",
              "fitness: 0.8626704605343208\n",
              "keys: ['metrics/precision(B)', 'metrics/recall(B)', 'metrics/mAP50(B)', 'metrics/mAP50-95(B)']\n",
              "maps: array([    0.85159,     0.85159])\n",
              "names: {0: '0', 1: 'tooth'}\n",
              "plot: True\n",
              "results_dict: {'metrics/precision(B)': 0.903788570989132, 'metrics/recall(B)': 0.8951048951048951, 'metrics/mAP50(B)': 0.9624076925678852, 'metrics/mAP50-95(B)': 0.8515885458639249, 'fitness': 0.8626704605343208}\n",
              "save_dir: PosixPath('runs/detect/train')\n",
              "speed: {'preprocess': 0.1427797170785757, 'inference': 0.7092879368708684, 'loss': 0.0007042518028846154, 'postprocess': 1.4628410339355469}\n",
              "task: 'detect'"
            ]
          },
          "metadata": {},
          "execution_count": 8
        }
      ]
    },
    {
      "cell_type": "code",
      "source": [],
      "metadata": {
        "id": "ZesS8nWeWrkP"
      },
      "execution_count": null,
      "outputs": []
    }
  ]
}